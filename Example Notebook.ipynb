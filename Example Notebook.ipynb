{
 "cells": [
  {
   "cell_type": "code",
   "execution_count": 39,
   "metadata": {},
   "outputs": [],
   "source": [
    "from roi import equity, external, utilities, macro, metrics, cost, surveys\n",
    "import pandas as pd\n",
    "import matplotlib.pyplot as plt\n",
    "import numpy as np\n",
    "import seaborn as sns\n",
    "\n",
    "# make figures readable by humans instead of mice\n",
    "plt.rcParams['figure.figsize'] = [8, 4]\n",
    "plt.rcParams['figure.dpi'] = 100"
   ]
  },
  {
   "cell_type": "markdown",
   "metadata": {},
   "source": [
    "__Section 1: Setup__"
   ]
  },
  {
   "cell_type": "markdown",
   "metadata": {},
   "source": [
    "This notebook provides some simple instruction in many of the basic methods offered by the ROI Toolkit. Below, we import two files containing fake simulated data. The code to create these files lives in the `testing` directory under the top level of the `roi-toolkit` repo."
   ]
  },
  {
   "cell_type": "code",
   "execution_count": 3,
   "metadata": {},
   "outputs": [],
   "source": [
    "bls_api_key = \"c8803d0ba66c4592b8b0eff68ac9ebb0\" # BLS API Key - free and easy to get"
   ]
  },
  {
   "cell_type": "code",
   "execution_count": 4,
   "metadata": {},
   "outputs": [],
   "source": [
    "data = pd.read_csv(\"testing/testing-data/test_microdata.csv\") # Fake student-level data"
   ]
  },
  {
   "cell_type": "code",
   "execution_count": 5,
   "metadata": {},
   "outputs": [],
   "source": [
    "programs = pd.read_csv(\"testing/testing-data/programs.csv\") # Fake program-level data"
   ]
  },
  {
   "cell_type": "markdown",
   "metadata": {},
   "source": [
    "Here we take a look at the sample data. It contains joined educational and wage records, with one row for each individual. This fake data includes only two earnings columns, `earnings_start` and `earnings_end`. In this data, these columns denote annualized individual earnings, denoted in denominal dollars, at some set periods before and after program entry and exit, e.g. the final quarter before entry and the first quarter after.\n",
    "\n",
    "Ideally, in real data you'll have many of these columns—for example, at 1, 5, and 10 years after program completion. All of the steps in this notebook can be repeated with multiple \"after\" columns; in the example, we use only one."
   ]
  },
  {
   "cell_type": "code",
   "execution_count": 6,
   "metadata": {},
   "outputs": [
    {
     "data": {
      "text/html": [
       "<div>\n",
       "<style scoped>\n",
       "    .dataframe tbody tr th:only-of-type {\n",
       "        vertical-align: middle;\n",
       "    }\n",
       "\n",
       "    .dataframe tbody tr th {\n",
       "        vertical-align: top;\n",
       "    }\n",
       "\n",
       "    .dataframe thead th {\n",
       "        text-align: right;\n",
       "    }\n",
       "</style>\n",
       "<table border=\"1\" class=\"dataframe\">\n",
       "  <thead>\n",
       "    <tr style=\"text-align: right;\">\n",
       "      <th></th>\n",
       "      <th>Unnamed: 0</th>\n",
       "      <th>race</th>\n",
       "      <th>gender</th>\n",
       "      <th>earnings_start</th>\n",
       "      <th>earnings_end</th>\n",
       "      <th>age</th>\n",
       "      <th>program</th>\n",
       "      <th>program_start</th>\n",
       "      <th>program_end</th>\n",
       "      <th>education_level</th>\n",
       "      <th>...</th>\n",
       "      <th>employed_at_start</th>\n",
       "      <th>state</th>\n",
       "      <th>full_address</th>\n",
       "      <th>Address</th>\n",
       "      <th>City</th>\n",
       "      <th>State</th>\n",
       "      <th>Zip</th>\n",
       "      <th>id</th>\n",
       "      <th>start_month</th>\n",
       "      <th>end_month</th>\n",
       "    </tr>\n",
       "  </thead>\n",
       "  <tbody>\n",
       "    <tr>\n",
       "      <th>0</th>\n",
       "      <td>1</td>\n",
       "      <td>White</td>\n",
       "      <td>Male</td>\n",
       "      <td>46027.000</td>\n",
       "      <td>91781.300</td>\n",
       "      <td>25</td>\n",
       "      <td>Electrical Engineering</td>\n",
       "      <td>2014</td>\n",
       "      <td>2016</td>\n",
       "      <td>0</td>\n",
       "      <td>...</td>\n",
       "      <td>1</td>\n",
       "      <td>8</td>\n",
       "      <td>1647 COURT STREET REDDING CA 96001</td>\n",
       "      <td>1647 COURT STREET</td>\n",
       "      <td>REDDING</td>\n",
       "      <td>CA</td>\n",
       "      <td>96001.000</td>\n",
       "      <td>5335</td>\n",
       "      <td>9</td>\n",
       "      <td>6</td>\n",
       "    </tr>\n",
       "    <tr>\n",
       "      <th>1</th>\n",
       "      <td>2</td>\n",
       "      <td>White</td>\n",
       "      <td>Male</td>\n",
       "      <td>41976.000</td>\n",
       "      <td>66896.700</td>\n",
       "      <td>25</td>\n",
       "      <td>Electrical Engineering</td>\n",
       "      <td>2017</td>\n",
       "      <td>2025</td>\n",
       "      <td>0</td>\n",
       "      <td>...</td>\n",
       "      <td>1</td>\n",
       "      <td>8</td>\n",
       "      <td>NaN</td>\n",
       "      <td>NaN</td>\n",
       "      <td>NaN</td>\n",
       "      <td>NaN</td>\n",
       "      <td>nan</td>\n",
       "      <td>8340</td>\n",
       "      <td>9</td>\n",
       "      <td>6</td>\n",
       "    </tr>\n",
       "    <tr>\n",
       "      <th>2</th>\n",
       "      <td>3</td>\n",
       "      <td>White</td>\n",
       "      <td>Male</td>\n",
       "      <td>61396.000</td>\n",
       "      <td>74524.600</td>\n",
       "      <td>51</td>\n",
       "      <td>Electrical Engineering</td>\n",
       "      <td>2014</td>\n",
       "      <td>2019</td>\n",
       "      <td>0</td>\n",
       "      <td>...</td>\n",
       "      <td>1</td>\n",
       "      <td>8</td>\n",
       "      <td>690 MEDICAL PARK DRIVE AIKEN SC 29801</td>\n",
       "      <td>690 MEDICAL PARK DRIVE</td>\n",
       "      <td>AIKEN</td>\n",
       "      <td>SC</td>\n",
       "      <td>29801.000</td>\n",
       "      <td>13875</td>\n",
       "      <td>8</td>\n",
       "      <td>7</td>\n",
       "    </tr>\n",
       "    <tr>\n",
       "      <th>3</th>\n",
       "      <td>4</td>\n",
       "      <td>White</td>\n",
       "      <td>Male</td>\n",
       "      <td>34089.000</td>\n",
       "      <td>92032.900</td>\n",
       "      <td>18</td>\n",
       "      <td>Electrical Engineering</td>\n",
       "      <td>2018</td>\n",
       "      <td>2022</td>\n",
       "      <td>0</td>\n",
       "      <td>...</td>\n",
       "      <td>1</td>\n",
       "      <td>8</td>\n",
       "      <td>NaN</td>\n",
       "      <td>NaN</td>\n",
       "      <td>NaN</td>\n",
       "      <td>NaN</td>\n",
       "      <td>nan</td>\n",
       "      <td>1201</td>\n",
       "      <td>9</td>\n",
       "      <td>5</td>\n",
       "    </tr>\n",
       "    <tr>\n",
       "      <th>4</th>\n",
       "      <td>5</td>\n",
       "      <td>White</td>\n",
       "      <td>Male</td>\n",
       "      <td>57897.000</td>\n",
       "      <td>79573.600</td>\n",
       "      <td>35</td>\n",
       "      <td>Electrical Engineering</td>\n",
       "      <td>2011</td>\n",
       "      <td>2013</td>\n",
       "      <td>0</td>\n",
       "      <td>...</td>\n",
       "      <td>1</td>\n",
       "      <td>8</td>\n",
       "      <td>1547 NORTH COAST HWY NEWPORT OR 97365</td>\n",
       "      <td>1547 NORTH COAST HWY</td>\n",
       "      <td>NEWPORT</td>\n",
       "      <td>OR</td>\n",
       "      <td>97365.000</td>\n",
       "      <td>15397</td>\n",
       "      <td>10</td>\n",
       "      <td>6</td>\n",
       "    </tr>\n",
       "  </tbody>\n",
       "</table>\n",
       "<p>5 rows × 22 columns</p>\n",
       "</div>"
      ],
      "text/plain": [
       "   Unnamed: 0   race gender  earnings_start  earnings_end  age  \\\n",
       "0           1  White   Male       46027.000     91781.300   25   \n",
       "1           2  White   Male       41976.000     66896.700   25   \n",
       "2           3  White   Male       61396.000     74524.600   51   \n",
       "3           4  White   Male       34089.000     92032.900   18   \n",
       "4           5  White   Male       57897.000     79573.600   35   \n",
       "\n",
       "                  program  program_start  program_end  education_level  ...  \\\n",
       "0  Electrical Engineering           2014         2016                0  ...   \n",
       "1  Electrical Engineering           2017         2025                0  ...   \n",
       "2  Electrical Engineering           2014         2019                0  ...   \n",
       "3  Electrical Engineering           2018         2022                0  ...   \n",
       "4  Electrical Engineering           2011         2013                0  ...   \n",
       "\n",
       "   employed_at_start  state                           full_address  \\\n",
       "0                  1      8     1647 COURT STREET REDDING CA 96001   \n",
       "1                  1      8                                    NaN   \n",
       "2                  1      8  690 MEDICAL PARK DRIVE AIKEN SC 29801   \n",
       "3                  1      8                                    NaN   \n",
       "4                  1      8  1547 NORTH COAST HWY NEWPORT OR 97365   \n",
       "\n",
       "                  Address     City State       Zip     id  start_month  \\\n",
       "0       1647 COURT STREET  REDDING    CA 96001.000   5335            9   \n",
       "1                     NaN      NaN   NaN       nan   8340            9   \n",
       "2  690 MEDICAL PARK DRIVE    AIKEN    SC 29801.000  13875            8   \n",
       "3                     NaN      NaN   NaN       nan   1201            9   \n",
       "4    1547 NORTH COAST HWY  NEWPORT    OR 97365.000  15397           10   \n",
       "\n",
       "   end_month  \n",
       "0          6  \n",
       "1          6  \n",
       "2          7  \n",
       "3          5  \n",
       "4          6  \n",
       "\n",
       "[5 rows x 22 columns]"
      ]
     },
     "execution_count": 6,
     "metadata": {},
     "output_type": "execute_result"
    }
   ],
   "source": [
    "data.head()"
   ]
  },
  {
   "cell_type": "markdown",
   "metadata": {},
   "source": [
    "__Section 2: Equity analysis__"
   ]
  },
  {
   "cell_type": "markdown",
   "metadata": {},
   "source": [
    "There are four key equity metric classes in the `equity` submodule: `Gini`, `Theil_T`, `Theil_L`, and `Variance_Analysis`. Each method inherits from the `Metric()` parent class. These methods can be supplied with numpy arrays, but the easiest way to use them is with the `.from_dataframe` factory method, demonstrated below with the following syntax:\n",
    "\n",
    "`from_dataframe(frame, group_columns, value_column, sample=False)`\n",
    "\n",
    "The `sample` argument uses only a random subset (without replacement) of the data in order to calculate the equity metric. This is really only necessary with the `Gini()` class, which needs to do pairwise comparisons across all observations, and therefore runs in factorial time."
   ]
  },
  {
   "cell_type": "code",
   "execution_count": 8,
   "metadata": {},
   "outputs": [
    {
     "name": "stderr",
     "output_type": "stream",
     "text": [
      "/Users/mattlerner/roi/sbir-roi/roi/equity.py:77: UserWarning: When sample == True, Metric() will use the value of sample to create a random subset of values that it will use for all calculations. This number will be stored as attribute .samplesize.\n",
      "  warnings.warn(\"When sample == True, Metric() will use the value of sample to create a random subset of values that it will use for all calculations. This number will be stored as attribute .samplesize.\")\n",
      "/Users/mattlerner/roi/sbir-roi/roi/equity.py:61: UserWarning: Data passed contains 103 NA values. All equity metrics are calculated by ignoring NA values, in effect dropping them. Please ensure that you have a strategy for dealing with these missing values. If values are not missing at random, e.g. if individuals with missing values have common traits, then ALL METRICS calculated will be biased.\n",
      "  warnings.warn(\"Data passed contains {} NA values. All equity metrics are calculated by ignoring NA values, in effect dropping them. Please ensure that you have a strategy for dealing with these missing values. If values are not missing at random, e.g. if individuals with missing values have common traits, then ALL METRICS calculated will be biased.\".format(self.nans))\n"
     ]
    }
   ],
   "source": [
    "gini = equity.Gini.from_dataframe(data, 'gender', 'earnings_end', sample = 2000) # library method\n",
    "gini.calculate()"
   ]
  },
  {
   "cell_type": "markdown",
   "metadata": {},
   "source": [
    "Above, you'll see the verbose warnings that are common to the `roi-toolkit` module. Users are kept appraised, as much as possible, about what's going on behind the scenes. Warnings should be read, and ignored only after they've been understood."
   ]
  },
  {
   "cell_type": "markdown",
   "metadata": {},
   "source": [
    "The `.calculate()` method attached to each equity class does the calculation work, as you might expect. It creates several new attributes of the class instance that can be used for equity analysis. The `.viz` attribute, for example, contains a Seaborn box plot allowing the analyst to visualize differences between groups."
   ]
  },
  {
   "cell_type": "code",
   "execution_count": 9,
   "metadata": {},
   "outputs": [
    {
     "data": {
      "image/png": "[encoded data removed]",
      "text/plain": [
       "<Figure size 800x400 with 1 Axes>"
      ]
     },
     "execution_count": 9,
     "metadata": {},
     "output_type": "execute_result"
    }
   ],
   "source": [
    "gini.viz"
   ]
  },
  {
   "cell_type": "markdown",
   "metadata": {},
   "source": [
    "One relatively uncommon feature of the equity classes included in the `equity` submodule is the inclusion of the `.ratio` attribute.\n",
    "\n",
    "Each of the four equity classes included in the submodule is broadly decomposable into \"within\" and \"between\"-group inequality. The values for these subcomponents are accessible (after `.calculate()` is run) at the instance attributes `.within` and `.between`, and their sum--the value of the calculated index--is accessible at `.overall`.\n",
    "\n",
    "The `.ratio` attribute is simply the ratio of `.between` to `.overall`: it takes a value between 0 and 1 and is broadly interpretable as the amount (the percentage) of variation that is accounted for by cross-group--instead of within-group variation.\n",
    "\n",
    "Values closer to 1 indicate that greater variation in, say, wages, is accounted for by someone's group membership. Depending on the grouping variable provided, this may or may not be indicative of an equity issue. Take an extreme case: a value of 1 and a grouping variable of `SES`. In this scenario, all the variation in program graduate wages is accounted for by student socioeconomic status. This would mean that, no matter what classes they take, what their personal aptitude is, or what grades they get, differences in student earnings are wholly accounted for by SES. Many analysts would take this to be a significant equity concern"
   ]
  },
  {
   "cell_type": "code",
   "execution_count": 10,
   "metadata": {},
   "outputs": [
    {
     "data": {
      "text/plain": [
       "0.3331446175942655"
      ]
     },
     "execution_count": 10,
     "metadata": {},
     "output_type": "execute_result"
    }
   ],
   "source": [
    "gini.ratio"
   ]
  },
  {
   "cell_type": "markdown",
   "metadata": {},
   "source": [
    "__Section 3: Geocode addresses__"
   ]
  },
  {
   "cell_type": "markdown",
   "metadata": {},
   "source": [
    "In order to use information about particular geographic areas in the United States, it may be necessary to u.s. __geocodes__. Geocodes are used by the U.S. Census in order to uniquely identify areas as small as a census tract. The `external.Census.get_batch_geocode()` method takes a dataframe and queries the U.S. Census geocoding API to get geocodes for the addresses included in the frame.\n",
    "\n",
    "This method uses the [geocoding API](https://geocoding.geo.census.gov/geocoder/Geocoding_Services_API.pdf) from the census to get unique twelve-digit IDs that identify specific Census block groups in the U.S. You can find more information on the Census [web site](https://geocoding.geo.census.gov/)."
   ]
  },
  {
   "cell_type": "code",
   "execution_count": 13,
   "metadata": {},
   "outputs": [],
   "source": [
    "small_data = data.sample(40)"
   ]
  },
  {
   "cell_type": "code",
   "execution_count": 14,
   "metadata": {},
   "outputs": [
    {
     "data": {
      "text/html": [
       "<div>\n",
       "<style scoped>\n",
       "    .dataframe tbody tr th:only-of-type {\n",
       "        vertical-align: middle;\n",
       "    }\n",
       "\n",
       "    .dataframe tbody tr th {\n",
       "        vertical-align: top;\n",
       "    }\n",
       "\n",
       "    .dataframe thead th {\n",
       "        text-align: right;\n",
       "    }\n",
       "</style>\n",
       "<table border=\"1\" class=\"dataframe\">\n",
       "  <thead>\n",
       "    <tr style=\"text-align: right;\">\n",
       "      <th></th>\n",
       "      <th>Unnamed: 0</th>\n",
       "      <th>race</th>\n",
       "      <th>gender</th>\n",
       "      <th>earnings_start</th>\n",
       "      <th>earnings_end</th>\n",
       "      <th>age</th>\n",
       "      <th>program</th>\n",
       "      <th>program_start</th>\n",
       "      <th>program_end</th>\n",
       "      <th>education_level</th>\n",
       "      <th>...</th>\n",
       "      <th>employed_at_start</th>\n",
       "      <th>state</th>\n",
       "      <th>full_address</th>\n",
       "      <th>Address</th>\n",
       "      <th>City</th>\n",
       "      <th>State</th>\n",
       "      <th>Zip</th>\n",
       "      <th>id</th>\n",
       "      <th>start_month</th>\n",
       "      <th>end_month</th>\n",
       "    </tr>\n",
       "  </thead>\n",
       "  <tbody>\n",
       "    <tr>\n",
       "      <th>2190</th>\n",
       "      <td>2191</td>\n",
       "      <td>Asian or Pacific Islander</td>\n",
       "      <td>Male</td>\n",
       "      <td>30353.000</td>\n",
       "      <td>nan</td>\n",
       "      <td>53</td>\n",
       "      <td>Art History</td>\n",
       "      <td>2014</td>\n",
       "      <td>2019</td>\n",
       "      <td>60</td>\n",
       "      <td>...</td>\n",
       "      <td>0</td>\n",
       "      <td>8</td>\n",
       "      <td>NaN</td>\n",
       "      <td>NaN</td>\n",
       "      <td>NaN</td>\n",
       "      <td>NaN</td>\n",
       "      <td>nan</td>\n",
       "      <td>620</td>\n",
       "      <td>8</td>\n",
       "      <td>7</td>\n",
       "    </tr>\n",
       "    <tr>\n",
       "      <th>3134</th>\n",
       "      <td>3135</td>\n",
       "      <td>Asian or Pacific Islander</td>\n",
       "      <td>Other/unspecified</td>\n",
       "      <td>20183.000</td>\n",
       "      <td>27948.510</td>\n",
       "      <td>18</td>\n",
       "      <td>Biology</td>\n",
       "      <td>2013</td>\n",
       "      <td>2016</td>\n",
       "      <td>60</td>\n",
       "      <td>...</td>\n",
       "      <td>1</td>\n",
       "      <td>8</td>\n",
       "      <td>121 E. CEDAR STREET, PO BOX 100550 FLORENCE SC...</td>\n",
       "      <td>121 E. CEDAR STREET, PO BOX 100550</td>\n",
       "      <td>FLORENCE</td>\n",
       "      <td>SC</td>\n",
       "      <td>29501.000</td>\n",
       "      <td>15210</td>\n",
       "      <td>9</td>\n",
       "      <td>5</td>\n",
       "    </tr>\n",
       "    <tr>\n",
       "      <th>9719</th>\n",
       "      <td>9720</td>\n",
       "      <td>Other</td>\n",
       "      <td>Male</td>\n",
       "      <td>26787.000</td>\n",
       "      <td>46582.200</td>\n",
       "      <td>23</td>\n",
       "      <td>Economics</td>\n",
       "      <td>2014</td>\n",
       "      <td>2015</td>\n",
       "      <td>111</td>\n",
       "      <td>...</td>\n",
       "      <td>0</td>\n",
       "      <td>8</td>\n",
       "      <td>2029  ASHEVILLE HIGHWAY HENDERSONVILLE NC 28739</td>\n",
       "      <td>2029  ASHEVILLE HIGHWAY</td>\n",
       "      <td>HENDERSONVILLE</td>\n",
       "      <td>NC</td>\n",
       "      <td>28739.000</td>\n",
       "      <td>1784</td>\n",
       "      <td>10</td>\n",
       "      <td>6</td>\n",
       "    </tr>\n",
       "    <tr>\n",
       "      <th>9723</th>\n",
       "      <td>9724</td>\n",
       "      <td>Other</td>\n",
       "      <td>Male</td>\n",
       "      <td>27723.000</td>\n",
       "      <td>46797.800</td>\n",
       "      <td>38</td>\n",
       "      <td>Economics</td>\n",
       "      <td>2012</td>\n",
       "      <td>2015</td>\n",
       "      <td>111</td>\n",
       "      <td>...</td>\n",
       "      <td>1</td>\n",
       "      <td>8</td>\n",
       "      <td>5003 HORIZONS DRIVE, SUITE 100 COLUMBUS OH 43220</td>\n",
       "      <td>5003 HORIZONS DRIVE, SUITE 100</td>\n",
       "      <td>COLUMBUS</td>\n",
       "      <td>OH</td>\n",
       "      <td>43220.000</td>\n",
       "      <td>14173</td>\n",
       "      <td>10</td>\n",
       "      <td>7</td>\n",
       "    </tr>\n",
       "    <tr>\n",
       "      <th>2377</th>\n",
       "      <td>2378</td>\n",
       "      <td>Other</td>\n",
       "      <td>Other/unspecified</td>\n",
       "      <td>27332.000</td>\n",
       "      <td>28858.775</td>\n",
       "      <td>27</td>\n",
       "      <td>Art History</td>\n",
       "      <td>2018</td>\n",
       "      <td>2020</td>\n",
       "      <td>60</td>\n",
       "      <td>...</td>\n",
       "      <td>0</td>\n",
       "      <td>8</td>\n",
       "      <td>700 RIVER DRIVE FORT BRAGG CA 95437</td>\n",
       "      <td>700 RIVER DRIVE</td>\n",
       "      <td>FORT BRAGG</td>\n",
       "      <td>CA</td>\n",
       "      <td>95437.000</td>\n",
       "      <td>3435</td>\n",
       "      <td>9</td>\n",
       "      <td>5</td>\n",
       "    </tr>\n",
       "  </tbody>\n",
       "</table>\n",
       "<p>5 rows × 22 columns</p>\n",
       "</div>"
      ],
      "text/plain": [
       "      Unnamed: 0                       race             gender  \\\n",
       "2190        2191  Asian or Pacific Islander               Male   \n",
       "3134        3135  Asian or Pacific Islander  Other/unspecified   \n",
       "9719        9720                      Other               Male   \n",
       "9723        9724                      Other               Male   \n",
       "2377        2378                      Other  Other/unspecified   \n",
       "\n",
       "      earnings_start  earnings_end  age      program  program_start  \\\n",
       "2190       30353.000           nan   53  Art History           2014   \n",
       "3134       20183.000     27948.510   18      Biology           2013   \n",
       "9719       26787.000     46582.200   23    Economics           2014   \n",
       "9723       27723.000     46797.800   38    Economics           2012   \n",
       "2377       27332.000     28858.775   27  Art History           2018   \n",
       "\n",
       "      program_end  education_level  ...  employed_at_start  state  \\\n",
       "2190         2019               60  ...                  0      8   \n",
       "3134         2016               60  ...                  1      8   \n",
       "9719         2015              111  ...                  0      8   \n",
       "9723         2015              111  ...                  1      8   \n",
       "2377         2020               60  ...                  0      8   \n",
       "\n",
       "                                           full_address  \\\n",
       "2190                                                NaN   \n",
       "3134  121 E. CEDAR STREET, PO BOX 100550 FLORENCE SC...   \n",
       "9719    2029  ASHEVILLE HIGHWAY HENDERSONVILLE NC 28739   \n",
       "9723   5003 HORIZONS DRIVE, SUITE 100 COLUMBUS OH 43220   \n",
       "2377                700 RIVER DRIVE FORT BRAGG CA 95437   \n",
       "\n",
       "                                 Address            City State       Zip  \\\n",
       "2190                                 NaN             NaN   NaN       nan   \n",
       "3134  121 E. CEDAR STREET, PO BOX 100550        FLORENCE    SC 29501.000   \n",
       "9719             2029  ASHEVILLE HIGHWAY  HENDERSONVILLE    NC 28739.000   \n",
       "9723      5003 HORIZONS DRIVE, SUITE 100        COLUMBUS    OH 43220.000   \n",
       "2377                     700 RIVER DRIVE      FORT BRAGG    CA 95437.000   \n",
       "\n",
       "         id  start_month  end_month  \n",
       "2190    620            8          7  \n",
       "3134  15210            9          5  \n",
       "9719   1784           10          6  \n",
       "9723  14173           10          7  \n",
       "2377   3435            9          5  \n",
       "\n",
       "[5 rows x 22 columns]"
      ]
     },
     "execution_count": 14,
     "metadata": {},
     "output_type": "execute_result"
    }
   ],
   "source": [
    "small_data.head()"
   ]
  },
  {
   "cell_type": "code",
   "execution_count": 15,
   "metadata": {},
   "outputs": [
    {
     "name": "stdout",
     "output_type": "stream",
     "text": [
      "Successfully geocoded 42.5% of 40 passed addresses.\n",
      "Of successfully matched addresses, 88.24% were exact matches\n"
     ]
    }
   ],
   "source": [
    "small_data['geocode'] = external.Census.get_batch_geocode(small_data)"
   ]
  },
  {
   "cell_type": "markdown",
   "metadata": {},
   "source": [
    "As you can see, the geocoding method is verbose, telling the user exactly how many addresses were matched and what percentage of those were matched exactly. The method returns a Pandas series which is most easily deployed simply by adding it as a column to the original dataframe, which you can see below."
   ]
  },
  {
   "cell_type": "code",
   "execution_count": 17,
   "metadata": {},
   "outputs": [
    {
     "data": {
      "text/html": [
       "<div>\n",
       "<style scoped>\n",
       "    .dataframe tbody tr th:only-of-type {\n",
       "        vertical-align: middle;\n",
       "    }\n",
       "\n",
       "    .dataframe tbody tr th {\n",
       "        vertical-align: top;\n",
       "    }\n",
       "\n",
       "    .dataframe thead th {\n",
       "        text-align: right;\n",
       "    }\n",
       "</style>\n",
       "<table border=\"1\" class=\"dataframe\">\n",
       "  <thead>\n",
       "    <tr style=\"text-align: right;\">\n",
       "      <th></th>\n",
       "      <th>Unnamed: 0</th>\n",
       "      <th>race</th>\n",
       "      <th>gender</th>\n",
       "      <th>earnings_start</th>\n",
       "      <th>earnings_end</th>\n",
       "      <th>age</th>\n",
       "      <th>program</th>\n",
       "      <th>program_start</th>\n",
       "      <th>program_end</th>\n",
       "      <th>education_level</th>\n",
       "      <th>...</th>\n",
       "      <th>state</th>\n",
       "      <th>full_address</th>\n",
       "      <th>Address</th>\n",
       "      <th>City</th>\n",
       "      <th>State</th>\n",
       "      <th>Zip</th>\n",
       "      <th>id</th>\n",
       "      <th>start_month</th>\n",
       "      <th>end_month</th>\n",
       "      <th>geocode</th>\n",
       "    </tr>\n",
       "  </thead>\n",
       "  <tbody>\n",
       "    <tr>\n",
       "      <th>2190</th>\n",
       "      <td>2191</td>\n",
       "      <td>Asian or Pacific Islander</td>\n",
       "      <td>Male</td>\n",
       "      <td>30353.000</td>\n",
       "      <td>nan</td>\n",
       "      <td>53</td>\n",
       "      <td>Art History</td>\n",
       "      <td>2014</td>\n",
       "      <td>2019</td>\n",
       "      <td>60</td>\n",
       "      <td>...</td>\n",
       "      <td>8</td>\n",
       "      <td>NaN</td>\n",
       "      <td>NaN</td>\n",
       "      <td>NaN</td>\n",
       "      <td>NaN</td>\n",
       "      <td>nan</td>\n",
       "      <td>620</td>\n",
       "      <td>8</td>\n",
       "      <td>7</td>\n",
       "      <td></td>\n",
       "    </tr>\n",
       "    <tr>\n",
       "      <th>3134</th>\n",
       "      <td>3135</td>\n",
       "      <td>Asian or Pacific Islander</td>\n",
       "      <td>Other/unspecified</td>\n",
       "      <td>20183.000</td>\n",
       "      <td>27948.510</td>\n",
       "      <td>18</td>\n",
       "      <td>Biology</td>\n",
       "      <td>2013</td>\n",
       "      <td>2016</td>\n",
       "      <td>60</td>\n",
       "      <td>...</td>\n",
       "      <td>8</td>\n",
       "      <td>121 E. CEDAR STREET, PO BOX 100550 FLORENCE SC...</td>\n",
       "      <td>121 E. CEDAR STREET, PO BOX 100550</td>\n",
       "      <td>FLORENCE</td>\n",
       "      <td>SC</td>\n",
       "      <td>29501.000</td>\n",
       "      <td>15210</td>\n",
       "      <td>9</td>\n",
       "      <td>5</td>\n",
       "      <td></td>\n",
       "    </tr>\n",
       "    <tr>\n",
       "      <th>9719</th>\n",
       "      <td>9720</td>\n",
       "      <td>Other</td>\n",
       "      <td>Male</td>\n",
       "      <td>26787.000</td>\n",
       "      <td>46582.200</td>\n",
       "      <td>23</td>\n",
       "      <td>Economics</td>\n",
       "      <td>2014</td>\n",
       "      <td>2015</td>\n",
       "      <td>111</td>\n",
       "      <td>...</td>\n",
       "      <td>8</td>\n",
       "      <td>2029  ASHEVILLE HIGHWAY HENDERSONVILLE NC 28739</td>\n",
       "      <td>2029  ASHEVILLE HIGHWAY</td>\n",
       "      <td>HENDERSONVILLE</td>\n",
       "      <td>NC</td>\n",
       "      <td>28739.000</td>\n",
       "      <td>1784</td>\n",
       "      <td>10</td>\n",
       "      <td>6</td>\n",
       "      <td>370899309002</td>\n",
       "    </tr>\n",
       "    <tr>\n",
       "      <th>9723</th>\n",
       "      <td>9724</td>\n",
       "      <td>Other</td>\n",
       "      <td>Male</td>\n",
       "      <td>27723.000</td>\n",
       "      <td>46797.800</td>\n",
       "      <td>38</td>\n",
       "      <td>Economics</td>\n",
       "      <td>2012</td>\n",
       "      <td>2015</td>\n",
       "      <td>111</td>\n",
       "      <td>...</td>\n",
       "      <td>8</td>\n",
       "      <td>5003 HORIZONS DRIVE, SUITE 100 COLUMBUS OH 43220</td>\n",
       "      <td>5003 HORIZONS DRIVE, SUITE 100</td>\n",
       "      <td>COLUMBUS</td>\n",
       "      <td>OH</td>\n",
       "      <td>43220.000</td>\n",
       "      <td>14173</td>\n",
       "      <td>10</td>\n",
       "      <td>7</td>\n",
       "      <td></td>\n",
       "    </tr>\n",
       "    <tr>\n",
       "      <th>2377</th>\n",
       "      <td>2378</td>\n",
       "      <td>Other</td>\n",
       "      <td>Other/unspecified</td>\n",
       "      <td>27332.000</td>\n",
       "      <td>28858.775</td>\n",
       "      <td>27</td>\n",
       "      <td>Art History</td>\n",
       "      <td>2018</td>\n",
       "      <td>2020</td>\n",
       "      <td>60</td>\n",
       "      <td>...</td>\n",
       "      <td>8</td>\n",
       "      <td>700 RIVER DRIVE FORT BRAGG CA 95437</td>\n",
       "      <td>700 RIVER DRIVE</td>\n",
       "      <td>FORT BRAGG</td>\n",
       "      <td>CA</td>\n",
       "      <td>95437.000</td>\n",
       "      <td>3435</td>\n",
       "      <td>9</td>\n",
       "      <td>5</td>\n",
       "      <td>060450105004</td>\n",
       "    </tr>\n",
       "  </tbody>\n",
       "</table>\n",
       "<p>5 rows × 23 columns</p>\n",
       "</div>"
      ],
      "text/plain": [
       "      Unnamed: 0                       race             gender  \\\n",
       "2190        2191  Asian or Pacific Islander               Male   \n",
       "3134        3135  Asian or Pacific Islander  Other/unspecified   \n",
       "9719        9720                      Other               Male   \n",
       "9723        9724                      Other               Male   \n",
       "2377        2378                      Other  Other/unspecified   \n",
       "\n",
       "      earnings_start  earnings_end  age      program  program_start  \\\n",
       "2190       30353.000           nan   53  Art History           2014   \n",
       "3134       20183.000     27948.510   18      Biology           2013   \n",
       "9719       26787.000     46582.200   23    Economics           2014   \n",
       "9723       27723.000     46797.800   38    Economics           2012   \n",
       "2377       27332.000     28858.775   27  Art History           2018   \n",
       "\n",
       "      program_end  education_level  ...  state  \\\n",
       "2190         2019               60  ...      8   \n",
       "3134         2016               60  ...      8   \n",
       "9719         2015              111  ...      8   \n",
       "9723         2015              111  ...      8   \n",
       "2377         2020               60  ...      8   \n",
       "\n",
       "                                           full_address  \\\n",
       "2190                                                NaN   \n",
       "3134  121 E. CEDAR STREET, PO BOX 100550 FLORENCE SC...   \n",
       "9719    2029  ASHEVILLE HIGHWAY HENDERSONVILLE NC 28739   \n",
       "9723   5003 HORIZONS DRIVE, SUITE 100 COLUMBUS OH 43220   \n",
       "2377                700 RIVER DRIVE FORT BRAGG CA 95437   \n",
       "\n",
       "                                 Address            City State       Zip  \\\n",
       "2190                                 NaN             NaN   NaN       nan   \n",
       "3134  121 E. CEDAR STREET, PO BOX 100550        FLORENCE    SC 29501.000   \n",
       "9719             2029  ASHEVILLE HIGHWAY  HENDERSONVILLE    NC 28739.000   \n",
       "9723      5003 HORIZONS DRIVE, SUITE 100        COLUMBUS    OH 43220.000   \n",
       "2377                     700 RIVER DRIVE      FORT BRAGG    CA 95437.000   \n",
       "\n",
       "         id start_month  end_month       geocode  \n",
       "2190    620           8          7                \n",
       "3134  15210           9          5                \n",
       "9719   1784          10          6  370899309002  \n",
       "9723  14173          10          7                \n",
       "2377   3435           9          5  060450105004  \n",
       "\n",
       "[5 rows x 23 columns]"
      ]
     },
     "execution_count": 17,
     "metadata": {},
     "output_type": "execute_result"
    }
   ],
   "source": [
    "small_data.head()"
   ]
  },
  {
   "cell_type": "markdown",
   "metadata": {},
   "source": [
    "__Section 4: Get SES for each individual with a geocode__"
   ]
  },
  {
   "cell_type": "markdown",
   "metadata": {},
   "source": [
    "One useful thing you can do with Census geocodes is to join them with datasets that provide geographically-sourced data that can give a clue as to individuals' socioeconomic status.\n",
    "\n",
    "One such dataset is the [Area Deprivation Index](https://www.neighborhoodatlas.medicine.wisc.edu/) from the University of Wisconsin. The ADI classifies Census block groups on a scale from 1-100, where 100 is the most \"deprived.\" We use ADI here as a proxy for socioeconomic status.\n",
    "\n",
    "The ROI Toolkit is packaged with the latest ADI dataset. When you call the `equity.ADI()` method below, the module loads up the data and then separates the block groups into five quintiles of deprivation, with the highest quintile (\"80-100\") being the most deprived."
   ]
  },
  {
   "cell_type": "code",
   "execution_count": 19,
   "metadata": {},
   "outputs": [],
   "source": [
    "adi = equity.ADI()"
   ]
  },
  {
   "cell_type": "markdown",
   "metadata": {},
   "source": [
    "On running the `.get_quintile_for_geocodes_frame()` method, you'll get back a Pandas series in the same order as the original dataframe. The method will tell you exactly how many of the rows provided were matched with ADI quintiles. The percentage should match the percentage of addresses that were geocoded above."
   ]
  },
  {
   "cell_type": "code",
   "execution_count": 20,
   "metadata": {},
   "outputs": [
    {
     "name": "stdout",
     "output_type": "stream",
     "text": [
      "Geocode merge: Merged 17 of 40 observations in input dataframe (42.5%)\n"
     ]
    }
   ],
   "source": [
    "small_data['ses'] = adi.get_quintile_for_geocodes_frame(small_data, 'geocode') # library method"
   ]
  },
  {
   "cell_type": "code",
   "execution_count": 22,
   "metadata": {},
   "outputs": [
    {
     "data": {
      "text/html": [
       "<div>\n",
       "<style scoped>\n",
       "    .dataframe tbody tr th:only-of-type {\n",
       "        vertical-align: middle;\n",
       "    }\n",
       "\n",
       "    .dataframe tbody tr th {\n",
       "        vertical-align: top;\n",
       "    }\n",
       "\n",
       "    .dataframe thead th {\n",
       "        text-align: right;\n",
       "    }\n",
       "</style>\n",
       "<table border=\"1\" class=\"dataframe\">\n",
       "  <thead>\n",
       "    <tr style=\"text-align: right;\">\n",
       "      <th></th>\n",
       "      <th>Unnamed: 0</th>\n",
       "      <th>race</th>\n",
       "      <th>gender</th>\n",
       "      <th>earnings_start</th>\n",
       "      <th>earnings_end</th>\n",
       "      <th>age</th>\n",
       "      <th>program</th>\n",
       "      <th>program_start</th>\n",
       "      <th>program_end</th>\n",
       "      <th>education_level</th>\n",
       "      <th>...</th>\n",
       "      <th>full_address</th>\n",
       "      <th>Address</th>\n",
       "      <th>City</th>\n",
       "      <th>State</th>\n",
       "      <th>Zip</th>\n",
       "      <th>id</th>\n",
       "      <th>start_month</th>\n",
       "      <th>end_month</th>\n",
       "      <th>geocode</th>\n",
       "      <th>ses</th>\n",
       "    </tr>\n",
       "  </thead>\n",
       "  <tbody>\n",
       "    <tr>\n",
       "      <th>4264</th>\n",
       "      <td>4265</td>\n",
       "      <td>Other</td>\n",
       "      <td>Other/unspecified</td>\n",
       "      <td>32331.000</td>\n",
       "      <td>40334.030</td>\n",
       "      <td>34</td>\n",
       "      <td>Art History</td>\n",
       "      <td>2011</td>\n",
       "      <td>2014</td>\n",
       "      <td>73</td>\n",
       "      <td>...</td>\n",
       "      <td>NaN</td>\n",
       "      <td>NaN</td>\n",
       "      <td>NaN</td>\n",
       "      <td>NaN</td>\n",
       "      <td>nan</td>\n",
       "      <td>10003</td>\n",
       "      <td>10</td>\n",
       "      <td>7</td>\n",
       "      <td></td>\n",
       "      <td>NaN</td>\n",
       "    </tr>\n",
       "    <tr>\n",
       "      <th>2377</th>\n",
       "      <td>2378</td>\n",
       "      <td>Other</td>\n",
       "      <td>Other/unspecified</td>\n",
       "      <td>27332.000</td>\n",
       "      <td>28858.775</td>\n",
       "      <td>27</td>\n",
       "      <td>Art History</td>\n",
       "      <td>2018</td>\n",
       "      <td>2020</td>\n",
       "      <td>60</td>\n",
       "      <td>...</td>\n",
       "      <td>700 RIVER DRIVE FORT BRAGG CA 95437</td>\n",
       "      <td>700 RIVER DRIVE</td>\n",
       "      <td>FORT BRAGG</td>\n",
       "      <td>CA</td>\n",
       "      <td>95437.000</td>\n",
       "      <td>3435</td>\n",
       "      <td>9</td>\n",
       "      <td>5</td>\n",
       "      <td>060450105004</td>\n",
       "      <td>80-100</td>\n",
       "    </tr>\n",
       "    <tr>\n",
       "      <th>2570</th>\n",
       "      <td>2571</td>\n",
       "      <td>White</td>\n",
       "      <td>Other/unspecified</td>\n",
       "      <td>30780.000</td>\n",
       "      <td>44509.570</td>\n",
       "      <td>18</td>\n",
       "      <td>Economics</td>\n",
       "      <td>2014</td>\n",
       "      <td>2016</td>\n",
       "      <td>60</td>\n",
       "      <td>...</td>\n",
       "      <td>NaN</td>\n",
       "      <td>NaN</td>\n",
       "      <td>NaN</td>\n",
       "      <td>NaN</td>\n",
       "      <td>nan</td>\n",
       "      <td>11856</td>\n",
       "      <td>8</td>\n",
       "      <td>6</td>\n",
       "      <td></td>\n",
       "      <td>NaN</td>\n",
       "    </tr>\n",
       "    <tr>\n",
       "      <th>11961</th>\n",
       "      <td>11962</td>\n",
       "      <td>Other</td>\n",
       "      <td>Other/unspecified</td>\n",
       "      <td>19847.000</td>\n",
       "      <td>18384.480</td>\n",
       "      <td>25</td>\n",
       "      <td>Anthropology</td>\n",
       "      <td>2013</td>\n",
       "      <td>2018</td>\n",
       "      <td>123</td>\n",
       "      <td>...</td>\n",
       "      <td>2959 WEST 95TH STREET EVERGREEN PARK IL 60805</td>\n",
       "      <td>2959 WEST 95TH STREET</td>\n",
       "      <td>EVERGREEN PARK</td>\n",
       "      <td>IL</td>\n",
       "      <td>60805.000</td>\n",
       "      <td>1623</td>\n",
       "      <td>8</td>\n",
       "      <td>7</td>\n",
       "      <td>170318218002</td>\n",
       "      <td>40-60</td>\n",
       "    </tr>\n",
       "    <tr>\n",
       "      <th>14108</th>\n",
       "      <td>14109</td>\n",
       "      <td>Black</td>\n",
       "      <td>Male</td>\n",
       "      <td>37930.000</td>\n",
       "      <td>36852.200</td>\n",
       "      <td>35</td>\n",
       "      <td>French Literature</td>\n",
       "      <td>2015</td>\n",
       "      <td>2016</td>\n",
       "      <td>124</td>\n",
       "      <td>...</td>\n",
       "      <td>NaN</td>\n",
       "      <td>NaN</td>\n",
       "      <td>NaN</td>\n",
       "      <td>NaN</td>\n",
       "      <td>nan</td>\n",
       "      <td>7927</td>\n",
       "      <td>8</td>\n",
       "      <td>7</td>\n",
       "      <td></td>\n",
       "      <td>NaN</td>\n",
       "    </tr>\n",
       "    <tr>\n",
       "      <th>2699</th>\n",
       "      <td>2700</td>\n",
       "      <td>Asian or Pacific Islander</td>\n",
       "      <td>Male</td>\n",
       "      <td>34055.000</td>\n",
       "      <td>35169.600</td>\n",
       "      <td>32</td>\n",
       "      <td>Anthropology</td>\n",
       "      <td>2014</td>\n",
       "      <td>2015</td>\n",
       "      <td>60</td>\n",
       "      <td>...</td>\n",
       "      <td>NaN</td>\n",
       "      <td>NaN</td>\n",
       "      <td>NaN</td>\n",
       "      <td>NaN</td>\n",
       "      <td>nan</td>\n",
       "      <td>8703</td>\n",
       "      <td>10</td>\n",
       "      <td>5</td>\n",
       "      <td></td>\n",
       "      <td>NaN</td>\n",
       "    </tr>\n",
       "    <tr>\n",
       "      <th>14890</th>\n",
       "      <td>14891</td>\n",
       "      <td>Asian or Pacific Islander</td>\n",
       "      <td>Male</td>\n",
       "      <td>41165.000</td>\n",
       "      <td>48969.800</td>\n",
       "      <td>29</td>\n",
       "      <td>Art History</td>\n",
       "      <td>2012</td>\n",
       "      <td>2014</td>\n",
       "      <td>125</td>\n",
       "      <td>...</td>\n",
       "      <td>NaN</td>\n",
       "      <td>NaN</td>\n",
       "      <td>NaN</td>\n",
       "      <td>NaN</td>\n",
       "      <td>nan</td>\n",
       "      <td>15511</td>\n",
       "      <td>9</td>\n",
       "      <td>6</td>\n",
       "      <td></td>\n",
       "      <td>NaN</td>\n",
       "    </tr>\n",
       "    <tr>\n",
       "      <th>11100</th>\n",
       "      <td>11101</td>\n",
       "      <td>White</td>\n",
       "      <td>Female</td>\n",
       "      <td>20763.000</td>\n",
       "      <td>51185.640</td>\n",
       "      <td>36</td>\n",
       "      <td>Electrical Engineering</td>\n",
       "      <td>2012</td>\n",
       "      <td>2015</td>\n",
       "      <td>123</td>\n",
       "      <td>...</td>\n",
       "      <td>16600 SHERMAN WAY, STE 200 VAN NUYS CA 91406</td>\n",
       "      <td>16600 SHERMAN WAY, STE 200</td>\n",
       "      <td>VAN NUYS</td>\n",
       "      <td>CA</td>\n",
       "      <td>91406.000</td>\n",
       "      <td>12927</td>\n",
       "      <td>9</td>\n",
       "      <td>7</td>\n",
       "      <td>060371321023</td>\n",
       "      <td>0-20</td>\n",
       "    </tr>\n",
       "    <tr>\n",
       "      <th>373</th>\n",
       "      <td>374</td>\n",
       "      <td>White</td>\n",
       "      <td>Female</td>\n",
       "      <td>33631.000</td>\n",
       "      <td>41959.170</td>\n",
       "      <td>61</td>\n",
       "      <td>Art History</td>\n",
       "      <td>2016</td>\n",
       "      <td>2020</td>\n",
       "      <td>0</td>\n",
       "      <td>...</td>\n",
       "      <td>321 FORTUNE BOULEVARD, SUITE 106B MILFORD MA 1757</td>\n",
       "      <td>321 FORTUNE BOULEVARD, SUITE 106B</td>\n",
       "      <td>MILFORD</td>\n",
       "      <td>MA</td>\n",
       "      <td>1757.000</td>\n",
       "      <td>13712</td>\n",
       "      <td>10</td>\n",
       "      <td>5</td>\n",
       "      <td>250277442003</td>\n",
       "      <td>20-40</td>\n",
       "    </tr>\n",
       "    <tr>\n",
       "      <th>283</th>\n",
       "      <td>284</td>\n",
       "      <td>White</td>\n",
       "      <td>Male</td>\n",
       "      <td>40174.000</td>\n",
       "      <td>54447.800</td>\n",
       "      <td>21</td>\n",
       "      <td>Art History</td>\n",
       "      <td>2012</td>\n",
       "      <td>2018</td>\n",
       "      <td>0</td>\n",
       "      <td>...</td>\n",
       "      <td>2101 VISTA PARKWAY SUITE 102 WEST PALM BEACH F...</td>\n",
       "      <td>2101 VISTA PARKWAY SUITE 102</td>\n",
       "      <td>WEST PALM BEACH</td>\n",
       "      <td>FL</td>\n",
       "      <td>33411.000</td>\n",
       "      <td>5450</td>\n",
       "      <td>10</td>\n",
       "      <td>5</td>\n",
       "      <td>120990078362</td>\n",
       "      <td>40-60</td>\n",
       "    </tr>\n",
       "  </tbody>\n",
       "</table>\n",
       "<p>10 rows × 24 columns</p>\n",
       "</div>"
      ],
      "text/plain": [
       "       Unnamed: 0                       race             gender  \\\n",
       "4264         4265                      Other  Other/unspecified   \n",
       "2377         2378                      Other  Other/unspecified   \n",
       "2570         2571                      White  Other/unspecified   \n",
       "11961       11962                      Other  Other/unspecified   \n",
       "14108       14109                      Black               Male   \n",
       "2699         2700  Asian or Pacific Islander               Male   \n",
       "14890       14891  Asian or Pacific Islander               Male   \n",
       "11100       11101                      White             Female   \n",
       "373           374                      White             Female   \n",
       "283           284                      White               Male   \n",
       "\n",
       "       earnings_start  earnings_end  age                 program  \\\n",
       "4264        32331.000     40334.030   34             Art History   \n",
       "2377        27332.000     28858.775   27             Art History   \n",
       "2570        30780.000     44509.570   18               Economics   \n",
       "11961       19847.000     18384.480   25            Anthropology   \n",
       "14108       37930.000     36852.200   35       French Literature   \n",
       "2699        34055.000     35169.600   32            Anthropology   \n",
       "14890       41165.000     48969.800   29             Art History   \n",
       "11100       20763.000     51185.640   36  Electrical Engineering   \n",
       "373         33631.000     41959.170   61             Art History   \n",
       "283         40174.000     54447.800   21             Art History   \n",
       "\n",
       "       program_start  program_end  education_level  ...  \\\n",
       "4264            2011         2014               73  ...   \n",
       "2377            2018         2020               60  ...   \n",
       "2570            2014         2016               60  ...   \n",
       "11961           2013         2018              123  ...   \n",
       "14108           2015         2016              124  ...   \n",
       "2699            2014         2015               60  ...   \n",
       "14890           2012         2014              125  ...   \n",
       "11100           2012         2015              123  ...   \n",
       "373             2016         2020                0  ...   \n",
       "283             2012         2018                0  ...   \n",
       "\n",
       "                                            full_address  \\\n",
       "4264                                                 NaN   \n",
       "2377                 700 RIVER DRIVE FORT BRAGG CA 95437   \n",
       "2570                                                 NaN   \n",
       "11961      2959 WEST 95TH STREET EVERGREEN PARK IL 60805   \n",
       "14108                                                NaN   \n",
       "2699                                                 NaN   \n",
       "14890                                                NaN   \n",
       "11100       16600 SHERMAN WAY, STE 200 VAN NUYS CA 91406   \n",
       "373    321 FORTUNE BOULEVARD, SUITE 106B MILFORD MA 1757   \n",
       "283    2101 VISTA PARKWAY SUITE 102 WEST PALM BEACH F...   \n",
       "\n",
       "                                 Address             City  State       Zip  \\\n",
       "4264                                 NaN              NaN    NaN       nan   \n",
       "2377                     700 RIVER DRIVE       FORT BRAGG     CA 95437.000   \n",
       "2570                                 NaN              NaN    NaN       nan   \n",
       "11961              2959 WEST 95TH STREET   EVERGREEN PARK     IL 60805.000   \n",
       "14108                                NaN              NaN    NaN       nan   \n",
       "2699                                 NaN              NaN    NaN       nan   \n",
       "14890                                NaN              NaN    NaN       nan   \n",
       "11100         16600 SHERMAN WAY, STE 200         VAN NUYS     CA 91406.000   \n",
       "373    321 FORTUNE BOULEVARD, SUITE 106B          MILFORD     MA  1757.000   \n",
       "283         2101 VISTA PARKWAY SUITE 102  WEST PALM BEACH     FL 33411.000   \n",
       "\n",
       "          id start_month end_month       geocode     ses  \n",
       "4264   10003          10         7                   NaN  \n",
       "2377    3435           9         5  060450105004  80-100  \n",
       "2570   11856           8         6                   NaN  \n",
       "11961   1623           8         7  170318218002   40-60  \n",
       "14108   7927           8         7                   NaN  \n",
       "2699    8703          10         5                   NaN  \n",
       "14890  15511           9         6                   NaN  \n",
       "11100  12927           9         7  060371321023    0-20  \n",
       "373    13712          10         5  250277442003   20-40  \n",
       "283     5450          10         5  120990078362   40-60  \n",
       "\n",
       "[10 rows x 24 columns]"
      ]
     },
     "execution_count": 22,
     "metadata": {},
     "output_type": "execute_result"
    }
   ],
   "source": [
    "small_data.sample(10)"
   ]
  },
  {
   "cell_type": "markdown",
   "metadata": {},
   "source": [
    "__Section 5: Check out SES equity concerns__"
   ]
  },
  {
   "cell_type": "markdown",
   "metadata": {},
   "source": [
    "Once you've classified individuals into SESs, you can use the SES as a grouping variable-- another axis on which to investigate equity concerns. Here we use the `Theil_T()` method from the `equity` submodule. As it is an instance of the `Metric()` parent class, it has all of the same attributes and methods. You can read more about the Theil index on [Wikipedia](https://en.wikipedia.org/wiki/Theil_index)."
   ]
  },
  {
   "cell_type": "code",
   "execution_count": 23,
   "metadata": {},
   "outputs": [],
   "source": [
    "theil_t = equity.Theil_T.from_dataframe(small_data, 'ses', 'earnings_end') # library method"
   ]
  },
  {
   "cell_type": "code",
   "execution_count": 24,
   "metadata": {},
   "outputs": [],
   "source": [
    "theil_t.calculate()"
   ]
  },
  {
   "cell_type": "code",
   "execution_count": 25,
   "metadata": {},
   "outputs": [
    {
     "data": {
      "image/png": "[encoded data removed]",
      "text/plain": [
       "<Figure size 800x400 with 1 Axes>"
      ]
     },
     "execution_count": 25,
     "metadata": {},
     "output_type": "execute_result"
    }
   ],
   "source": [
    "theil_t.viz"
   ]
  },
  {
   "cell_type": "code",
   "execution_count": 26,
   "metadata": {},
   "outputs": [
    {
     "data": {
      "text/plain": [
       "0.20680992161391945"
      ]
     },
     "execution_count": 26,
     "metadata": {},
     "output_type": "execute_result"
    }
   ],
   "source": [
    "theil_t.ratio"
   ]
  },
  {
   "cell_type": "markdown",
   "metadata": {},
   "source": [
    "Again, the ratio attribute here tells the analyst how much variation is attributable to SES."
   ]
  },
  {
   "cell_type": "markdown",
   "metadata": {},
   "source": [
    "__Section 6: Calculate graduate wage summary statistics__"
   ]
  },
  {
   "cell_type": "markdown",
   "metadata": {},
   "source": [
    "Another useful think that `roi-toolkit` allows you to do is adjust for inflation. This can be very important when you have multiple years of data. Students' starting earnings will typically be expressed in nominal dollars. Over a long enough timespan, this can make a big difference for equity and return calculations. A student making \\\\$20,000 in 2010 was making almost \\\\$24,000 in 2020 dollars - a 20% difference."
   ]
  },
  {
   "cell_type": "code",
   "execution_count": 27,
   "metadata": {},
   "outputs": [
    {
     "data": {
      "text/plain": [
       "<matplotlib.lines.Line2D at 0x7fc331746110>"
      ]
     },
     "execution_count": 27,
     "metadata": {},
     "output_type": "execute_result"
    },
    {
     "data": {
      "image/png": "[encoded data removed]",
      "text/plain": [
       "<Figure size 800x400 with 1 Axes>"
      ]
     },
     "metadata": {
      "needs_background": "light"
     },
     "output_type": "display_data"
    }
   ],
   "source": [
    "# Nothing toolkit-specific here. Just getting the distribution for unadjusted wages\n",
    "\n",
    "fig, ax = plt.subplots()\n",
    "data['earnings_end'].hist(ax=ax, edgecolor=\"red\", fc=(0, 0, 0, 0.5), bins=30)\n",
    "plt.axvline(x=np.mean(data['earnings_end']))"
   ]
  },
  {
   "cell_type": "markdown",
   "metadata": {},
   "source": [
    "The `utilities.multiple_describe()` is a useful wrapper for Pandas grouping and aggregation methods. It takes a dataframe, a grouping column, and a value column, and returns a dataframe containing summary statistics for the provided value at the group level."
   ]
  },
  {
   "cell_type": "code",
   "execution_count": 22,
   "metadata": {},
   "outputs": [
    {
     "data": {
      "text/html": [
       "<div>\n",
       "<style scoped>\n",
       "    .dataframe tbody tr th:only-of-type {\n",
       "        vertical-align: middle;\n",
       "    }\n",
       "\n",
       "    .dataframe tbody tr th {\n",
       "        vertical-align: top;\n",
       "    }\n",
       "\n",
       "    .dataframe thead th {\n",
       "        text-align: right;\n",
       "    }\n",
       "</style>\n",
       "<table border=\"1\" class=\"dataframe\">\n",
       "  <thead>\n",
       "    <tr style=\"text-align: right;\">\n",
       "      <th></th>\n",
       "      <th>program</th>\n",
       "      <th>n</th>\n",
       "      <th>mean</th>\n",
       "      <th>median</th>\n",
       "      <th>sd</th>\n",
       "      <th>min</th>\n",
       "      <th>max</th>\n",
       "    </tr>\n",
       "  </thead>\n",
       "  <tbody>\n",
       "    <tr>\n",
       "      <th>0</th>\n",
       "      <td>Anthropology</td>\n",
       "      <td>2288.000</td>\n",
       "      <td>31540.395</td>\n",
       "      <td>31381.600</td>\n",
       "      <td>6542.271</td>\n",
       "      <td>2817.240</td>\n",
       "      <td>63547.440</td>\n",
       "    </tr>\n",
       "    <tr>\n",
       "      <th>1</th>\n",
       "      <td>Art History</td>\n",
       "      <td>2370.000</td>\n",
       "      <td>42312.370</td>\n",
       "      <td>41632.800</td>\n",
       "      <td>9460.368</td>\n",
       "      <td>4287.800</td>\n",
       "      <td>75483.430</td>\n",
       "    </tr>\n",
       "    <tr>\n",
       "      <th>2</th>\n",
       "      <td>Biology</td>\n",
       "      <td>2404.000</td>\n",
       "      <td>35848.828</td>\n",
       "      <td>35303.220</td>\n",
       "      <td>7838.359</td>\n",
       "      <td>6602.715</td>\n",
       "      <td>64873.710</td>\n",
       "    </tr>\n",
       "    <tr>\n",
       "      <th>3</th>\n",
       "      <td>Economics</td>\n",
       "      <td>2327.000</td>\n",
       "      <td>54705.240</td>\n",
       "      <td>54158.720</td>\n",
       "      <td>11048.693</td>\n",
       "      <td>14172.620</td>\n",
       "      <td>102118.940</td>\n",
       "    </tr>\n",
       "    <tr>\n",
       "      <th>4</th>\n",
       "      <td>Electrical Engineering</td>\n",
       "      <td>2386.000</td>\n",
       "      <td>65698.580</td>\n",
       "      <td>64849.900</td>\n",
       "      <td>14206.740</td>\n",
       "      <td>20139.900</td>\n",
       "      <td>135887.290</td>\n",
       "    </tr>\n",
       "    <tr>\n",
       "      <th>5</th>\n",
       "      <td>French Literature</td>\n",
       "      <td>2339.000</td>\n",
       "      <td>27875.583</td>\n",
       "      <td>27687.748</td>\n",
       "      <td>5501.041</td>\n",
       "      <td>6088.635</td>\n",
       "      <td>50285.620</td>\n",
       "    </tr>\n",
       "    <tr>\n",
       "      <th>6</th>\n",
       "      <td>Philosophy</td>\n",
       "      <td>2297.000</td>\n",
       "      <td>46128.218</td>\n",
       "      <td>45486.000</td>\n",
       "      <td>10275.570</td>\n",
       "      <td>14191.200</td>\n",
       "      <td>96564.600</td>\n",
       "    </tr>\n",
       "  </tbody>\n",
       "</table>\n",
       "</div>"
      ],
      "text/plain": [
       "                  program        n      mean    median        sd       min  \\\n",
       "0            Anthropology 2288.000 31540.395 31381.600  6542.271  2817.240   \n",
       "1             Art History 2370.000 42312.370 41632.800  9460.368  4287.800   \n",
       "2                 Biology 2404.000 35848.828 35303.220  7838.359  6602.715   \n",
       "3               Economics 2327.000 54705.240 54158.720 11048.693 14172.620   \n",
       "4  Electrical Engineering 2386.000 65698.580 64849.900 14206.740 20139.900   \n",
       "5       French Literature 2339.000 27875.583 27687.748  5501.041  6088.635   \n",
       "6              Philosophy 2297.000 46128.218 45486.000 10275.570 14191.200   \n",
       "\n",
       "         max  \n",
       "0  63547.440  \n",
       "1  75483.430  \n",
       "2  64873.710  \n",
       "3 102118.940  \n",
       "4 135887.290  \n",
       "5  50285.620  \n",
       "6  96564.600  "
      ]
     },
     "execution_count": 22,
     "metadata": {},
     "output_type": "execute_result"
    }
   ],
   "source": [
    "utilities.multiple_describe(data, 'program', 'earnings_end') # library method"
   ]
  },
  {
   "cell_type": "markdown",
   "metadata": {},
   "source": [
    "__Adjust wages for inflation__"
   ]
  },
  {
   "cell_type": "markdown",
   "metadata": {},
   "source": [
    "Methods to adjust for inflation and fetch historical time series are in the `macro.BLS_Ops()` class, since the data necessary to make these calculations comes originally from the U.S. Bureau of Labor Statistics API. Instantiating the class takes a moment, since it has to read in the BLS output that comes packaged with the module (and that can be refreshed with `setup.py`). \n",
    "\n",
    "The `bls.adjust_to_current_dollars()` method takes a dataframe, a year column in format YYYY (in this case `program_end`) and a value column."
   ]
  },
  {
   "cell_type": "code",
   "execution_count": 40,
   "metadata": {},
   "outputs": [
    {
     "name": "stdout",
     "output_type": "stream",
     "text": [
      "Latest CPI year in provided BLS data is 2018.0: All dollars being adjusted to 2018.0 dollars.\n",
      "Years in provided dataframe for which there is no data in the provided CPI frame:\n",
      "\n",
      "{2019, 2020, 2021, 2022, 2023, 2024, 2025, 2026, 2027, 2028}\n"
     ]
    },
    {
     "name": "stderr",
     "output_type": "stream",
     "text": [
      "/Users/mattlerner/roi/sbir-roi/roi/macro.py:58: UserWarning: Value column earnings_end contains 821 NA values (5.0%) of total.\n",
      "  warnings.warn(\"Value column {} contains {} NA values ({}%) of total.\".format(value_column_name, value_nas, round(100*value_nas/len(frame_),2)))\n",
      "/Users/mattlerner/roi/sbir-roi/roi/macro.py:71: UserWarning: 5515 rows in column program_end could not be merged with provided CPI data. Please note that (1) the BLS API provides only up to 20 years of data; if you want to use more, you will have to manually combine multiple queries. (2) We do not recommend using more than ten years of historical data in calculations.\n",
      "  warnings.warn(\"{} rows in column {} could not be merged with provided CPI data. Please note that (1) the BLS API provides only up to 20 years of data; if you want to use more, you will have to manually combine multiple queries. (2) We do not recommend using more than ten years of historical data in calculations.\".format(unmerged_len, year_column_name))\n"
     ]
    }
   ],
   "source": [
    "bls = macro.BLS_Ops()\n",
    "data['earnings_end_adjusted'] = bls.adjust_to_current_dollars(data, 'program_end', 'earnings_end') # library method"
   ]
  },
  {
   "cell_type": "markdown",
   "metadata": {},
   "source": [
    "Once again, the module provides a verbose response, warning the user when the data contains years that can't be adjusted (in this case because they're bizarrely in the future-- this can be a data quality issue!)."
   ]
  },
  {
   "cell_type": "code",
   "execution_count": 41,
   "metadata": {},
   "outputs": [
    {
     "data": {
      "text/html": [
       "<div>\n",
       "<style scoped>\n",
       "    .dataframe tbody tr th:only-of-type {\n",
       "        vertical-align: middle;\n",
       "    }\n",
       "\n",
       "    .dataframe tbody tr th {\n",
       "        vertical-align: top;\n",
       "    }\n",
       "\n",
       "    .dataframe thead th {\n",
       "        text-align: right;\n",
       "    }\n",
       "</style>\n",
       "<table border=\"1\" class=\"dataframe\">\n",
       "  <thead>\n",
       "    <tr style=\"text-align: right;\">\n",
       "      <th></th>\n",
       "      <th>program_end</th>\n",
       "      <th>earnings_end</th>\n",
       "      <th>earnings_end_adjusted</th>\n",
       "    </tr>\n",
       "  </thead>\n",
       "  <tbody>\n",
       "    <tr>\n",
       "      <th>7580</th>\n",
       "      <td>2017</td>\n",
       "      <td>nan</td>\n",
       "      <td>nan</td>\n",
       "    </tr>\n",
       "    <tr>\n",
       "      <th>13231</th>\n",
       "      <td>2017</td>\n",
       "      <td>56959.540</td>\n",
       "      <td>58349.149</td>\n",
       "    </tr>\n",
       "    <tr>\n",
       "      <th>12584</th>\n",
       "      <td>2022</td>\n",
       "      <td>62106.000</td>\n",
       "      <td>nan</td>\n",
       "    </tr>\n",
       "    <tr>\n",
       "      <th>7719</th>\n",
       "      <td>2018</td>\n",
       "      <td>39197.950</td>\n",
       "      <td>39197.950</td>\n",
       "    </tr>\n",
       "    <tr>\n",
       "      <th>684</th>\n",
       "      <td>2019</td>\n",
       "      <td>41903.400</td>\n",
       "      <td>nan</td>\n",
       "    </tr>\n",
       "    <tr>\n",
       "      <th>1038</th>\n",
       "      <td>2018</td>\n",
       "      <td>24618.040</td>\n",
       "      <td>24618.040</td>\n",
       "    </tr>\n",
       "    <tr>\n",
       "      <th>11612</th>\n",
       "      <td>2015</td>\n",
       "      <td>54890.220</td>\n",
       "      <td>58155.739</td>\n",
       "    </tr>\n",
       "    <tr>\n",
       "      <th>16387</th>\n",
       "      <td>2014</td>\n",
       "      <td>41328.360</td>\n",
       "      <td>43840.102</td>\n",
       "    </tr>\n",
       "    <tr>\n",
       "      <th>15165</th>\n",
       "      <td>2020</td>\n",
       "      <td>42124.600</td>\n",
       "      <td>nan</td>\n",
       "    </tr>\n",
       "    <tr>\n",
       "      <th>14421</th>\n",
       "      <td>2015</td>\n",
       "      <td>40346.400</td>\n",
       "      <td>42746.681</td>\n",
       "    </tr>\n",
       "  </tbody>\n",
       "</table>\n",
       "</div>"
      ],
      "text/plain": [
       "       program_end  earnings_end  earnings_end_adjusted\n",
       "7580          2017           nan                    nan\n",
       "13231         2017     56959.540              58349.149\n",
       "12584         2022     62106.000                    nan\n",
       "7719          2018     39197.950              39197.950\n",
       "684           2019     41903.400                    nan\n",
       "1038          2018     24618.040              24618.040\n",
       "11612         2015     54890.220              58155.739\n",
       "16387         2014     41328.360              43840.102\n",
       "15165         2020     42124.600                    nan\n",
       "14421         2015     40346.400              42746.681"
      ]
     },
     "execution_count": 41,
     "metadata": {},
     "output_type": "execute_result"
    }
   ],
   "source": [
    "data[['program_end','earnings_end','earnings_end_adjusted']].sample(10)"
   ]
  },
  {
   "cell_type": "markdown",
   "metadata": {},
   "source": [
    "__Recalculate average graduate wage by program__"
   ]
  },
  {
   "cell_type": "markdown",
   "metadata": {},
   "source": [
    "Here we plot the distribution of nominal wages against inflation-adjusted wages. As you can see, the mean wage doesn't change too much -- but the overall distribution does change, which is important. If the composition of programs has changed over time, inflation adjustment can be vital for drawing conclusions about equity. For example, if a program has substantially more low-SES students than it did ten years ago, failing to adjust for inflation could make those students appear better off than they actually are (because they're being compared to nominally lower-earning students many years ago)."
   ]
  },
  {
   "cell_type": "code",
   "execution_count": 42,
   "metadata": {},
   "outputs": [
    {
     "data": {
      "text/plain": [
       "<matplotlib.lines.Line2D at 0x7fc3352e79d0>"
      ]
     },
     "execution_count": 42,
     "metadata": {},
     "output_type": "execute_result"
    },
    {
     "data": {
      "image/png": "[encoded data removed]",
      "text/plain": [
       "<Figure size 800x400 with 1 Axes>"
      ]
     },
     "metadata": {
      "needs_background": "light"
     },
     "output_type": "display_data"
    }
   ],
   "source": [
    "fig, ax = plt.subplots()\n",
    "\n",
    "# unadjusted\n",
    "data['earnings_end'].hist(ax=ax, edgecolor=\"red\", fc=(0, 0, 0, 0), bins=30)\n",
    "plt.axvline(x=np.mean(data['earnings_end']), color=\"red\", linestyle=\":\")\n",
    "\n",
    "# adjusted\n",
    "data['earnings_end_adjusted'].hist(ax=ax, edgecolor=\"blue\", fc=(0, 0, 0, 0), bins=30)\n",
    "plt.axvline(x=np.mean(data['earnings_end_adjusted']), color=\"blue\", linestyle=\":\")"
   ]
  },
  {
   "cell_type": "markdown",
   "metadata": {},
   "source": [
    "__Section 7: Earnings premium__"
   ]
  },
  {
   "cell_type": "markdown",
   "metadata": {},
   "source": [
    "__Calculate earnings premium - Simple way__"
   ]
  },
  {
   "cell_type": "markdown",
   "metadata": {},
   "source": [
    "The most simple earnings-related measurement that analysts might be concerned with is the __earnings premium__, defined here as the additional wages attributable to participation in a given program. Here we do that in the simplest way possible: by subtracting nominal post-program earnings from nominal pre-program earnings."
   ]
  },
  {
   "cell_type": "code",
   "execution_count": 43,
   "metadata": {},
   "outputs": [],
   "source": [
    "data['earnings_change'] = data['earnings_end'] - data['earnings_start']"
   ]
  },
  {
   "cell_type": "code",
   "execution_count": 44,
   "metadata": {},
   "outputs": [
    {
     "data": {
      "text/html": [
       "<div>\n",
       "<style scoped>\n",
       "    .dataframe tbody tr th:only-of-type {\n",
       "        vertical-align: middle;\n",
       "    }\n",
       "\n",
       "    .dataframe tbody tr th {\n",
       "        vertical-align: top;\n",
       "    }\n",
       "\n",
       "    .dataframe thead th {\n",
       "        text-align: right;\n",
       "    }\n",
       "</style>\n",
       "<table border=\"1\" class=\"dataframe\">\n",
       "  <thead>\n",
       "    <tr style=\"text-align: right;\">\n",
       "      <th></th>\n",
       "      <th>program</th>\n",
       "      <th>n</th>\n",
       "      <th>mean</th>\n",
       "      <th>median</th>\n",
       "      <th>sd</th>\n",
       "      <th>min</th>\n",
       "      <th>max</th>\n",
       "    </tr>\n",
       "  </thead>\n",
       "  <tbody>\n",
       "    <tr>\n",
       "      <th>0</th>\n",
       "      <td>Anthropology</td>\n",
       "      <td>2288.000</td>\n",
       "      <td>1492.413</td>\n",
       "      <td>1748.180</td>\n",
       "      <td>7514.140</td>\n",
       "      <td>-46000.200</td>\n",
       "      <td>41005.440</td>\n",
       "    </tr>\n",
       "    <tr>\n",
       "      <th>1</th>\n",
       "      <td>Art History</td>\n",
       "      <td>2370.000</td>\n",
       "      <td>13117.589</td>\n",
       "      <td>13010.150</td>\n",
       "      <td>8743.259</td>\n",
       "      <td>-49156.200</td>\n",
       "      <td>54181.100</td>\n",
       "    </tr>\n",
       "    <tr>\n",
       "      <th>2</th>\n",
       "      <td>Biology</td>\n",
       "      <td>2404.000</td>\n",
       "      <td>5538.174</td>\n",
       "      <td>5503.500</td>\n",
       "      <td>7822.369</td>\n",
       "      <td>-28674.700</td>\n",
       "      <td>54911.950</td>\n",
       "    </tr>\n",
       "    <tr>\n",
       "      <th>3</th>\n",
       "      <td>Economics</td>\n",
       "      <td>2327.000</td>\n",
       "      <td>24685.001</td>\n",
       "      <td>24170.200</td>\n",
       "      <td>10529.107</td>\n",
       "      <td>-15061.260</td>\n",
       "      <td>77500.780</td>\n",
       "    </tr>\n",
       "    <tr>\n",
       "      <th>4</th>\n",
       "      <td>Electrical Engineering</td>\n",
       "      <td>2386.000</td>\n",
       "      <td>36063.777</td>\n",
       "      <td>35277.400</td>\n",
       "      <td>13514.743</td>\n",
       "      <td>-21673.600</td>\n",
       "      <td>112955.900</td>\n",
       "    </tr>\n",
       "    <tr>\n",
       "      <th>5</th>\n",
       "      <td>French Literature</td>\n",
       "      <td>2339.000</td>\n",
       "      <td>-2656.493</td>\n",
       "      <td>-2261.950</td>\n",
       "      <td>6824.586</td>\n",
       "      <td>-62843.250</td>\n",
       "      <td>36069.590</td>\n",
       "    </tr>\n",
       "    <tr>\n",
       "      <th>6</th>\n",
       "      <td>Philosophy</td>\n",
       "      <td>2297.000</td>\n",
       "      <td>16914.652</td>\n",
       "      <td>16949.000</td>\n",
       "      <td>9296.036</td>\n",
       "      <td>-22386.120</td>\n",
       "      <td>61526.600</td>\n",
       "    </tr>\n",
       "  </tbody>\n",
       "</table>\n",
       "</div>"
      ],
      "text/plain": [
       "                  program        n      mean    median        sd        min  \\\n",
       "0            Anthropology 2288.000  1492.413  1748.180  7514.140 -46000.200   \n",
       "1             Art History 2370.000 13117.589 13010.150  8743.259 -49156.200   \n",
       "2                 Biology 2404.000  5538.174  5503.500  7822.369 -28674.700   \n",
       "3               Economics 2327.000 24685.001 24170.200 10529.107 -15061.260   \n",
       "4  Electrical Engineering 2386.000 36063.777 35277.400 13514.743 -21673.600   \n",
       "5       French Literature 2339.000 -2656.493 -2261.950  6824.586 -62843.250   \n",
       "6              Philosophy 2297.000 16914.652 16949.000  9296.036 -22386.120   \n",
       "\n",
       "         max  \n",
       "0  41005.440  \n",
       "1  54181.100  \n",
       "2  54911.950  \n",
       "3  77500.780  \n",
       "4 112955.900  \n",
       "5  36069.590  \n",
       "6  61526.600  "
      ]
     },
     "execution_count": 44,
     "metadata": {},
     "output_type": "execute_result"
    }
   ],
   "source": [
    "utilities.multiple_describe(data, 'program', 'earnings_change') # library method"
   ]
  },
  {
   "cell_type": "code",
   "execution_count": 45,
   "metadata": {},
   "outputs": [
    {
     "data": {
      "text/plain": [
       "<matplotlib.axes._subplots.AxesSubplot at 0x7fc335404590>"
      ]
     },
     "execution_count": 45,
     "metadata": {},
     "output_type": "execute_result"
    },
    {
     "data": {
      "image/png": "[encoded data removed]",
      "text/plain": [
       "<Figure size 800x400 with 1 Axes>"
      ]
     },
     "metadata": {
      "needs_background": "light"
     },
     "output_type": "display_data"
    }
   ],
   "source": [
    "sns.barplot(x=\"earnings_change\", y=\"program\", data=data, estimator=np.mean)"
   ]
  },
  {
   "cell_type": "markdown",
   "metadata": {},
   "source": [
    "__Calculate earnings premium - Fancy way__"
   ]
  },
  {
   "cell_type": "markdown",
   "metadata": {},
   "source": [
    "One of the central concerns about calculating premiums in the above \"simple\" way is the necessity of adjusting for macroeconomic trends. If the average difference between post- and pre-program earnings for participants in a given program is 4%, you might conclude that the program improves earning power by 4%. But if, over the time students spent in a program, overall wages in their region go up by 5%, then in fact the program has actually \"hurt\" students' earning power by 1%.\n",
    "\n",
    " `roi-toolkit` offers a method to simply correct for trend. The `BLS_Ops.wage_change()` method takes in a dataframe of student states, program start and end dates (in 'YYYY-MM' format), and for each student returns the macroeconomic change in wages for their region over the time period provided.\n",
    " \n",
    "Analysts should be mindful that the `wage_change()` method "
   ]
  },
  {
   "cell_type": "code",
   "execution_count": 46,
   "metadata": {},
   "outputs": [],
   "source": [
    "data['year_month_entry'] = data['program_start'].astype(str) + '-' + data['start_month'].astype(str).str.zfill(2)\n",
    "data['year_month_exit'] = data['program_end'].astype(str) + '-' + data['end_month'].astype(str).str.zfill(2)"
   ]
  },
  {
   "cell_type": "markdown",
   "metadata": {},
   "source": [
    "In many contexts, you'll need state FIPS codes (e.g. \"08\") instead of postal codes (e.g. \"CO\"). This is one of those contexts. Luckily, the toolkit offers the `utilities.State_To_FIPS_series()` method to help you easily translate."
   ]
  },
  {
   "cell_type": "code",
   "execution_count": 47,
   "metadata": {},
   "outputs": [],
   "source": [
    "data['state_fips'] = utilities.State_To_FIPS_series(data['State'])"
   ]
  },
  {
   "cell_type": "code",
   "execution_count": 48,
   "metadata": {},
   "outputs": [
    {
     "name": "stderr",
     "output_type": "stream",
     "text": [
      "/Users/mattlerner/roi/sbir-roi/roi/macro.py:202: UserWarning: Series passed as argument state_code contains invalid values for state codes. Please refer to https://www.bls.gov/respondents/mwr/electronic-data-interchange/appendix-d-usps-state-abbreviations-and-fips-codes.htm for valid codes. Use utilities.State_To_FIPS_series() to convert postal codes to FIPS.\n",
      "  warnings.warn(\"Series passed as argument state_code contains invalid values for state codes. Please refer to https://www.bls.gov/respondents/mwr/electronic-data-interchange/appendix-d-usps-state-abbreviations-and-fips-codes.htm for valid codes. Use utilities.State_To_FIPS_series() to convert postal codes to FIPS.\")\n"
     ]
    }
   ],
   "source": [
    "data['macro_wage_change'] = bls.wage_change(data, 'state_fips','year_month_entry','year_month_exit')"
   ]
  },
  {
   "cell_type": "code",
   "execution_count": 49,
   "metadata": {},
   "outputs": [
    {
     "data": {
      "text/html": [
       "<div>\n",
       "<style scoped>\n",
       "    .dataframe tbody tr th:only-of-type {\n",
       "        vertical-align: middle;\n",
       "    }\n",
       "\n",
       "    .dataframe tbody tr th {\n",
       "        vertical-align: top;\n",
       "    }\n",
       "\n",
       "    .dataframe thead th {\n",
       "        text-align: right;\n",
       "    }\n",
       "</style>\n",
       "<table border=\"1\" class=\"dataframe\">\n",
       "  <thead>\n",
       "    <tr style=\"text-align: right;\">\n",
       "      <th></th>\n",
       "      <th>Unnamed: 0</th>\n",
       "      <th>race</th>\n",
       "      <th>gender</th>\n",
       "      <th>earnings_start</th>\n",
       "      <th>earnings_end</th>\n",
       "      <th>age</th>\n",
       "      <th>program</th>\n",
       "      <th>program_start</th>\n",
       "      <th>program_end</th>\n",
       "      <th>education_level</th>\n",
       "      <th>...</th>\n",
       "      <th>Zip</th>\n",
       "      <th>id</th>\n",
       "      <th>start_month</th>\n",
       "      <th>end_month</th>\n",
       "      <th>earnings_change</th>\n",
       "      <th>year_month_entry</th>\n",
       "      <th>year_month_exit</th>\n",
       "      <th>state_fips</th>\n",
       "      <th>earnings_end_adjusted</th>\n",
       "      <th>macro_wage_change</th>\n",
       "    </tr>\n",
       "  </thead>\n",
       "  <tbody>\n",
       "    <tr>\n",
       "      <th>11452</th>\n",
       "      <td>11453</td>\n",
       "      <td>White</td>\n",
       "      <td>Other/unspecified</td>\n",
       "      <td>36435.000</td>\n",
       "      <td>46395.635</td>\n",
       "      <td>18</td>\n",
       "      <td>Art History</td>\n",
       "      <td>2010</td>\n",
       "      <td>2014</td>\n",
       "      <td>123</td>\n",
       "      <td>...</td>\n",
       "      <td>nan</td>\n",
       "      <td>3096</td>\n",
       "      <td>10</td>\n",
       "      <td>7</td>\n",
       "      <td>9960.635</td>\n",
       "      <td>2010-10</td>\n",
       "      <td>2014-07</td>\n",
       "      <td>nan</td>\n",
       "      <td>49215.342</td>\n",
       "      <td>nan</td>\n",
       "    </tr>\n",
       "    <tr>\n",
       "      <th>8655</th>\n",
       "      <td>8656</td>\n",
       "      <td>White</td>\n",
       "      <td>Male</td>\n",
       "      <td>26094.000</td>\n",
       "      <td>20468.000</td>\n",
       "      <td>47</td>\n",
       "      <td>French Literature</td>\n",
       "      <td>2018</td>\n",
       "      <td>2023</td>\n",
       "      <td>92</td>\n",
       "      <td>...</td>\n",
       "      <td>92373.000</td>\n",
       "      <td>5731</td>\n",
       "      <td>10</td>\n",
       "      <td>6</td>\n",
       "      <td>-5626.000</td>\n",
       "      <td>2018-10</td>\n",
       "      <td>2023-06</td>\n",
       "      <td>06</td>\n",
       "      <td>nan</td>\n",
       "      <td>nan</td>\n",
       "    </tr>\n",
       "    <tr>\n",
       "      <th>3283</th>\n",
       "      <td>3284</td>\n",
       "      <td>White</td>\n",
       "      <td>Female</td>\n",
       "      <td>29889.000</td>\n",
       "      <td>30227.890</td>\n",
       "      <td>24</td>\n",
       "      <td>French Literature</td>\n",
       "      <td>2015</td>\n",
       "      <td>2019</td>\n",
       "      <td>60</td>\n",
       "      <td>...</td>\n",
       "      <td>56359.000</td>\n",
       "      <td>11602</td>\n",
       "      <td>8</td>\n",
       "      <td>7</td>\n",
       "      <td>338.890</td>\n",
       "      <td>2015-08</td>\n",
       "      <td>2019-07</td>\n",
       "      <td>27</td>\n",
       "      <td>nan</td>\n",
       "      <td>6346.600</td>\n",
       "    </tr>\n",
       "    <tr>\n",
       "      <th>8406</th>\n",
       "      <td>8407</td>\n",
       "      <td>White</td>\n",
       "      <td>Male</td>\n",
       "      <td>42509.000</td>\n",
       "      <td>37719.000</td>\n",
       "      <td>29</td>\n",
       "      <td>Biology</td>\n",
       "      <td>2013</td>\n",
       "      <td>2016</td>\n",
       "      <td>92</td>\n",
       "      <td>...</td>\n",
       "      <td>34471.000</td>\n",
       "      <td>13898</td>\n",
       "      <td>10</td>\n",
       "      <td>5</td>\n",
       "      <td>-4790.000</td>\n",
       "      <td>2013-10</td>\n",
       "      <td>2016-05</td>\n",
       "      <td>12</td>\n",
       "      <td>39465.508</td>\n",
       "      <td>2468.960</td>\n",
       "    </tr>\n",
       "    <tr>\n",
       "      <th>13165</th>\n",
       "      <td>13166</td>\n",
       "      <td>White</td>\n",
       "      <td>Female</td>\n",
       "      <td>21013.000</td>\n",
       "      <td>35120.250</td>\n",
       "      <td>18</td>\n",
       "      <td>Art History</td>\n",
       "      <td>2017</td>\n",
       "      <td>2020</td>\n",
       "      <td>124</td>\n",
       "      <td>...</td>\n",
       "      <td>nan</td>\n",
       "      <td>12320</td>\n",
       "      <td>9</td>\n",
       "      <td>7</td>\n",
       "      <td>14107.250</td>\n",
       "      <td>2017-09</td>\n",
       "      <td>2020-07</td>\n",
       "      <td>nan</td>\n",
       "      <td>nan</td>\n",
       "      <td>nan</td>\n",
       "    </tr>\n",
       "    <tr>\n",
       "      <th>14384</th>\n",
       "      <td>14385</td>\n",
       "      <td>Black</td>\n",
       "      <td>Male</td>\n",
       "      <td>39676.000</td>\n",
       "      <td>66086.400</td>\n",
       "      <td>45</td>\n",
       "      <td>Philosophy</td>\n",
       "      <td>2014</td>\n",
       "      <td>2018</td>\n",
       "      <td>124</td>\n",
       "      <td>...</td>\n",
       "      <td>nan</td>\n",
       "      <td>15613</td>\n",
       "      <td>9</td>\n",
       "      <td>7</td>\n",
       "      <td>26410.400</td>\n",
       "      <td>2014-09</td>\n",
       "      <td>2018-07</td>\n",
       "      <td>nan</td>\n",
       "      <td>66086.400</td>\n",
       "      <td>nan</td>\n",
       "    </tr>\n",
       "    <tr>\n",
       "      <th>1086</th>\n",
       "      <td>1087</td>\n",
       "      <td>White</td>\n",
       "      <td>Male</td>\n",
       "      <td>24942.000</td>\n",
       "      <td>31663.800</td>\n",
       "      <td>32</td>\n",
       "      <td>Biology</td>\n",
       "      <td>2014</td>\n",
       "      <td>2015</td>\n",
       "      <td>0</td>\n",
       "      <td>...</td>\n",
       "      <td>nan</td>\n",
       "      <td>4888</td>\n",
       "      <td>8</td>\n",
       "      <td>7</td>\n",
       "      <td>6721.800</td>\n",
       "      <td>2014-08</td>\n",
       "      <td>2015-07</td>\n",
       "      <td>nan</td>\n",
       "      <td>33547.537</td>\n",
       "      <td>nan</td>\n",
       "    </tr>\n",
       "    <tr>\n",
       "      <th>7925</th>\n",
       "      <td>7926</td>\n",
       "      <td>White</td>\n",
       "      <td>Female</td>\n",
       "      <td>41731.000</td>\n",
       "      <td>53892.300</td>\n",
       "      <td>39</td>\n",
       "      <td>Economics</td>\n",
       "      <td>2011</td>\n",
       "      <td>2015</td>\n",
       "      <td>92</td>\n",
       "      <td>...</td>\n",
       "      <td>76017.000</td>\n",
       "      <td>8879</td>\n",
       "      <td>8</td>\n",
       "      <td>6</td>\n",
       "      <td>12161.300</td>\n",
       "      <td>2011-08</td>\n",
       "      <td>2015-06</td>\n",
       "      <td>48</td>\n",
       "      <td>57098.451</td>\n",
       "      <td>3635.840</td>\n",
       "    </tr>\n",
       "    <tr>\n",
       "      <th>4243</th>\n",
       "      <td>4244</td>\n",
       "      <td>Asian or Pacific Islander</td>\n",
       "      <td>Other/unspecified</td>\n",
       "      <td>41654.000</td>\n",
       "      <td>49950.505</td>\n",
       "      <td>18</td>\n",
       "      <td>Art History</td>\n",
       "      <td>2010</td>\n",
       "      <td>2017</td>\n",
       "      <td>73</td>\n",
       "      <td>...</td>\n",
       "      <td>48075.000</td>\n",
       "      <td>2485</td>\n",
       "      <td>8</td>\n",
       "      <td>5</td>\n",
       "      <td>8296.505</td>\n",
       "      <td>2010-08</td>\n",
       "      <td>2017-05</td>\n",
       "      <td>26</td>\n",
       "      <td>51169.119</td>\n",
       "      <td>4125.680</td>\n",
       "    </tr>\n",
       "    <tr>\n",
       "      <th>15520</th>\n",
       "      <td>15521</td>\n",
       "      <td>Black</td>\n",
       "      <td>Female</td>\n",
       "      <td>23696.000</td>\n",
       "      <td>33102.080</td>\n",
       "      <td>61</td>\n",
       "      <td>Anthropology</td>\n",
       "      <td>2017</td>\n",
       "      <td>2022</td>\n",
       "      <td>125</td>\n",
       "      <td>...</td>\n",
       "      <td>78595.000</td>\n",
       "      <td>14317</td>\n",
       "      <td>9</td>\n",
       "      <td>5</td>\n",
       "      <td>9406.080</td>\n",
       "      <td>2017-09</td>\n",
       "      <td>2022-05</td>\n",
       "      <td>48</td>\n",
       "      <td>nan</td>\n",
       "      <td>nan</td>\n",
       "    </tr>\n",
       "  </tbody>\n",
       "</table>\n",
       "<p>10 rows × 28 columns</p>\n",
       "</div>"
      ],
      "text/plain": [
       "       Unnamed: 0                       race             gender  \\\n",
       "11452       11453                      White  Other/unspecified   \n",
       "8655         8656                      White               Male   \n",
       "3283         3284                      White             Female   \n",
       "8406         8407                      White               Male   \n",
       "13165       13166                      White             Female   \n",
       "14384       14385                      Black               Male   \n",
       "1086         1087                      White               Male   \n",
       "7925         7926                      White             Female   \n",
       "4243         4244  Asian or Pacific Islander  Other/unspecified   \n",
       "15520       15521                      Black             Female   \n",
       "\n",
       "       earnings_start  earnings_end  age            program  program_start  \\\n",
       "11452       36435.000     46395.635   18        Art History           2010   \n",
       "8655        26094.000     20468.000   47  French Literature           2018   \n",
       "3283        29889.000     30227.890   24  French Literature           2015   \n",
       "8406        42509.000     37719.000   29            Biology           2013   \n",
       "13165       21013.000     35120.250   18        Art History           2017   \n",
       "14384       39676.000     66086.400   45         Philosophy           2014   \n",
       "1086        24942.000     31663.800   32            Biology           2014   \n",
       "7925        41731.000     53892.300   39          Economics           2011   \n",
       "4243        41654.000     49950.505   18        Art History           2010   \n",
       "15520       23696.000     33102.080   61       Anthropology           2017   \n",
       "\n",
       "       program_end  education_level  ...       Zip     id  start_month  \\\n",
       "11452         2014              123  ...       nan   3096           10   \n",
       "8655          2023               92  ... 92373.000   5731           10   \n",
       "3283          2019               60  ... 56359.000  11602            8   \n",
       "8406          2016               92  ... 34471.000  13898           10   \n",
       "13165         2020              124  ...       nan  12320            9   \n",
       "14384         2018              124  ...       nan  15613            9   \n",
       "1086          2015                0  ...       nan   4888            8   \n",
       "7925          2015               92  ... 76017.000   8879            8   \n",
       "4243          2017               73  ... 48075.000   2485            8   \n",
       "15520         2022              125  ... 78595.000  14317            9   \n",
       "\n",
       "       end_month earnings_change year_month_entry year_month_exit state_fips  \\\n",
       "11452          7        9960.635          2010-10         2014-07        nan   \n",
       "8655           6       -5626.000          2018-10         2023-06         06   \n",
       "3283           7         338.890          2015-08         2019-07         27   \n",
       "8406           5       -4790.000          2013-10         2016-05         12   \n",
       "13165          7       14107.250          2017-09         2020-07        nan   \n",
       "14384          7       26410.400          2014-09         2018-07        nan   \n",
       "1086           7        6721.800          2014-08         2015-07        nan   \n",
       "7925           6       12161.300          2011-08         2015-06         48   \n",
       "4243           5        8296.505          2010-08         2017-05         26   \n",
       "15520          5        9406.080          2017-09         2022-05         48   \n",
       "\n",
       "       earnings_end_adjusted  macro_wage_change  \n",
       "11452              49215.342                nan  \n",
       "8655                     nan                nan  \n",
       "3283                     nan           6346.600  \n",
       "8406               39465.508           2468.960  \n",
       "13165                    nan                nan  \n",
       "14384              66086.400                nan  \n",
       "1086               33547.537                nan  \n",
       "7925               57098.451           3635.840  \n",
       "4243               51169.119           4125.680  \n",
       "15520                    nan                nan  \n",
       "\n",
       "[10 rows x 28 columns]"
      ]
     },
     "execution_count": 49,
     "metadata": {},
     "output_type": "execute_result"
    }
   ],
   "source": [
    "data.sample(10)"
   ]
  },
  {
   "cell_type": "markdown",
   "metadata": {},
   "source": [
    "Once you've gotten the macro-level wage change, you can simply subtract it from the nominal earnings change in order to get a trend-adjusted wage change."
   ]
  },
  {
   "cell_type": "code",
   "execution_count": 50,
   "metadata": {},
   "outputs": [],
   "source": [
    "data['trend_adjusted_change'] = data['earnings_change'] - data['macro_wage_change']"
   ]
  },
  {
   "cell_type": "code",
   "execution_count": 51,
   "metadata": {},
   "outputs": [
    {
     "data": {
      "text/plain": [
       "<matplotlib.axes._subplots.AxesSubplot at 0x7fc335d2ee90>"
      ]
     },
     "execution_count": 51,
     "metadata": {},
     "output_type": "execute_result"
    },
    {
     "data": {
      "image/png": "[encoded data removed]",
      "text/plain": [
       "<Figure size 800x400 with 1 Axes>"
      ]
     },
     "metadata": {
      "needs_background": "light"
     },
     "output_type": "display_data"
    }
   ],
   "source": [
    "original_summary = utilities.multiple_describe(data, 'program', 'earnings_change')\n",
    "adjusted_summary = utilities.multiple_describe(data, 'program', 'trend_adjusted_change')\n",
    "original_summary['calculation'] = \"original\"\n",
    "adjusted_summary['calculation'] = \"adjusted\"\n",
    "\n",
    "sns.barplot(x=\"mean\", y=\"program\", hue=\"calculation\", data=pd.concat([original_summary, adjusted_summary]))"
   ]
  },
  {
   "cell_type": "markdown",
   "metadata": {},
   "source": [
    "__Calculate earnings premium - VERY fancy way__"
   ]
  },
  {
   "cell_type": "markdown",
   "metadata": {},
   "source": [
    "Perhaps the most novel part of the `roi-toolkit` package is the `metrics.Earnings_Premium()` class. This class requires a dataframe and several columns. Most of these columns are self-explanatory (please see the [docstrings]\n",
    "(https://github.com/brighthive/roi-toolkit/blob/master/roi/metrics.py)), but the user also needs to supply an `education_level` column containining individuals' education levels __prior__ to program entry. This column needs to match up with [CPS EDUC codes](https://cps.ipums.org/cps-action/variables/EDUC#codes_section).\n",
    "\n",
    "The backbone of this method is a modified [Mincer earnings function](https://en.wikipedia.org/wiki/Mincer_earnings_function) that is fit on ten years of national-level Current Population Survey data. The complete model is stored in the `roi-toolkit` repo, while its coefficients alone are packaged with the module itself.\n",
    "\n",
    "For comprehensive background on the Mincer model, please read James Heckman's magisterial [NBER paper](https://www.nber.org/system/files/working_papers/w9732/w9732.pdf) on the topic.\n",
    "\n",
    "The Mincer model fits a basic log-linear model to estimate the approximate impacts of education and work experience on wages. It provides broad numerical answers to questions such as \"For an additional X years of work experience, what percentage raise can a person expect who has Y education and Z previous years in the labor force?\"\n",
    "\n",
    "The Mincer model is not particularly effective at forecasting overall earnings using this data alone: individuals' earnings vary dramatically based on numerous other factors. However, the values of the coefficients on __additional__ education are fairly precisely estimated. In other words, though the Mincer model can't very effectively predict someone's wages if all you know about them is their education and work experience, it can be very useful in helping forecast their wages if you __already know their historical earnings__.\n",
    "\n",
    "That's how it's used here: for every individual in a dataset, the `metrics.Earnings_Premium()` method uses the Mincer model to predict a counterfactual wage: if, instead of participating in their educational or training program, they'd stayed in the labor force, what would their wage be? The earnings premium is calculated as the difference between their observed post-program wage and their predicted counterfactual wage."
   ]
  },
  {
   "cell_type": "code",
   "execution_count": 52,
   "metadata": {},
   "outputs": [
    {
     "name": "stderr",
     "output_type": "stream",
     "text": [
      "/Users/mattlerner/miniconda3/lib/python3.7/site-packages/pandas/core/indexing.py:670: SettingWithCopyWarning: \n",
      "A value is trying to be set on a copy of a slice from a DataFrame\n",
      "\n",
      "See the caveats in the documentation: https://pandas.pydata.org/pandas-docs/stable/user_guide/indexing.html#returning-a-view-versus-a-copy\n",
      "  iloc._setitem_with_indexer(indexer, value)\n"
     ]
    }
   ],
   "source": [
    "# library method\n",
    "premium = metrics.Earnings_Premium(data, 'state_fips', 'education_level', 'earnings_start', 'earnings_end', 'program_start', 'program_end', 'age')"
   ]
  },
  {
   "cell_type": "code",
   "execution_count": 53,
   "metadata": {},
   "outputs": [],
   "source": [
    "data['predicted_wage'] = premium.predicted_wage\n",
    "data['earnings_premium'] = premium.full_premium"
   ]
  },
  {
   "cell_type": "code",
   "execution_count": 54,
   "metadata": {},
   "outputs": [
    {
     "data": {
      "text/html": [
       "<div>\n",
       "<style scoped>\n",
       "    .dataframe tbody tr th:only-of-type {\n",
       "        vertical-align: middle;\n",
       "    }\n",
       "\n",
       "    .dataframe tbody tr th {\n",
       "        vertical-align: top;\n",
       "    }\n",
       "\n",
       "    .dataframe thead th {\n",
       "        text-align: right;\n",
       "    }\n",
       "</style>\n",
       "<table border=\"1\" class=\"dataframe\">\n",
       "  <thead>\n",
       "    <tr style=\"text-align: right;\">\n",
       "      <th></th>\n",
       "      <th>Unnamed: 0</th>\n",
       "      <th>race</th>\n",
       "      <th>gender</th>\n",
       "      <th>earnings_start</th>\n",
       "      <th>earnings_end</th>\n",
       "      <th>age</th>\n",
       "      <th>program</th>\n",
       "      <th>program_start</th>\n",
       "      <th>program_end</th>\n",
       "      <th>education_level</th>\n",
       "      <th>...</th>\n",
       "      <th>end_month</th>\n",
       "      <th>earnings_change</th>\n",
       "      <th>year_month_entry</th>\n",
       "      <th>year_month_exit</th>\n",
       "      <th>state_fips</th>\n",
       "      <th>earnings_end_adjusted</th>\n",
       "      <th>macro_wage_change</th>\n",
       "      <th>trend_adjusted_change</th>\n",
       "      <th>predicted_wage</th>\n",
       "      <th>earnings_premium</th>\n",
       "    </tr>\n",
       "  </thead>\n",
       "  <tbody>\n",
       "    <tr>\n",
       "      <th>13134</th>\n",
       "      <td>13135</td>\n",
       "      <td>Other</td>\n",
       "      <td>Male</td>\n",
       "      <td>34179.000</td>\n",
       "      <td>42249.900</td>\n",
       "      <td>33</td>\n",
       "      <td>Art History</td>\n",
       "      <td>2012</td>\n",
       "      <td>2015</td>\n",
       "      <td>124</td>\n",
       "      <td>...</td>\n",
       "      <td>6</td>\n",
       "      <td>8070.900</td>\n",
       "      <td>2012-08</td>\n",
       "      <td>2015-06</td>\n",
       "      <td>26</td>\n",
       "      <td>44763.424</td>\n",
       "      <td>2792.920</td>\n",
       "      <td>5277.980</td>\n",
       "      <td>39463.487</td>\n",
       "      <td>2786.413</td>\n",
       "    </tr>\n",
       "    <tr>\n",
       "      <th>10111</th>\n",
       "      <td>10112</td>\n",
       "      <td>Black</td>\n",
       "      <td>Other/unspecified</td>\n",
       "      <td>23225.000</td>\n",
       "      <td>22868.400</td>\n",
       "      <td>61</td>\n",
       "      <td>Anthropology</td>\n",
       "      <td>2013</td>\n",
       "      <td>2016</td>\n",
       "      <td>111</td>\n",
       "      <td>...</td>\n",
       "      <td>7</td>\n",
       "      <td>-356.600</td>\n",
       "      <td>2013-09</td>\n",
       "      <td>2016-07</td>\n",
       "      <td>nan</td>\n",
       "      <td>23927.279</td>\n",
       "      <td>nan</td>\n",
       "      <td>nan</td>\n",
       "      <td>19485.773</td>\n",
       "      <td>3382.627</td>\n",
       "    </tr>\n",
       "    <tr>\n",
       "      <th>15202</th>\n",
       "      <td>15203</td>\n",
       "      <td>White</td>\n",
       "      <td>Female</td>\n",
       "      <td>22376.000</td>\n",
       "      <td>46803.680</td>\n",
       "      <td>54</td>\n",
       "      <td>Economics</td>\n",
       "      <td>2016</td>\n",
       "      <td>2018</td>\n",
       "      <td>125</td>\n",
       "      <td>...</td>\n",
       "      <td>7</td>\n",
       "      <td>24427.680</td>\n",
       "      <td>2016-10</td>\n",
       "      <td>2018-07</td>\n",
       "      <td>48</td>\n",
       "      <td>46803.680</td>\n",
       "      <td>2241.720</td>\n",
       "      <td>22185.960</td>\n",
       "      <td>20746.926</td>\n",
       "      <td>26056.754</td>\n",
       "    </tr>\n",
       "    <tr>\n",
       "      <th>10827</th>\n",
       "      <td>10828</td>\n",
       "      <td>Black</td>\n",
       "      <td>Female</td>\n",
       "      <td>34726.000</td>\n",
       "      <td>37235.880</td>\n",
       "      <td>40</td>\n",
       "      <td>Philosophy</td>\n",
       "      <td>2015</td>\n",
       "      <td>2021</td>\n",
       "      <td>111</td>\n",
       "      <td>...</td>\n",
       "      <td>5</td>\n",
       "      <td>2509.880</td>\n",
       "      <td>2015-08</td>\n",
       "      <td>2021-05</td>\n",
       "      <td>06</td>\n",
       "      <td>nan</td>\n",
       "      <td>nan</td>\n",
       "      <td>nan</td>\n",
       "      <td>42246.742</td>\n",
       "      <td>-5010.862</td>\n",
       "    </tr>\n",
       "    <tr>\n",
       "      <th>8320</th>\n",
       "      <td>8321</td>\n",
       "      <td>White</td>\n",
       "      <td>Other/unspecified</td>\n",
       "      <td>17815.000</td>\n",
       "      <td>19084.200</td>\n",
       "      <td>18</td>\n",
       "      <td>Anthropology</td>\n",
       "      <td>2014</td>\n",
       "      <td>2018</td>\n",
       "      <td>92</td>\n",
       "      <td>...</td>\n",
       "      <td>7</td>\n",
       "      <td>1269.200</td>\n",
       "      <td>2014-08</td>\n",
       "      <td>2018-07</td>\n",
       "      <td>42</td>\n",
       "      <td>19084.200</td>\n",
       "      <td>4732.520</td>\n",
       "      <td>-3463.320</td>\n",
       "      <td>26820.410</td>\n",
       "      <td>-7736.210</td>\n",
       "    </tr>\n",
       "  </tbody>\n",
       "</table>\n",
       "<p>5 rows × 31 columns</p>\n",
       "</div>"
      ],
      "text/plain": [
       "       Unnamed: 0   race             gender  earnings_start  earnings_end  \\\n",
       "13134       13135  Other               Male       34179.000     42249.900   \n",
       "10111       10112  Black  Other/unspecified       23225.000     22868.400   \n",
       "15202       15203  White             Female       22376.000     46803.680   \n",
       "10827       10828  Black             Female       34726.000     37235.880   \n",
       "8320         8321  White  Other/unspecified       17815.000     19084.200   \n",
       "\n",
       "       age       program  program_start  program_end  education_level  ...  \\\n",
       "13134   33   Art History           2012         2015              124  ...   \n",
       "10111   61  Anthropology           2013         2016              111  ...   \n",
       "15202   54     Economics           2016         2018              125  ...   \n",
       "10827   40    Philosophy           2015         2021              111  ...   \n",
       "8320    18  Anthropology           2014         2018               92  ...   \n",
       "\n",
       "       end_month  earnings_change  year_month_entry  year_month_exit  \\\n",
       "13134          6         8070.900           2012-08          2015-06   \n",
       "10111          7         -356.600           2013-09          2016-07   \n",
       "15202          7        24427.680           2016-10          2018-07   \n",
       "10827          5         2509.880           2015-08          2021-05   \n",
       "8320           7         1269.200           2014-08          2018-07   \n",
       "\n",
       "      state_fips earnings_end_adjusted macro_wage_change  \\\n",
       "13134         26             44763.424          2792.920   \n",
       "10111        nan             23927.279               nan   \n",
       "15202         48             46803.680          2241.720   \n",
       "10827         06                   nan               nan   \n",
       "8320          42             19084.200          4732.520   \n",
       "\n",
       "      trend_adjusted_change  predicted_wage  earnings_premium  \n",
       "13134              5277.980       39463.487          2786.413  \n",
       "10111                   nan       19485.773          3382.627  \n",
       "15202             22185.960       20746.926         26056.754  \n",
       "10827                   nan       42246.742         -5010.862  \n",
       "8320              -3463.320       26820.410         -7736.210  \n",
       "\n",
       "[5 rows x 31 columns]"
      ]
     },
     "execution_count": 54,
     "metadata": {},
     "output_type": "execute_result"
    }
   ],
   "source": [
    "data.sample(5)"
   ]
  },
  {
   "cell_type": "code",
   "execution_count": 55,
   "metadata": {},
   "outputs": [
    {
     "data": {
      "text/plain": [
       "<matplotlib.axes._subplots.AxesSubplot at 0x7fc333dd3610>"
      ]
     },
     "execution_count": 55,
     "metadata": {},
     "output_type": "execute_result"
    },
    {
     "data": {
      "image/png": "[encoded data removed]",
      "text/plain": [
       "<Figure size 800x400 with 1 Axes>"
      ]
     },
     "metadata": {
      "needs_background": "light"
     },
     "output_type": "display_data"
    }
   ],
   "source": [
    "# Mean predicted vs actual wage by program\n",
    "original_summary = utilities.multiple_describe(data, 'program', 'earnings_end')\n",
    "adjusted_summary = utilities.multiple_describe(data, 'program', 'predicted_wage')\n",
    "original_summary['value'] = \"actual\"\n",
    "adjusted_summary['value'] = \"predicted\"\n",
    "\n",
    "sns.barplot(x=\"mean\", y=\"program\", hue=\"value\", data=pd.concat([original_summary, adjusted_summary]))"
   ]
  },
  {
   "cell_type": "code",
   "execution_count": 56,
   "metadata": {},
   "outputs": [
    {
     "data": {
      "text/plain": [
       "<matplotlib.axes._subplots.AxesSubplot at 0x7fc333e87d50>"
      ]
     },
     "execution_count": 56,
     "metadata": {},
     "output_type": "execute_result"
    },
    {
     "data": {
      "image/png": "[encoded data removed]",
      "text/plain": [
       "<Figure size 800x400 with 1 Axes>"
      ]
     },
     "metadata": {
      "needs_background": "light"
     },
     "output_type": "display_data"
    }
   ],
   "source": [
    "sns.barplot(x=\"earnings_premium\", y=\"program\", data=data, estimator=np.mean)"
   ]
  },
  {
   "cell_type": "markdown",
   "metadata": {},
   "source": [
    "__Section 8: Calculate employment premium__"
   ]
  },
  {
   "cell_type": "markdown",
   "metadata": {},
   "source": [
    "Students and decisionmakers may also ask the question: \"If I participate in a given program, how much likelier am I to get a job than if I hadn't participated?\"\n",
    "\n",
    "The `metrics.Employment_Likelihood()` method helps to answer that question in the same fashion as the trend-adjusted earnings premium calculated above in Section 7. In addition to YYYY-MM dates of entry and exit, this method also takes two binary variables-- one denoting whether or not an individual was employed before program entry, and one indicating whether they were employed after graduation."
   ]
  },
  {
   "cell_type": "code",
   "execution_count": 42,
   "metadata": {},
   "outputs": [
    {
     "name": "stderr",
     "output_type": "stream",
     "text": [
      "/Users/mattlerner/roi/sbir-roi/roi/utilities.py:135: UserWarning: State codes, though integers, should be passed as strings. Something else was passed. Attempting to coerce to string.\n",
      "  warnings.warn(\"State codes, though integers, should be passed as strings. Something else was passed. Attempting to coerce to string.\")\n"
     ]
    }
   ],
   "source": [
    "# library method\n",
    "employment = metrics.Employment_Likelihood(data, 'program', 'year_month_entry', 'year_month_exit', 'employed_at_end', 'employed_at_start', 'state')"
   ]
  },
  {
   "cell_type": "code",
   "execution_count": 43,
   "metadata": {},
   "outputs": [],
   "source": [
    "# library method\n",
    "premium = employment.employment_premium"
   ]
  },
  {
   "cell_type": "code",
   "execution_count": 44,
   "metadata": {},
   "outputs": [
    {
     "data": {
      "text/plain": [
       "Text(0.5, 1.0, 'Average employment premium')"
      ]
     },
     "execution_count": 44,
     "metadata": {},
     "output_type": "execute_result"
    },
    {
     "data": {
      "image/png": "[encoded data removed]",
      "text/plain": [
       "<Figure size 800x400 with 1 Axes>"
      ]
     },
     "metadata": {
      "needs_background": "light"
     },
     "output_type": "display_data"
    }
   ],
   "source": [
    "sns.barplot(x=\"mean_employment_premium\", y=\"program\", data=premium).set_title(\"Average employment premium\")"
   ]
  },
  {
   "cell_type": "markdown",
   "metadata": {},
   "source": [
    "__Calculate time to completion and completion rate statistics__"
   ]
  },
  {
   "cell_type": "code",
   "execution_count": 45,
   "metadata": {},
   "outputs": [],
   "source": [
    "# library method\n",
    "completion = metrics.Completion(data, 'program', 'program_start', 'program_end', 'completer')"
   ]
  },
  {
   "cell_type": "code",
   "execution_count": 46,
   "metadata": {},
   "outputs": [
    {
     "data": {
      "text/html": [
       "<div>\n",
       "<style scoped>\n",
       "    .dataframe tbody tr th:only-of-type {\n",
       "        vertical-align: middle;\n",
       "    }\n",
       "\n",
       "    .dataframe tbody tr th {\n",
       "        vertical-align: top;\n",
       "    }\n",
       "\n",
       "    .dataframe thead th {\n",
       "        text-align: right;\n",
       "    }\n",
       "</style>\n",
       "<table border=\"1\" class=\"dataframe\">\n",
       "  <thead>\n",
       "    <tr style=\"text-align: right;\">\n",
       "      <th></th>\n",
       "      <th>program</th>\n",
       "      <th>n</th>\n",
       "      <th>mean</th>\n",
       "      <th>median</th>\n",
       "      <th>sd</th>\n",
       "      <th>min</th>\n",
       "      <th>max</th>\n",
       "    </tr>\n",
       "  </thead>\n",
       "  <tbody>\n",
       "    <tr>\n",
       "      <th>0</th>\n",
       "      <td>Anthropology</td>\n",
       "      <td>2288</td>\n",
       "      <td>3.101</td>\n",
       "      <td>3</td>\n",
       "      <td>1.764</td>\n",
       "      <td>-1</td>\n",
       "      <td>10</td>\n",
       "    </tr>\n",
       "    <tr>\n",
       "      <th>1</th>\n",
       "      <td>Art History</td>\n",
       "      <td>2370</td>\n",
       "      <td>3.361</td>\n",
       "      <td>3</td>\n",
       "      <td>1.711</td>\n",
       "      <td>0</td>\n",
       "      <td>10</td>\n",
       "    </tr>\n",
       "    <tr>\n",
       "      <th>2</th>\n",
       "      <td>Biology</td>\n",
       "      <td>2404</td>\n",
       "      <td>3.192</td>\n",
       "      <td>3</td>\n",
       "      <td>1.725</td>\n",
       "      <td>-1</td>\n",
       "      <td>11</td>\n",
       "    </tr>\n",
       "    <tr>\n",
       "      <th>3</th>\n",
       "      <td>Economics</td>\n",
       "      <td>2327</td>\n",
       "      <td>3.713</td>\n",
       "      <td>3</td>\n",
       "      <td>1.792</td>\n",
       "      <td>0</td>\n",
       "      <td>12</td>\n",
       "    </tr>\n",
       "    <tr>\n",
       "      <th>4</th>\n",
       "      <td>Electrical Engineering</td>\n",
       "      <td>2386</td>\n",
       "      <td>4.009</td>\n",
       "      <td>4</td>\n",
       "      <td>1.732</td>\n",
       "      <td>0</td>\n",
       "      <td>11</td>\n",
       "    </tr>\n",
       "    <tr>\n",
       "      <th>5</th>\n",
       "      <td>French Literature</td>\n",
       "      <td>2339</td>\n",
       "      <td>3.041</td>\n",
       "      <td>3</td>\n",
       "      <td>1.709</td>\n",
       "      <td>-1</td>\n",
       "      <td>10</td>\n",
       "    </tr>\n",
       "    <tr>\n",
       "      <th>6</th>\n",
       "      <td>Philosophy</td>\n",
       "      <td>2297</td>\n",
       "      <td>3.527</td>\n",
       "      <td>3</td>\n",
       "      <td>1.713</td>\n",
       "      <td>0</td>\n",
       "      <td>11</td>\n",
       "    </tr>\n",
       "  </tbody>\n",
       "</table>\n",
       "</div>"
      ],
      "text/plain": [
       "                  program     n  mean  median    sd  min  max\n",
       "0            Anthropology  2288 3.101       3 1.764   -1   10\n",
       "1             Art History  2370 3.361       3 1.711    0   10\n",
       "2                 Biology  2404 3.192       3 1.725   -1   11\n",
       "3               Economics  2327 3.713       3 1.792    0   12\n",
       "4  Electrical Engineering  2386 4.009       4 1.732    0   11\n",
       "5       French Literature  2339 3.041       3 1.709   -1   10\n",
       "6              Philosophy  2297 3.527       3 1.713    0   11"
      ]
     },
     "execution_count": 46,
     "metadata": {},
     "output_type": "execute_result"
    }
   ],
   "source": [
    "completion_time = completion.time_to_completion\n",
    "completion_time"
   ]
  },
  {
   "cell_type": "code",
   "execution_count": 47,
   "metadata": {},
   "outputs": [
    {
     "data": {
      "text/html": [
       "<div>\n",
       "<style scoped>\n",
       "    .dataframe tbody tr th:only-of-type {\n",
       "        vertical-align: middle;\n",
       "    }\n",
       "\n",
       "    .dataframe tbody tr th {\n",
       "        vertical-align: top;\n",
       "    }\n",
       "\n",
       "    .dataframe thead th {\n",
       "        text-align: right;\n",
       "    }\n",
       "</style>\n",
       "<table border=\"1\" class=\"dataframe\">\n",
       "  <thead>\n",
       "    <tr style=\"text-align: right;\">\n",
       "      <th></th>\n",
       "      <th>program</th>\n",
       "      <th>n</th>\n",
       "      <th>mean</th>\n",
       "      <th>median</th>\n",
       "      <th>sd</th>\n",
       "      <th>min</th>\n",
       "      <th>max</th>\n",
       "    </tr>\n",
       "  </thead>\n",
       "  <tbody>\n",
       "    <tr>\n",
       "      <th>0</th>\n",
       "      <td>Anthropology</td>\n",
       "      <td>2288</td>\n",
       "      <td>0.669</td>\n",
       "      <td>1</td>\n",
       "      <td>0.471</td>\n",
       "      <td>0</td>\n",
       "      <td>1</td>\n",
       "    </tr>\n",
       "    <tr>\n",
       "      <th>1</th>\n",
       "      <td>Art History</td>\n",
       "      <td>2370</td>\n",
       "      <td>0.682</td>\n",
       "      <td>1</td>\n",
       "      <td>0.466</td>\n",
       "      <td>0</td>\n",
       "      <td>1</td>\n",
       "    </tr>\n",
       "    <tr>\n",
       "      <th>2</th>\n",
       "      <td>Biology</td>\n",
       "      <td>2404</td>\n",
       "      <td>0.671</td>\n",
       "      <td>1</td>\n",
       "      <td>0.470</td>\n",
       "      <td>0</td>\n",
       "      <td>1</td>\n",
       "    </tr>\n",
       "    <tr>\n",
       "      <th>3</th>\n",
       "      <td>Economics</td>\n",
       "      <td>2327</td>\n",
       "      <td>0.634</td>\n",
       "      <td>1</td>\n",
       "      <td>0.482</td>\n",
       "      <td>0</td>\n",
       "      <td>1</td>\n",
       "    </tr>\n",
       "    <tr>\n",
       "      <th>4</th>\n",
       "      <td>Electrical Engineering</td>\n",
       "      <td>2386</td>\n",
       "      <td>0.592</td>\n",
       "      <td>1</td>\n",
       "      <td>0.492</td>\n",
       "      <td>0</td>\n",
       "      <td>1</td>\n",
       "    </tr>\n",
       "    <tr>\n",
       "      <th>5</th>\n",
       "      <td>French Literature</td>\n",
       "      <td>2339</td>\n",
       "      <td>0.702</td>\n",
       "      <td>1</td>\n",
       "      <td>0.458</td>\n",
       "      <td>0</td>\n",
       "      <td>1</td>\n",
       "    </tr>\n",
       "    <tr>\n",
       "      <th>6</th>\n",
       "      <td>Philosophy</td>\n",
       "      <td>2297</td>\n",
       "      <td>0.654</td>\n",
       "      <td>1</td>\n",
       "      <td>0.476</td>\n",
       "      <td>0</td>\n",
       "      <td>1</td>\n",
       "    </tr>\n",
       "  </tbody>\n",
       "</table>\n",
       "</div>"
      ],
      "text/plain": [
       "                  program     n  mean  median    sd  min  max\n",
       "0            Anthropology  2288 0.669       1 0.471    0    1\n",
       "1             Art History  2370 0.682       1 0.466    0    1\n",
       "2                 Biology  2404 0.671       1 0.470    0    1\n",
       "3               Economics  2327 0.634       1 0.482    0    1\n",
       "4  Electrical Engineering  2386 0.592       1 0.492    0    1\n",
       "5       French Literature  2339 0.702       1 0.458    0    1\n",
       "6              Philosophy  2297 0.654       1 0.476    0    1"
      ]
     },
     "execution_count": 47,
     "metadata": {},
     "output_type": "execute_result"
    }
   ],
   "source": [
    "completion_rate = completion.completion_rates\n",
    "completion_rate"
   ]
  },
  {
   "cell_type": "code",
   "execution_count": 48,
   "metadata": {},
   "outputs": [
    {
     "data": {
      "text/plain": [
       "Text(0.5, 1.0, 'Average time to complete')"
      ]
     },
     "execution_count": 48,
     "metadata": {},
     "output_type": "execute_result"
    },
    {
     "data": {
      "image/png": "[encoded data removed]",
      "text/plain": [
       "<Figure size 800x400 with 1 Axes>"
      ]
     },
     "metadata": {
      "needs_background": "light"
     },
     "output_type": "display_data"
    }
   ],
   "source": [
    "sns.barplot(x=\"mean\", y=\"program\", data=completion_time).set_title(\"Average time to complete\")"
   ]
  },
  {
   "cell_type": "code",
   "execution_count": 49,
   "metadata": {},
   "outputs": [
    {
     "data": {
      "text/plain": [
       "Text(0.5, 1.0, 'Average completion rate')"
      ]
     },
     "execution_count": 49,
     "metadata": {},
     "output_type": "execute_result"
    },
    {
     "data": {
      "image/png": "[encoded data removed]",
      "text/plain": [
       "<Figure size 800x400 with 1 Axes>"
      ]
     },
     "metadata": {
      "needs_background": "light"
     },
     "output_type": "display_data"
    }
   ],
   "source": [
    "sns.barplot(x=\"mean\", y=\"program\", data=completion_rate).set_title(\"Average completion rate\")"
   ]
  },
  {
   "cell_type": "markdown",
   "metadata": {},
   "source": [
    "__Try out loan amounts__"
   ]
  },
  {
   "cell_type": "code",
   "execution_count": 50,
   "metadata": {},
   "outputs": [],
   "source": [
    "data_programs = data.merge(programs, left_on=\"program\", right_on=\"programs\", how=\"left\")\n",
    "data_programs['total_cost'] = data_programs['cost_per_semester'] * data_programs['length']\n",
    "\n",
    "# library method\n",
    "data_programs['period_payment'] = cost.Compound_Interest_Loan.calculate_period_payment(data_programs['total_cost'], 0.05, 10)"
   ]
  },
  {
   "cell_type": "code",
   "execution_count": 51,
   "metadata": {},
   "outputs": [
    {
     "data": {
      "text/html": [
       "<div>\n",
       "<style scoped>\n",
       "    .dataframe tbody tr th:only-of-type {\n",
       "        vertical-align: middle;\n",
       "    }\n",
       "\n",
       "    .dataframe tbody tr th {\n",
       "        vertical-align: top;\n",
       "    }\n",
       "\n",
       "    .dataframe thead th {\n",
       "        text-align: right;\n",
       "    }\n",
       "</style>\n",
       "<table border=\"1\" class=\"dataframe\">\n",
       "  <thead>\n",
       "    <tr style=\"text-align: right;\">\n",
       "      <th></th>\n",
       "      <th>Unnamed: 0_x</th>\n",
       "      <th>race</th>\n",
       "      <th>gender</th>\n",
       "      <th>earnings_start</th>\n",
       "      <th>earnings_end</th>\n",
       "      <th>age</th>\n",
       "      <th>program</th>\n",
       "      <th>program_start</th>\n",
       "      <th>program_end</th>\n",
       "      <th>education_level</th>\n",
       "      <th>...</th>\n",
       "      <th>empchange</th>\n",
       "      <th>emp_premium</th>\n",
       "      <th>time_to_completion</th>\n",
       "      <th>Unnamed: 0_y</th>\n",
       "      <th>programs</th>\n",
       "      <th>degree</th>\n",
       "      <th>length</th>\n",
       "      <th>cost_per_semester</th>\n",
       "      <th>total_cost</th>\n",
       "      <th>period_payment</th>\n",
       "    </tr>\n",
       "  </thead>\n",
       "  <tbody>\n",
       "    <tr>\n",
       "      <th>11137</th>\n",
       "      <td>11138</td>\n",
       "      <td>Asian or Pacific Islander</td>\n",
       "      <td>Female</td>\n",
       "      <td>14223.000</td>\n",
       "      <td>44736.010</td>\n",
       "      <td>26</td>\n",
       "      <td>Electrical Engineering</td>\n",
       "      <td>2011</td>\n",
       "      <td>2017</td>\n",
       "      <td>123</td>\n",
       "      <td>...</td>\n",
       "      <td>1</td>\n",
       "      <td>1.052</td>\n",
       "      <td>6</td>\n",
       "      <td>1</td>\n",
       "      <td>Electrical Engineering</td>\n",
       "      <td>BA</td>\n",
       "      <td>8</td>\n",
       "      <td>5000</td>\n",
       "      <td>40000</td>\n",
       "      <td>5180.183</td>\n",
       "    </tr>\n",
       "    <tr>\n",
       "      <th>16186</th>\n",
       "      <td>16187</td>\n",
       "      <td>Black</td>\n",
       "      <td>Male</td>\n",
       "      <td>26893.000</td>\n",
       "      <td>46075.200</td>\n",
       "      <td>34</td>\n",
       "      <td>Philosophy</td>\n",
       "      <td>2011</td>\n",
       "      <td>2015</td>\n",
       "      <td>125</td>\n",
       "      <td>...</td>\n",
       "      <td>0</td>\n",
       "      <td>0.038</td>\n",
       "      <td>4</td>\n",
       "      <td>7</td>\n",
       "      <td>Philosophy</td>\n",
       "      <td>BA</td>\n",
       "      <td>8</td>\n",
       "      <td>8000</td>\n",
       "      <td>64000</td>\n",
       "      <td>8288.293</td>\n",
       "    </tr>\n",
       "    <tr>\n",
       "      <th>12430</th>\n",
       "      <td>12431</td>\n",
       "      <td>White</td>\n",
       "      <td>Other/unspecified</td>\n",
       "      <td>22315.000</td>\n",
       "      <td>9719.325</td>\n",
       "      <td>58</td>\n",
       "      <td>French Literature</td>\n",
       "      <td>2011</td>\n",
       "      <td>2016</td>\n",
       "      <td>123</td>\n",
       "      <td>...</td>\n",
       "      <td>0</td>\n",
       "      <td>0.043</td>\n",
       "      <td>5</td>\n",
       "      <td>6</td>\n",
       "      <td>French Literature</td>\n",
       "      <td>MA</td>\n",
       "      <td>5</td>\n",
       "      <td>6000</td>\n",
       "      <td>30000</td>\n",
       "      <td>3885.137</td>\n",
       "    </tr>\n",
       "    <tr>\n",
       "      <th>11171</th>\n",
       "      <td>11172</td>\n",
       "      <td>Other</td>\n",
       "      <td>Female</td>\n",
       "      <td>34810.000</td>\n",
       "      <td>88697.840</td>\n",
       "      <td>47</td>\n",
       "      <td>Electrical Engineering</td>\n",
       "      <td>2013</td>\n",
       "      <td>2016</td>\n",
       "      <td>123</td>\n",
       "      <td>...</td>\n",
       "      <td>0</td>\n",
       "      <td>0.026</td>\n",
       "      <td>3</td>\n",
       "      <td>1</td>\n",
       "      <td>Electrical Engineering</td>\n",
       "      <td>BA</td>\n",
       "      <td>8</td>\n",
       "      <td>5000</td>\n",
       "      <td>40000</td>\n",
       "      <td>5180.183</td>\n",
       "    </tr>\n",
       "    <tr>\n",
       "      <th>14294</th>\n",
       "      <td>14295</td>\n",
       "      <td>Asian or Pacific Islander</td>\n",
       "      <td>Other/unspecified</td>\n",
       "      <td>22351.000</td>\n",
       "      <td>27623.470</td>\n",
       "      <td>18</td>\n",
       "      <td>French Literature</td>\n",
       "      <td>2014</td>\n",
       "      <td>2018</td>\n",
       "      <td>124</td>\n",
       "      <td>...</td>\n",
       "      <td>0</td>\n",
       "      <td>0.013</td>\n",
       "      <td>4</td>\n",
       "      <td>6</td>\n",
       "      <td>French Literature</td>\n",
       "      <td>MA</td>\n",
       "      <td>5</td>\n",
       "      <td>6000</td>\n",
       "      <td>30000</td>\n",
       "      <td>3885.137</td>\n",
       "    </tr>\n",
       "    <tr>\n",
       "      <th>12509</th>\n",
       "      <td>12510</td>\n",
       "      <td>White</td>\n",
       "      <td>Male</td>\n",
       "      <td>20251.000</td>\n",
       "      <td>38710.800</td>\n",
       "      <td>18</td>\n",
       "      <td>Philosophy</td>\n",
       "      <td>2012</td>\n",
       "      <td>2016</td>\n",
       "      <td>123</td>\n",
       "      <td>...</td>\n",
       "      <td>0</td>\n",
       "      <td>0.041</td>\n",
       "      <td>4</td>\n",
       "      <td>7</td>\n",
       "      <td>Philosophy</td>\n",
       "      <td>BA</td>\n",
       "      <td>8</td>\n",
       "      <td>8000</td>\n",
       "      <td>64000</td>\n",
       "      <td>8288.293</td>\n",
       "    </tr>\n",
       "    <tr>\n",
       "      <th>870</th>\n",
       "      <td>871</td>\n",
       "      <td>Other</td>\n",
       "      <td>Male</td>\n",
       "      <td>25281.000</td>\n",
       "      <td>28027.200</td>\n",
       "      <td>26</td>\n",
       "      <td>Anthropology</td>\n",
       "      <td>2016</td>\n",
       "      <td>2017</td>\n",
       "      <td>0</td>\n",
       "      <td>...</td>\n",
       "      <td>0</td>\n",
       "      <td>0.005</td>\n",
       "      <td>1</td>\n",
       "      <td>4</td>\n",
       "      <td>Anthropology</td>\n",
       "      <td>BA</td>\n",
       "      <td>4</td>\n",
       "      <td>4500</td>\n",
       "      <td>18000</td>\n",
       "      <td>2331.082</td>\n",
       "    </tr>\n",
       "    <tr>\n",
       "      <th>12071</th>\n",
       "      <td>12072</td>\n",
       "      <td>White</td>\n",
       "      <td>Female</td>\n",
       "      <td>20957.000</td>\n",
       "      <td>34007.490</td>\n",
       "      <td>29</td>\n",
       "      <td>Biology</td>\n",
       "      <td>2011</td>\n",
       "      <td>2013</td>\n",
       "      <td>123</td>\n",
       "      <td>...</td>\n",
       "      <td>0</td>\n",
       "      <td>0.010</td>\n",
       "      <td>2</td>\n",
       "      <td>5</td>\n",
       "      <td>Biology</td>\n",
       "      <td>AS</td>\n",
       "      <td>3</td>\n",
       "      <td>3000</td>\n",
       "      <td>9000</td>\n",
       "      <td>1165.541</td>\n",
       "    </tr>\n",
       "    <tr>\n",
       "      <th>10536</th>\n",
       "      <td>10537</td>\n",
       "      <td>Asian or Pacific Islander</td>\n",
       "      <td>Male</td>\n",
       "      <td>28251.000</td>\n",
       "      <td>29457.400</td>\n",
       "      <td>19</td>\n",
       "      <td>French Literature</td>\n",
       "      <td>2007</td>\n",
       "      <td>2012</td>\n",
       "      <td>111</td>\n",
       "      <td>...</td>\n",
       "      <td>0</td>\n",
       "      <td>-0.042</td>\n",
       "      <td>5</td>\n",
       "      <td>6</td>\n",
       "      <td>French Literature</td>\n",
       "      <td>MA</td>\n",
       "      <td>5</td>\n",
       "      <td>6000</td>\n",
       "      <td>30000</td>\n",
       "      <td>3885.137</td>\n",
       "    </tr>\n",
       "    <tr>\n",
       "      <th>12816</th>\n",
       "      <td>12817</td>\n",
       "      <td>Black</td>\n",
       "      <td>Male</td>\n",
       "      <td>31373.000</td>\n",
       "      <td>69584.400</td>\n",
       "      <td>34</td>\n",
       "      <td>Electrical Engineering</td>\n",
       "      <td>2017</td>\n",
       "      <td>2020</td>\n",
       "      <td>124</td>\n",
       "      <td>...</td>\n",
       "      <td>0</td>\n",
       "      <td>nan</td>\n",
       "      <td>3</td>\n",
       "      <td>1</td>\n",
       "      <td>Electrical Engineering</td>\n",
       "      <td>BA</td>\n",
       "      <td>8</td>\n",
       "      <td>5000</td>\n",
       "      <td>40000</td>\n",
       "      <td>5180.183</td>\n",
       "    </tr>\n",
       "  </tbody>\n",
       "</table>\n",
       "<p>10 rows × 41 columns</p>\n",
       "</div>"
      ],
      "text/plain": [
       "       Unnamed: 0_x                       race             gender  \\\n",
       "11137         11138  Asian or Pacific Islander             Female   \n",
       "16186         16187                      Black               Male   \n",
       "12430         12431                      White  Other/unspecified   \n",
       "11171         11172                      Other             Female   \n",
       "14294         14295  Asian or Pacific Islander  Other/unspecified   \n",
       "12509         12510                      White               Male   \n",
       "870             871                      Other               Male   \n",
       "12071         12072                      White             Female   \n",
       "10536         10537  Asian or Pacific Islander               Male   \n",
       "12816         12817                      Black               Male   \n",
       "\n",
       "       earnings_start  earnings_end  age                 program  \\\n",
       "11137       14223.000     44736.010   26  Electrical Engineering   \n",
       "16186       26893.000     46075.200   34              Philosophy   \n",
       "12430       22315.000      9719.325   58       French Literature   \n",
       "11171       34810.000     88697.840   47  Electrical Engineering   \n",
       "14294       22351.000     27623.470   18       French Literature   \n",
       "12509       20251.000     38710.800   18              Philosophy   \n",
       "870         25281.000     28027.200   26            Anthropology   \n",
       "12071       20957.000     34007.490   29                 Biology   \n",
       "10536       28251.000     29457.400   19       French Literature   \n",
       "12816       31373.000     69584.400   34  Electrical Engineering   \n",
       "\n",
       "       program_start  program_end  education_level  ...  empchange  \\\n",
       "11137           2011         2017              123  ...          1   \n",
       "16186           2011         2015              125  ...          0   \n",
       "12430           2011         2016              123  ...          0   \n",
       "11171           2013         2016              123  ...          0   \n",
       "14294           2014         2018              124  ...          0   \n",
       "12509           2012         2016              123  ...          0   \n",
       "870             2016         2017                0  ...          0   \n",
       "12071           2011         2013              123  ...          0   \n",
       "10536           2007         2012              111  ...          0   \n",
       "12816           2017         2020              124  ...          0   \n",
       "\n",
       "       emp_premium  time_to_completion Unnamed: 0_y                programs  \\\n",
       "11137        1.052                   6            1  Electrical Engineering   \n",
       "16186        0.038                   4            7              Philosophy   \n",
       "12430        0.043                   5            6       French Literature   \n",
       "11171        0.026                   3            1  Electrical Engineering   \n",
       "14294        0.013                   4            6       French Literature   \n",
       "12509        0.041                   4            7              Philosophy   \n",
       "870          0.005                   1            4            Anthropology   \n",
       "12071        0.010                   2            5                 Biology   \n",
       "10536       -0.042                   5            6       French Literature   \n",
       "12816          nan                   3            1  Electrical Engineering   \n",
       "\n",
       "      degree length cost_per_semester  total_cost  period_payment  \n",
       "11137     BA      8              5000       40000        5180.183  \n",
       "16186     BA      8              8000       64000        8288.293  \n",
       "12430     MA      5              6000       30000        3885.137  \n",
       "11171     BA      8              5000       40000        5180.183  \n",
       "14294     MA      5              6000       30000        3885.137  \n",
       "12509     BA      8              8000       64000        8288.293  \n",
       "870       BA      4              4500       18000        2331.082  \n",
       "12071     AS      3              3000        9000        1165.541  \n",
       "10536     MA      5              6000       30000        3885.137  \n",
       "12816     BA      8              5000       40000        5180.183  \n",
       "\n",
       "[10 rows x 41 columns]"
      ]
     },
     "execution_count": 51,
     "metadata": {},
     "output_type": "execute_result"
    }
   ],
   "source": [
    "data_programs.sample(10)"
   ]
  },
  {
   "cell_type": "code",
   "execution_count": 52,
   "metadata": {},
   "outputs": [],
   "source": [
    "data_programs['premium_with_payments'] = data_programs['earnings_premium'] - data_programs['period_payment']"
   ]
  },
  {
   "cell_type": "code",
   "execution_count": 53,
   "metadata": {},
   "outputs": [],
   "source": [
    "summary_w_payments = utilities.multiple_describe(data_programs, 'program', 'premium_with_payments')"
   ]
  },
  {
   "cell_type": "code",
   "execution_count": 54,
   "metadata": {},
   "outputs": [
    {
     "data": {
      "text/plain": [
       "Text(0.5, 1.0, 'Return including loan payments')"
      ]
     },
     "execution_count": 54,
     "metadata": {},
     "output_type": "execute_result"
    },
    {
     "data": {
      "image/png": "[encoded data removed]",
      "text/plain": [
       "<Figure size 800x400 with 1 Axes>"
      ]
     },
     "metadata": {
      "needs_background": "light"
     },
     "output_type": "display_data"
    }
   ],
   "source": [
    "sns.barplot(x=\"mean\", y=\"program\", data=summary_w_payments).set_title(\"Return including loan payments\")"
   ]
  },
  {
   "cell_type": "markdown",
   "metadata": {},
   "source": [
    "__High school baselines__"
   ]
  },
  {
   "cell_type": "code",
   "execution_count": 55,
   "metadata": {},
   "outputs": [
    {
     "name": "stderr",
     "output_type": "stream",
     "text": [
      "/Users/mattlerner/roi/sbir-roi/roi/utilities.py:135: UserWarning: State codes, though integers, should be passed as strings. Something else was passed. Attempting to coerce to string.\n",
      "  warnings.warn(\"State codes, though integers, should be passed as strings. Something else was passed. Attempting to coerce to string.\")\n"
     ]
    }
   ],
   "source": [
    "cps = surveys.CPS_Ops()"
   ]
  },
  {
   "cell_type": "code",
   "execution_count": 56,
   "metadata": {},
   "outputs": [
    {
     "data": {
      "text/plain": [
       "[15017.630256967966, 21688.246894625805, 34336.28062777556]"
      ]
     },
     "execution_count": 56,
     "metadata": {},
     "output_type": "execute_result"
    }
   ],
   "source": [
    "# library method\n",
    "cps.rudimentary_hs_baseline('08', [1, 5, 10])"
   ]
  },
  {
   "cell_type": "code",
   "execution_count": 57,
   "metadata": {},
   "outputs": [
    {
     "name": "stdout",
     "output_type": "stream",
     "text": [
      "State_To_FIPS_series usually takes a pandas series. Something else was passed. Now trying under assumption that passed object is list or array\n"
     ]
    }
   ],
   "source": [
    "states = ['CA','TX','AK','MS','CO','NY','NJ','PA']\n",
    "fips = utilities.State_To_FIPS_series(states)"
   ]
  },
  {
   "cell_type": "code",
   "execution_count": 58,
   "metadata": {},
   "outputs": [
    {
     "data": {
      "text/plain": [
       "['06', '48', '02', '28', '08', '36', '34', '42']"
      ]
     },
     "execution_count": 58,
     "metadata": {},
     "output_type": "execute_result"
    }
   ],
   "source": [
    "fips"
   ]
  },
  {
   "cell_type": "code",
   "execution_count": 59,
   "metadata": {},
   "outputs": [],
   "source": [
    "baselines = pd.DataFrame([cps.rudimentary_hs_baseline(state, [1, 5, 10]) for state in fips])\n",
    "baselines['state'] = states\n",
    "baselines.columns = ['1','5','10','State']"
   ]
  },
  {
   "cell_type": "code",
   "execution_count": 60,
   "metadata": {},
   "outputs": [],
   "source": [
    "baselines_melted = pd.melt(baselines, id_vars=['State'], var_name=\"year\", value_name=\"earnings\")\n",
    "baselines_melted['year'] = baselines_melted['year'].astype(int)\n",
    "baselines_melted['earnings'] = baselines_melted['earnings'].astype(int)"
   ]
  },
  {
   "cell_type": "code",
   "execution_count": 61,
   "metadata": {},
   "outputs": [
    {
     "data": {
      "text/plain": [
       "<matplotlib.axes._subplots.AxesSubplot at 0x7ff183195a90>"
      ]
     },
     "execution_count": 61,
     "metadata": {},
     "output_type": "execute_result"
    },
    {
     "data": {
      "image/png": "[encoded data removed]",
      "text/plain": [
       "<Figure size 800x400 with 1 Axes>"
      ]
     },
     "metadata": {
      "needs_background": "light"
     },
     "output_type": "display_data"
    }
   ],
   "source": [
    "sns.lineplot(data=baselines_melted, x=\"year\", y=\"earnings\", hue=\"State\")"
   ]
  },
  {
   "cell_type": "markdown",
   "metadata": {},
   "source": [
    "__Completion rate vs earnings premium__"
   ]
  },
  {
   "cell_type": "code",
   "execution_count": 62,
   "metadata": {},
   "outputs": [],
   "source": [
    "merged_rate_premium = completion_rate.merge(premium, on=\"program\")"
   ]
  },
  {
   "cell_type": "code",
   "execution_count": 63,
   "metadata": {},
   "outputs": [
    {
     "data": {
      "text/plain": [
       "[Text(0, 0.5, 'Increased likelihood of employment'),\n",
       " Text(0.5, 0, 'Completion rate'),\n",
       " Text(0.5, 1.0, 'Completion rate vs employment premium')]"
      ]
     },
     "execution_count": 63,
     "metadata": {},
     "output_type": "execute_result"
    },
    {
     "data": {
      "image/png": "[encoded data removed]",
      "text/plain": [
       "<Figure size 800x400 with 1 Axes>"
      ]
     },
     "metadata": {
      "needs_background": "light"
     },
     "output_type": "display_data"
    }
   ],
   "source": [
    "fig, ax = plt.subplots()\n",
    "sns.scatterplot(data=merged_rate_premium, x=\"mean\", y=\"mean_employment_premium\", ax=ax, s=100)\n",
    "ax.set(xlabel='Completion rate', ylabel='Increased likelihood of employment', title='Completion rate vs employment premium')"
   ]
  },
  {
   "cell_type": "code",
   "execution_count": null,
   "metadata": {},
   "outputs": [],
   "source": []
  }
 ],
 "metadata": {
  "kernelspec": {
   "display_name": "Python 3",
   "language": "python",
   "name": "python3"
  },
  "language_info": {
   "codemirror_mode": {
    "name": "ipython",
    "version": 3
   },
   "file_extension": ".py",
   "mimetype": "text/x-python",
   "name": "python",
   "nbconvert_exporter": "python",
   "pygments_lexer": "ipython3",
   "version": "3.7.7"
  }
 },
 "nbformat": 4,
 "nbformat_minor": 4
}
