{
 "cells": [
  {
   "cell_type": "code",
   "execution_count": 1,
   "metadata": {},
   "outputs": [],
   "source": [
    "from roi import equity, external, utilities, macro, metrics, cost, surveys\n",
    "import pandas as pd\n",
    "import matplotlib.pyplot as plt\n",
    "import numpy as np\n",
    "import seaborn as sns\n",
    "\n",
    "# make figures readable by humans instead of mice\n",
    "plt.rcParams['figure.figsize'] = [8, 4]\n",
    "plt.rcParams['figure.dpi'] = 100"
   ]
  },
  {
   "cell_type": "code",
   "execution_count": 2,
   "metadata": {},
   "outputs": [],
   "source": [
    "bls_api_key = \"c8803d0ba66c4592b8b0eff68ac9ebb0\""
   ]
  },
  {
   "cell_type": "code",
   "execution_count": 3,
   "metadata": {},
   "outputs": [],
   "source": [
    "data = pd.read_csv(\"testing/testing-data/test_microdata_2.csv\")"
   ]
  },
  {
   "cell_type": "code",
   "execution_count": 4,
   "metadata": {},
   "outputs": [],
   "source": [
    "programs = pd.read_csv(\"testing/testing-data/programs.csv\")"
   ]
  },
  {
   "cell_type": "code",
   "execution_count": 5,
   "metadata": {},
   "outputs": [
    {
     "data": {
      "text/plain": [
       "Index(['Unnamed: 0', 'race', 'gender', 'earnings_start', 'earnings_end', 'age',\n",
       "       'program', 'program_start', 'program_end', 'education_level',\n",
       "       'completer', 'employed_at_end', 'employed_at_start', 'state',\n",
       "       'full_address', 'Address', 'City', 'State', 'Zip', 'id', 'start_month',\n",
       "       'end_month'],\n",
       "      dtype='object')"
      ]
     },
     "execution_count": 5,
     "metadata": {},
     "output_type": "execute_result"
    }
   ],
   "source": [
    "data.columns"
   ]
  },
  {
   "cell_type": "markdown",
   "metadata": {},
   "source": [
    "__Equity analysis__"
   ]
  },
  {
   "cell_type": "code",
   "execution_count": 6,
   "metadata": {},
   "outputs": [
    {
     "name": "stderr",
     "output_type": "stream",
     "text": [
      "/Users/mattlerner/roi/sbir-roi/roi/equity.py:77: UserWarning: When sample == True, Metric() will use the value of sample to create a random subset of values that it will use for all calculations. This number will be stored as attribute .samplesize.\n",
      "  warnings.warn(\"When sample == True, Metric() will use the value of sample to create a random subset of values that it will use for all calculations. This number will be stored as attribute .samplesize.\")\n",
      "/Users/mattlerner/roi/sbir-roi/roi/equity.py:61: UserWarning: Data passed contains 92 NA values. All equity metrics are calculated by ignoring NA values, in effect dropping them. Please ensure that you have a strategy for dealing with these missing values. If values are not missing at random, e.g. if individuals with missing values have common traits, then ALL METRICS calculated will be biased.\n",
      "  warnings.warn(\"Data passed contains {} NA values. All equity metrics are calculated by ignoring NA values, in effect dropping them. Please ensure that you have a strategy for dealing with these missing values. If values are not missing at random, e.g. if individuals with missing values have common traits, then ALL METRICS calculated will be biased.\".format(self.nans))\n"
     ]
    }
   ],
   "source": [
    "gini = equity.Gini.from_dataframe(data, 'gender', 'earnings_end', sample = 2000)\n",
    "gini.calculate()"
   ]
  },
  {
   "cell_type": "code",
   "execution_count": 7,
   "metadata": {},
   "outputs": [
    {
     "data": {
      "image/png": "[encoded data removed]",
      "text/plain": [
       "<Figure size 800x400 with 1 Axes>"
      ]
     },
     "execution_count": 7,
     "metadata": {},
     "output_type": "execute_result"
    }
   ],
   "source": [
    "gini.viz"
   ]
  },
  {
   "cell_type": "code",
   "execution_count": 8,
   "metadata": {},
   "outputs": [
    {
     "data": {
      "text/plain": [
       "0.3255329064790096"
      ]
     },
     "execution_count": 8,
     "metadata": {},
     "output_type": "execute_result"
    }
   ],
   "source": [
    "gini.ratio"
   ]
  },
  {
   "cell_type": "code",
   "execution_count": 9,
   "metadata": {},
   "outputs": [
    {
     "data": {
      "text/plain": [
       "2000"
      ]
     },
     "execution_count": 9,
     "metadata": {},
     "output_type": "execute_result"
    }
   ],
   "source": [
    "gini.sample"
   ]
  },
  {
   "cell_type": "markdown",
   "metadata": {},
   "source": [
    "__Geocode addresses__"
   ]
  },
  {
   "cell_type": "code",
   "execution_count": 10,
   "metadata": {},
   "outputs": [],
   "source": [
    "small_data = data.sample(30)"
   ]
  },
  {
   "cell_type": "code",
   "execution_count": 11,
   "metadata": {},
   "outputs": [
    {
     "data": {
      "text/html": [
       "<div>\n",
       "<style scoped>\n",
       "    .dataframe tbody tr th:only-of-type {\n",
       "        vertical-align: middle;\n",
       "    }\n",
       "\n",
       "    .dataframe tbody tr th {\n",
       "        vertical-align: top;\n",
       "    }\n",
       "\n",
       "    .dataframe thead th {\n",
       "        text-align: right;\n",
       "    }\n",
       "</style>\n",
       "<table border=\"1\" class=\"dataframe\">\n",
       "  <thead>\n",
       "    <tr style=\"text-align: right;\">\n",
       "      <th></th>\n",
       "      <th>Unnamed: 0</th>\n",
       "      <th>race</th>\n",
       "      <th>gender</th>\n",
       "      <th>earnings_start</th>\n",
       "      <th>earnings_end</th>\n",
       "      <th>age</th>\n",
       "      <th>program</th>\n",
       "      <th>program_start</th>\n",
       "      <th>program_end</th>\n",
       "      <th>education_level</th>\n",
       "      <th>...</th>\n",
       "      <th>employed_at_start</th>\n",
       "      <th>state</th>\n",
       "      <th>full_address</th>\n",
       "      <th>Address</th>\n",
       "      <th>City</th>\n",
       "      <th>State</th>\n",
       "      <th>Zip</th>\n",
       "      <th>id</th>\n",
       "      <th>start_month</th>\n",
       "      <th>end_month</th>\n",
       "    </tr>\n",
       "  </thead>\n",
       "  <tbody>\n",
       "    <tr>\n",
       "      <th>10786</th>\n",
       "      <td>10787</td>\n",
       "      <td>Other</td>\n",
       "      <td>Male</td>\n",
       "      <td>27383.000</td>\n",
       "      <td>nan</td>\n",
       "      <td>50</td>\n",
       "      <td>Philosophy</td>\n",
       "      <td>2012</td>\n",
       "      <td>2016</td>\n",
       "      <td>111</td>\n",
       "      <td>...</td>\n",
       "      <td>1</td>\n",
       "      <td>8</td>\n",
       "      <td>1605 EAST DEL MAR STE 103 LAREDO TX 78041</td>\n",
       "      <td>1605 EAST DEL MAR STE 103</td>\n",
       "      <td>LAREDO</td>\n",
       "      <td>TX</td>\n",
       "      <td>78041.000</td>\n",
       "      <td>12502</td>\n",
       "      <td>10</td>\n",
       "      <td>5</td>\n",
       "    </tr>\n",
       "    <tr>\n",
       "      <th>5397</th>\n",
       "      <td>5398</td>\n",
       "      <td>Other</td>\n",
       "      <td>Male</td>\n",
       "      <td>29221.000</td>\n",
       "      <td>nan</td>\n",
       "      <td>23</td>\n",
       "      <td>Philosophy</td>\n",
       "      <td>2015</td>\n",
       "      <td>2017</td>\n",
       "      <td>73</td>\n",
       "      <td>...</td>\n",
       "      <td>1</td>\n",
       "      <td>8</td>\n",
       "      <td>NaN</td>\n",
       "      <td>NaN</td>\n",
       "      <td>NaN</td>\n",
       "      <td>NaN</td>\n",
       "      <td>nan</td>\n",
       "      <td>13152</td>\n",
       "      <td>8</td>\n",
       "      <td>7</td>\n",
       "    </tr>\n",
       "    <tr>\n",
       "      <th>9954</th>\n",
       "      <td>9955</td>\n",
       "      <td>Asian or Pacific Islander</td>\n",
       "      <td>Male</td>\n",
       "      <td>31261.000</td>\n",
       "      <td>36554.400</td>\n",
       "      <td>49</td>\n",
       "      <td>Anthropology</td>\n",
       "      <td>2019</td>\n",
       "      <td>2021</td>\n",
       "      <td>111</td>\n",
       "      <td>...</td>\n",
       "      <td>1</td>\n",
       "      <td>8</td>\n",
       "      <td>NaN</td>\n",
       "      <td>NaN</td>\n",
       "      <td>NaN</td>\n",
       "      <td>NaN</td>\n",
       "      <td>nan</td>\n",
       "      <td>8914</td>\n",
       "      <td>9</td>\n",
       "      <td>7</td>\n",
       "    </tr>\n",
       "    <tr>\n",
       "      <th>11956</th>\n",
       "      <td>11957</td>\n",
       "      <td>Asian or Pacific Islander</td>\n",
       "      <td>Other/unspecified</td>\n",
       "      <td>29550.000</td>\n",
       "      <td>25699.240</td>\n",
       "      <td>18</td>\n",
       "      <td>Anthropology</td>\n",
       "      <td>2012</td>\n",
       "      <td>2014</td>\n",
       "      <td>123</td>\n",
       "      <td>...</td>\n",
       "      <td>0</td>\n",
       "      <td>8</td>\n",
       "      <td>375 LAGUNA HONDA BLVD, UNIT F5 SAN FRANCISCO C...</td>\n",
       "      <td>375 LAGUNA HONDA BLVD, UNIT F5</td>\n",
       "      <td>SAN FRANCISCO</td>\n",
       "      <td>CA</td>\n",
       "      <td>94116.000</td>\n",
       "      <td>4780</td>\n",
       "      <td>8</td>\n",
       "      <td>6</td>\n",
       "    </tr>\n",
       "    <tr>\n",
       "      <th>3728</th>\n",
       "      <td>3729</td>\n",
       "      <td>Other</td>\n",
       "      <td>Other/unspecified</td>\n",
       "      <td>36674.000</td>\n",
       "      <td>46908.780</td>\n",
       "      <td>18</td>\n",
       "      <td>Philosophy</td>\n",
       "      <td>2012</td>\n",
       "      <td>2015</td>\n",
       "      <td>60</td>\n",
       "      <td>...</td>\n",
       "      <td>1</td>\n",
       "      <td>8</td>\n",
       "      <td>9290 WEST DODGE ROAD, SUITE 201A OMAHA NE 68114</td>\n",
       "      <td>9290 WEST DODGE ROAD, SUITE 201A</td>\n",
       "      <td>OMAHA</td>\n",
       "      <td>NE</td>\n",
       "      <td>68114.000</td>\n",
       "      <td>9310</td>\n",
       "      <td>9</td>\n",
       "      <td>5</td>\n",
       "    </tr>\n",
       "  </tbody>\n",
       "</table>\n",
       "<p>5 rows × 22 columns</p>\n",
       "</div>"
      ],
      "text/plain": [
       "       Unnamed: 0                       race             gender  \\\n",
       "10786       10787                      Other               Male   \n",
       "5397         5398                      Other               Male   \n",
       "9954         9955  Asian or Pacific Islander               Male   \n",
       "11956       11957  Asian or Pacific Islander  Other/unspecified   \n",
       "3728         3729                      Other  Other/unspecified   \n",
       "\n",
       "       earnings_start  earnings_end  age       program  program_start  \\\n",
       "10786       27383.000           nan   50    Philosophy           2012   \n",
       "5397        29221.000           nan   23    Philosophy           2015   \n",
       "9954        31261.000     36554.400   49  Anthropology           2019   \n",
       "11956       29550.000     25699.240   18  Anthropology           2012   \n",
       "3728        36674.000     46908.780   18    Philosophy           2012   \n",
       "\n",
       "       program_end  education_level  ...  employed_at_start  state  \\\n",
       "10786         2016              111  ...                  1      8   \n",
       "5397          2017               73  ...                  1      8   \n",
       "9954          2021              111  ...                  1      8   \n",
       "11956         2014              123  ...                  0      8   \n",
       "3728          2015               60  ...                  1      8   \n",
       "\n",
       "                                            full_address  \\\n",
       "10786          1605 EAST DEL MAR STE 103 LAREDO TX 78041   \n",
       "5397                                                 NaN   \n",
       "9954                                                 NaN   \n",
       "11956  375 LAGUNA HONDA BLVD, UNIT F5 SAN FRANCISCO C...   \n",
       "3728     9290 WEST DODGE ROAD, SUITE 201A OMAHA NE 68114   \n",
       "\n",
       "                                Address           City State       Zip     id  \\\n",
       "10786         1605 EAST DEL MAR STE 103         LAREDO    TX 78041.000  12502   \n",
       "5397                                NaN            NaN   NaN       nan  13152   \n",
       "9954                                NaN            NaN   NaN       nan   8914   \n",
       "11956    375 LAGUNA HONDA BLVD, UNIT F5  SAN FRANCISCO    CA 94116.000   4780   \n",
       "3728   9290 WEST DODGE ROAD, SUITE 201A          OMAHA    NE 68114.000   9310   \n",
       "\n",
       "       start_month  end_month  \n",
       "10786           10          5  \n",
       "5397             8          7  \n",
       "9954             9          7  \n",
       "11956            8          6  \n",
       "3728             9          5  \n",
       "\n",
       "[5 rows x 22 columns]"
      ]
     },
     "execution_count": 11,
     "metadata": {},
     "output_type": "execute_result"
    }
   ],
   "source": [
    "small_data.head()"
   ]
  },
  {
   "cell_type": "code",
   "execution_count": 12,
   "metadata": {},
   "outputs": [
    {
     "name": "stdout",
     "output_type": "stream",
     "text": [
      "Successfully geocoded 40.0% of 30 passed addresses.\n",
      "Of successfully matched addresses, 66.67% were exact matches\n"
     ]
    }
   ],
   "source": [
    "small_data['geocode'] = external.Census.get_batch_geocode(small_data)"
   ]
  },
  {
   "cell_type": "markdown",
   "metadata": {},
   "source": [
    "__Get SES for each individual with a geocode__"
   ]
  },
  {
   "cell_type": "code",
   "execution_count": 13,
   "metadata": {},
   "outputs": [],
   "source": [
    "adi = equity.ADI()"
   ]
  },
  {
   "cell_type": "code",
   "execution_count": 14,
   "metadata": {},
   "outputs": [
    {
     "name": "stdout",
     "output_type": "stream",
     "text": [
      "Geocode merge: Merged 12 of 30 observations in input dataframe (40.0%)\n"
     ]
    }
   ],
   "source": [
    "small_data['ses'] = adi.get_quintile_for_geocodes_frame(small_data, 'geocode')"
   ]
  },
  {
   "cell_type": "code",
   "execution_count": 15,
   "metadata": {},
   "outputs": [
    {
     "data": {
      "text/html": [
       "<div>\n",
       "<style scoped>\n",
       "    .dataframe tbody tr th:only-of-type {\n",
       "        vertical-align: middle;\n",
       "    }\n",
       "\n",
       "    .dataframe tbody tr th {\n",
       "        vertical-align: top;\n",
       "    }\n",
       "\n",
       "    .dataframe thead th {\n",
       "        text-align: right;\n",
       "    }\n",
       "</style>\n",
       "<table border=\"1\" class=\"dataframe\">\n",
       "  <thead>\n",
       "    <tr style=\"text-align: right;\">\n",
       "      <th></th>\n",
       "      <th>Unnamed: 0</th>\n",
       "      <th>race</th>\n",
       "      <th>gender</th>\n",
       "      <th>earnings_start</th>\n",
       "      <th>earnings_end</th>\n",
       "      <th>age</th>\n",
       "      <th>program</th>\n",
       "      <th>program_start</th>\n",
       "      <th>program_end</th>\n",
       "      <th>education_level</th>\n",
       "      <th>...</th>\n",
       "      <th>full_address</th>\n",
       "      <th>Address</th>\n",
       "      <th>City</th>\n",
       "      <th>State</th>\n",
       "      <th>Zip</th>\n",
       "      <th>id</th>\n",
       "      <th>start_month</th>\n",
       "      <th>end_month</th>\n",
       "      <th>geocode</th>\n",
       "      <th>ses</th>\n",
       "    </tr>\n",
       "  </thead>\n",
       "  <tbody>\n",
       "    <tr>\n",
       "      <th>10786</th>\n",
       "      <td>10787</td>\n",
       "      <td>Other</td>\n",
       "      <td>Male</td>\n",
       "      <td>27383.000</td>\n",
       "      <td>nan</td>\n",
       "      <td>50</td>\n",
       "      <td>Philosophy</td>\n",
       "      <td>2012</td>\n",
       "      <td>2016</td>\n",
       "      <td>111</td>\n",
       "      <td>...</td>\n",
       "      <td>1605 EAST DEL MAR STE 103 LAREDO TX 78041</td>\n",
       "      <td>1605 EAST DEL MAR STE 103</td>\n",
       "      <td>LAREDO</td>\n",
       "      <td>TX</td>\n",
       "      <td>78041.000</td>\n",
       "      <td>12502</td>\n",
       "      <td>10</td>\n",
       "      <td>5</td>\n",
       "      <td></td>\n",
       "      <td>NaN</td>\n",
       "    </tr>\n",
       "    <tr>\n",
       "      <th>5397</th>\n",
       "      <td>5398</td>\n",
       "      <td>Other</td>\n",
       "      <td>Male</td>\n",
       "      <td>29221.000</td>\n",
       "      <td>nan</td>\n",
       "      <td>23</td>\n",
       "      <td>Philosophy</td>\n",
       "      <td>2015</td>\n",
       "      <td>2017</td>\n",
       "      <td>73</td>\n",
       "      <td>...</td>\n",
       "      <td>NaN</td>\n",
       "      <td>NaN</td>\n",
       "      <td>NaN</td>\n",
       "      <td>NaN</td>\n",
       "      <td>nan</td>\n",
       "      <td>13152</td>\n",
       "      <td>8</td>\n",
       "      <td>7</td>\n",
       "      <td></td>\n",
       "      <td>NaN</td>\n",
       "    </tr>\n",
       "    <tr>\n",
       "      <th>9954</th>\n",
       "      <td>9955</td>\n",
       "      <td>Asian or Pacific Islander</td>\n",
       "      <td>Male</td>\n",
       "      <td>31261.000</td>\n",
       "      <td>36554.400</td>\n",
       "      <td>49</td>\n",
       "      <td>Anthropology</td>\n",
       "      <td>2019</td>\n",
       "      <td>2021</td>\n",
       "      <td>111</td>\n",
       "      <td>...</td>\n",
       "      <td>NaN</td>\n",
       "      <td>NaN</td>\n",
       "      <td>NaN</td>\n",
       "      <td>NaN</td>\n",
       "      <td>nan</td>\n",
       "      <td>8914</td>\n",
       "      <td>9</td>\n",
       "      <td>7</td>\n",
       "      <td></td>\n",
       "      <td>NaN</td>\n",
       "    </tr>\n",
       "    <tr>\n",
       "      <th>11956</th>\n",
       "      <td>11957</td>\n",
       "      <td>Asian or Pacific Islander</td>\n",
       "      <td>Other/unspecified</td>\n",
       "      <td>29550.000</td>\n",
       "      <td>25699.240</td>\n",
       "      <td>18</td>\n",
       "      <td>Anthropology</td>\n",
       "      <td>2012</td>\n",
       "      <td>2014</td>\n",
       "      <td>123</td>\n",
       "      <td>...</td>\n",
       "      <td>375 LAGUNA HONDA BLVD, UNIT F5 SAN FRANCISCO C...</td>\n",
       "      <td>375 LAGUNA HONDA BLVD, UNIT F5</td>\n",
       "      <td>SAN FRANCISCO</td>\n",
       "      <td>CA</td>\n",
       "      <td>94116.000</td>\n",
       "      <td>4780</td>\n",
       "      <td>8</td>\n",
       "      <td>6</td>\n",
       "      <td>060750305003</td>\n",
       "      <td>NaN</td>\n",
       "    </tr>\n",
       "    <tr>\n",
       "      <th>3728</th>\n",
       "      <td>3729</td>\n",
       "      <td>Other</td>\n",
       "      <td>Other/unspecified</td>\n",
       "      <td>36674.000</td>\n",
       "      <td>46908.780</td>\n",
       "      <td>18</td>\n",
       "      <td>Philosophy</td>\n",
       "      <td>2012</td>\n",
       "      <td>2015</td>\n",
       "      <td>60</td>\n",
       "      <td>...</td>\n",
       "      <td>9290 WEST DODGE ROAD, SUITE 201A OMAHA NE 68114</td>\n",
       "      <td>9290 WEST DODGE ROAD, SUITE 201A</td>\n",
       "      <td>OMAHA</td>\n",
       "      <td>NE</td>\n",
       "      <td>68114.000</td>\n",
       "      <td>9310</td>\n",
       "      <td>9</td>\n",
       "      <td>5</td>\n",
       "      <td>310550066025</td>\n",
       "      <td>80-100</td>\n",
       "    </tr>\n",
       "  </tbody>\n",
       "</table>\n",
       "<p>5 rows × 24 columns</p>\n",
       "</div>"
      ],
      "text/plain": [
       "       Unnamed: 0                       race             gender  \\\n",
       "10786       10787                      Other               Male   \n",
       "5397         5398                      Other               Male   \n",
       "9954         9955  Asian or Pacific Islander               Male   \n",
       "11956       11957  Asian or Pacific Islander  Other/unspecified   \n",
       "3728         3729                      Other  Other/unspecified   \n",
       "\n",
       "       earnings_start  earnings_end  age       program  program_start  \\\n",
       "10786       27383.000           nan   50    Philosophy           2012   \n",
       "5397        29221.000           nan   23    Philosophy           2015   \n",
       "9954        31261.000     36554.400   49  Anthropology           2019   \n",
       "11956       29550.000     25699.240   18  Anthropology           2012   \n",
       "3728        36674.000     46908.780   18    Philosophy           2012   \n",
       "\n",
       "       program_end  education_level  ...  \\\n",
       "10786         2016              111  ...   \n",
       "5397          2017               73  ...   \n",
       "9954          2021              111  ...   \n",
       "11956         2014              123  ...   \n",
       "3728          2015               60  ...   \n",
       "\n",
       "                                            full_address  \\\n",
       "10786          1605 EAST DEL MAR STE 103 LAREDO TX 78041   \n",
       "5397                                                 NaN   \n",
       "9954                                                 NaN   \n",
       "11956  375 LAGUNA HONDA BLVD, UNIT F5 SAN FRANCISCO C...   \n",
       "3728     9290 WEST DODGE ROAD, SUITE 201A OMAHA NE 68114   \n",
       "\n",
       "                                Address           City  State       Zip  \\\n",
       "10786         1605 EAST DEL MAR STE 103         LAREDO     TX 78041.000   \n",
       "5397                                NaN            NaN    NaN       nan   \n",
       "9954                                NaN            NaN    NaN       nan   \n",
       "11956    375 LAGUNA HONDA BLVD, UNIT F5  SAN FRANCISCO     CA 94116.000   \n",
       "3728   9290 WEST DODGE ROAD, SUITE 201A          OMAHA     NE 68114.000   \n",
       "\n",
       "          id start_month end_month       geocode     ses  \n",
       "10786  12502          10         5                   NaN  \n",
       "5397   13152           8         7                   NaN  \n",
       "9954    8914           9         7                   NaN  \n",
       "11956   4780           8         6  060750305003     NaN  \n",
       "3728    9310           9         5  310550066025  80-100  \n",
       "\n",
       "[5 rows x 24 columns]"
      ]
     },
     "execution_count": 15,
     "metadata": {},
     "output_type": "execute_result"
    }
   ],
   "source": [
    "small_data.head()"
   ]
  },
  {
   "cell_type": "markdown",
   "metadata": {},
   "source": [
    "__Check out SES equity concerns__"
   ]
  },
  {
   "cell_type": "code",
   "execution_count": 16,
   "metadata": {},
   "outputs": [],
   "source": [
    "theil_t = equity.Theil_T.from_dataframe(small_data, 'ses', 'earnings_end')"
   ]
  },
  {
   "cell_type": "code",
   "execution_count": 17,
   "metadata": {},
   "outputs": [],
   "source": [
    "theil_t.calculate()"
   ]
  },
  {
   "cell_type": "code",
   "execution_count": 18,
   "metadata": {},
   "outputs": [
    {
     "data": {
      "image/png": "[encoded data removed]",
      "text/plain": [
       "<Figure size 800x400 with 1 Axes>"
      ]
     },
     "execution_count": 18,
     "metadata": {},
     "output_type": "execute_result"
    }
   ],
   "source": [
    "theil_t.viz"
   ]
  },
  {
   "cell_type": "code",
   "execution_count": 19,
   "metadata": {},
   "outputs": [
    {
     "data": {
      "text/plain": [
       "0.14020212293944603"
      ]
     },
     "execution_count": 19,
     "metadata": {},
     "output_type": "execute_result"
    }
   ],
   "source": [
    "theil_t.ratio"
   ]
  },
  {
   "cell_type": "markdown",
   "metadata": {},
   "source": [
    "__Calculate graduate wage summary statistics__"
   ]
  },
  {
   "cell_type": "code",
   "execution_count": 20,
   "metadata": {},
   "outputs": [
    {
     "data": {
      "text/plain": [
       "<matplotlib.lines.Line2D at 0x7fba1d6eb610>"
      ]
     },
     "execution_count": 20,
     "metadata": {},
     "output_type": "execute_result"
    },
    {
     "data": {
      "image/png": "[encoded data removed]",
      "text/plain": [
       "<Figure size 800x400 with 1 Axes>"
      ]
     },
     "metadata": {
      "needs_background": "light"
     },
     "output_type": "display_data"
    }
   ],
   "source": [
    "fig, ax = plt.subplots()\n",
    "data['earnings_end'].hist(ax=ax, edgecolor=\"red\", fc=(0, 0, 0, 0.5), bins=30)\n",
    "plt.axvline(x=np.mean(data['earnings_end']))"
   ]
  },
  {
   "cell_type": "code",
   "execution_count": 21,
   "metadata": {},
   "outputs": [
    {
     "data": {
      "text/html": [
       "<div>\n",
       "<style scoped>\n",
       "    .dataframe tbody tr th:only-of-type {\n",
       "        vertical-align: middle;\n",
       "    }\n",
       "\n",
       "    .dataframe tbody tr th {\n",
       "        vertical-align: top;\n",
       "    }\n",
       "\n",
       "    .dataframe thead th {\n",
       "        text-align: right;\n",
       "    }\n",
       "</style>\n",
       "<table border=\"1\" class=\"dataframe\">\n",
       "  <thead>\n",
       "    <tr style=\"text-align: right;\">\n",
       "      <th></th>\n",
       "      <th>program</th>\n",
       "      <th>n</th>\n",
       "      <th>mean</th>\n",
       "      <th>median</th>\n",
       "      <th>sd</th>\n",
       "      <th>min</th>\n",
       "      <th>max</th>\n",
       "    </tr>\n",
       "  </thead>\n",
       "  <tbody>\n",
       "    <tr>\n",
       "      <th>0</th>\n",
       "      <td>Anthropology</td>\n",
       "      <td>2288.000</td>\n",
       "      <td>31540.395</td>\n",
       "      <td>31381.600</td>\n",
       "      <td>6542.271</td>\n",
       "      <td>2817.240</td>\n",
       "      <td>63547.440</td>\n",
       "    </tr>\n",
       "    <tr>\n",
       "      <th>1</th>\n",
       "      <td>Art History</td>\n",
       "      <td>2370.000</td>\n",
       "      <td>42312.370</td>\n",
       "      <td>41632.800</td>\n",
       "      <td>9460.368</td>\n",
       "      <td>4287.800</td>\n",
       "      <td>75483.430</td>\n",
       "    </tr>\n",
       "    <tr>\n",
       "      <th>2</th>\n",
       "      <td>Biology</td>\n",
       "      <td>2404.000</td>\n",
       "      <td>35848.828</td>\n",
       "      <td>35303.220</td>\n",
       "      <td>7838.359</td>\n",
       "      <td>6602.715</td>\n",
       "      <td>64873.710</td>\n",
       "    </tr>\n",
       "    <tr>\n",
       "      <th>3</th>\n",
       "      <td>Economics</td>\n",
       "      <td>2327.000</td>\n",
       "      <td>54705.240</td>\n",
       "      <td>54158.720</td>\n",
       "      <td>11048.693</td>\n",
       "      <td>14172.620</td>\n",
       "      <td>102118.940</td>\n",
       "    </tr>\n",
       "    <tr>\n",
       "      <th>4</th>\n",
       "      <td>Electrical Engineering</td>\n",
       "      <td>2386.000</td>\n",
       "      <td>65698.580</td>\n",
       "      <td>64849.900</td>\n",
       "      <td>14206.740</td>\n",
       "      <td>20139.900</td>\n",
       "      <td>135887.290</td>\n",
       "    </tr>\n",
       "    <tr>\n",
       "      <th>5</th>\n",
       "      <td>French Literature</td>\n",
       "      <td>2339.000</td>\n",
       "      <td>27875.583</td>\n",
       "      <td>27687.748</td>\n",
       "      <td>5501.041</td>\n",
       "      <td>6088.635</td>\n",
       "      <td>50285.620</td>\n",
       "    </tr>\n",
       "    <tr>\n",
       "      <th>6</th>\n",
       "      <td>Philosophy</td>\n",
       "      <td>2297.000</td>\n",
       "      <td>46128.218</td>\n",
       "      <td>45486.000</td>\n",
       "      <td>10275.570</td>\n",
       "      <td>14191.200</td>\n",
       "      <td>96564.600</td>\n",
       "    </tr>\n",
       "  </tbody>\n",
       "</table>\n",
       "</div>"
      ],
      "text/plain": [
       "                  program        n      mean    median        sd       min  \\\n",
       "0            Anthropology 2288.000 31540.395 31381.600  6542.271  2817.240   \n",
       "1             Art History 2370.000 42312.370 41632.800  9460.368  4287.800   \n",
       "2                 Biology 2404.000 35848.828 35303.220  7838.359  6602.715   \n",
       "3               Economics 2327.000 54705.240 54158.720 11048.693 14172.620   \n",
       "4  Electrical Engineering 2386.000 65698.580 64849.900 14206.740 20139.900   \n",
       "5       French Literature 2339.000 27875.583 27687.748  5501.041  6088.635   \n",
       "6              Philosophy 2297.000 46128.218 45486.000 10275.570 14191.200   \n",
       "\n",
       "         max  \n",
       "0  63547.440  \n",
       "1  75483.430  \n",
       "2  64873.710  \n",
       "3 102118.940  \n",
       "4 135887.290  \n",
       "5  50285.620  \n",
       "6  96564.600  "
      ]
     },
     "execution_count": 21,
     "metadata": {},
     "output_type": "execute_result"
    }
   ],
   "source": [
    "utilities.multiple_describe(data, 'program', 'earnings_end')"
   ]
  },
  {
   "cell_type": "markdown",
   "metadata": {},
   "source": [
    "__Adjust wages for inflation__"
   ]
  },
  {
   "cell_type": "code",
   "execution_count": 22,
   "metadata": {},
   "outputs": [
    {
     "name": "stdout",
     "output_type": "stream",
     "text": [
      "Latest CPI year in provided BLS data is 2018.0: All dollars being adjusted to 2018.0 dollars.\n",
      "Years in provided dataframe for which there is no data in the provided CPI frame:\n",
      "\n",
      "{2019, 2020, 2021, 2022, 2023, 2024, 2025, 2026, 2027, 2028}\n"
     ]
    },
    {
     "name": "stderr",
     "output_type": "stream",
     "text": [
      "/Users/mattlerner/roi/sbir-roi/roi/macro.py:58: UserWarning: Value column earnings_end contains 821 NA values (5.0%) of total.\n",
      "  warnings.warn(\"Value column {} contains {} NA values ({}%) of total.\".format(value_column_name, value_nas, round(100*value_nas/len(frame_),2)))\n",
      "/Users/mattlerner/roi/sbir-roi/roi/macro.py:71: UserWarning: 5515 rows in column program_end could not be merged with provided CPI data. Please note that (1) the BLS API provides only up to 20 years of data; if you want to use more, you will have to manually combine multiple queries. (2) We do not recommend using more than ten years of historical data in calculations.\n",
      "  warnings.warn(\"{} rows in column {} could not be merged with provided CPI data. Please note that (1) the BLS API provides only up to 20 years of data; if you want to use more, you will have to manually combine multiple queries. (2) We do not recommend using more than ten years of historical data in calculations.\".format(unmerged_len, year_column_name))\n"
     ]
    }
   ],
   "source": [
    "bls = macro.BLS_Ops()\n",
    "data['earnings_end_adjusted'] = bls.adjust_to_current_dollars(data, 'program_end', 'earnings_end')"
   ]
  },
  {
   "cell_type": "code",
   "execution_count": 23,
   "metadata": {},
   "outputs": [
    {
     "data": {
      "text/html": [
       "<div>\n",
       "<style scoped>\n",
       "    .dataframe tbody tr th:only-of-type {\n",
       "        vertical-align: middle;\n",
       "    }\n",
       "\n",
       "    .dataframe tbody tr th {\n",
       "        vertical-align: top;\n",
       "    }\n",
       "\n",
       "    .dataframe thead th {\n",
       "        text-align: right;\n",
       "    }\n",
       "</style>\n",
       "<table border=\"1\" class=\"dataframe\">\n",
       "  <thead>\n",
       "    <tr style=\"text-align: right;\">\n",
       "      <th></th>\n",
       "      <th>program_end</th>\n",
       "      <th>earnings_end</th>\n",
       "      <th>earnings_end_adjusted</th>\n",
       "    </tr>\n",
       "  </thead>\n",
       "  <tbody>\n",
       "    <tr>\n",
       "      <th>12943</th>\n",
       "      <td>2017</td>\n",
       "      <td>nan</td>\n",
       "      <td>nan</td>\n",
       "    </tr>\n",
       "    <tr>\n",
       "      <th>10090</th>\n",
       "      <td>2021</td>\n",
       "      <td>25168.160</td>\n",
       "      <td>nan</td>\n",
       "    </tr>\n",
       "    <tr>\n",
       "      <th>8915</th>\n",
       "      <td>2022</td>\n",
       "      <td>56026.800</td>\n",
       "      <td>nan</td>\n",
       "    </tr>\n",
       "    <tr>\n",
       "      <th>16058</th>\n",
       "      <td>2017</td>\n",
       "      <td>34689.270</td>\n",
       "      <td>35535.564</td>\n",
       "    </tr>\n",
       "    <tr>\n",
       "      <th>13057</th>\n",
       "      <td>2022</td>\n",
       "      <td>36945.700</td>\n",
       "      <td>nan</td>\n",
       "    </tr>\n",
       "    <tr>\n",
       "      <th>1921</th>\n",
       "      <td>2018</td>\n",
       "      <td>nan</td>\n",
       "      <td>nan</td>\n",
       "    </tr>\n",
       "    <tr>\n",
       "      <th>11415</th>\n",
       "      <td>2018</td>\n",
       "      <td>57415.710</td>\n",
       "      <td>57415.710</td>\n",
       "    </tr>\n",
       "    <tr>\n",
       "      <th>820</th>\n",
       "      <td>2015</td>\n",
       "      <td>35727.200</td>\n",
       "      <td>37852.676</td>\n",
       "    </tr>\n",
       "    <tr>\n",
       "      <th>11822</th>\n",
       "      <td>2017</td>\n",
       "      <td>34259.280</td>\n",
       "      <td>35095.084</td>\n",
       "    </tr>\n",
       "    <tr>\n",
       "      <th>1876</th>\n",
       "      <td>2016</td>\n",
       "      <td>nan</td>\n",
       "      <td>nan</td>\n",
       "    </tr>\n",
       "  </tbody>\n",
       "</table>\n",
       "</div>"
      ],
      "text/plain": [
       "       program_end  earnings_end  earnings_end_adjusted\n",
       "12943         2017           nan                    nan\n",
       "10090         2021     25168.160                    nan\n",
       "8915          2022     56026.800                    nan\n",
       "16058         2017     34689.270              35535.564\n",
       "13057         2022     36945.700                    nan\n",
       "1921          2018           nan                    nan\n",
       "11415         2018     57415.710              57415.710\n",
       "820           2015     35727.200              37852.676\n",
       "11822         2017     34259.280              35095.084\n",
       "1876          2016           nan                    nan"
      ]
     },
     "execution_count": 23,
     "metadata": {},
     "output_type": "execute_result"
    }
   ],
   "source": [
    "data[['program_end','earnings_end','earnings_end_adjusted']].sample(10)"
   ]
  },
  {
   "cell_type": "markdown",
   "metadata": {},
   "source": [
    "__Recalculate average graduate wage by program__"
   ]
  },
  {
   "cell_type": "code",
   "execution_count": 24,
   "metadata": {},
   "outputs": [
    {
     "data": {
      "text/plain": [
       "<matplotlib.lines.Line2D at 0x7fba1d99d190>"
      ]
     },
     "execution_count": 24,
     "metadata": {},
     "output_type": "execute_result"
    },
    {
     "data": {
      "image/png": "[encoded data removed]",
      "text/plain": [
       "<Figure size 800x400 with 1 Axes>"
      ]
     },
     "metadata": {
      "needs_background": "light"
     },
     "output_type": "display_data"
    }
   ],
   "source": [
    "fig, ax = plt.subplots()\n",
    "\n",
    "# unadjusted\n",
    "data['earnings_end'].hist(ax=ax, edgecolor=\"red\", fc=(0, 0, 0, 0), bins=30)\n",
    "plt.axvline(x=np.mean(data['earnings_end']), color=\"red\", linestyle=\":\")\n",
    "\n",
    "# adjusted\n",
    "data['earnings_end_adjusted'].hist(ax=ax, edgecolor=\"blue\", fc=(0, 0, 0, 0), bins=30)\n",
    "plt.axvline(x=np.mean(data['earnings_end_adjusted']), color=\"blue\", linestyle=\":\")"
   ]
  },
  {
   "cell_type": "markdown",
   "metadata": {},
   "source": [
    "__Calculate earnings premium - Simple way__"
   ]
  },
  {
   "cell_type": "code",
   "execution_count": 25,
   "metadata": {},
   "outputs": [],
   "source": [
    "data['earnings_change'] = data['earnings_end'] - data['earnings_start']"
   ]
  },
  {
   "cell_type": "code",
   "execution_count": 26,
   "metadata": {},
   "outputs": [
    {
     "data": {
      "text/html": [
       "<div>\n",
       "<style scoped>\n",
       "    .dataframe tbody tr th:only-of-type {\n",
       "        vertical-align: middle;\n",
       "    }\n",
       "\n",
       "    .dataframe tbody tr th {\n",
       "        vertical-align: top;\n",
       "    }\n",
       "\n",
       "    .dataframe thead th {\n",
       "        text-align: right;\n",
       "    }\n",
       "</style>\n",
       "<table border=\"1\" class=\"dataframe\">\n",
       "  <thead>\n",
       "    <tr style=\"text-align: right;\">\n",
       "      <th></th>\n",
       "      <th>program</th>\n",
       "      <th>n</th>\n",
       "      <th>mean</th>\n",
       "      <th>median</th>\n",
       "      <th>sd</th>\n",
       "      <th>min</th>\n",
       "      <th>max</th>\n",
       "    </tr>\n",
       "  </thead>\n",
       "  <tbody>\n",
       "    <tr>\n",
       "      <th>0</th>\n",
       "      <td>Anthropology</td>\n",
       "      <td>2288.000</td>\n",
       "      <td>1492.413</td>\n",
       "      <td>1748.180</td>\n",
       "      <td>7514.140</td>\n",
       "      <td>-46000.200</td>\n",
       "      <td>41005.440</td>\n",
       "    </tr>\n",
       "    <tr>\n",
       "      <th>1</th>\n",
       "      <td>Art History</td>\n",
       "      <td>2370.000</td>\n",
       "      <td>13117.589</td>\n",
       "      <td>13010.150</td>\n",
       "      <td>8743.259</td>\n",
       "      <td>-49156.200</td>\n",
       "      <td>54181.100</td>\n",
       "    </tr>\n",
       "    <tr>\n",
       "      <th>2</th>\n",
       "      <td>Biology</td>\n",
       "      <td>2404.000</td>\n",
       "      <td>5538.174</td>\n",
       "      <td>5503.500</td>\n",
       "      <td>7822.369</td>\n",
       "      <td>-28674.700</td>\n",
       "      <td>54911.950</td>\n",
       "    </tr>\n",
       "    <tr>\n",
       "      <th>3</th>\n",
       "      <td>Economics</td>\n",
       "      <td>2327.000</td>\n",
       "      <td>24685.001</td>\n",
       "      <td>24170.200</td>\n",
       "      <td>10529.107</td>\n",
       "      <td>-15061.260</td>\n",
       "      <td>77500.780</td>\n",
       "    </tr>\n",
       "    <tr>\n",
       "      <th>4</th>\n",
       "      <td>Electrical Engineering</td>\n",
       "      <td>2386.000</td>\n",
       "      <td>36063.777</td>\n",
       "      <td>35277.400</td>\n",
       "      <td>13514.743</td>\n",
       "      <td>-21673.600</td>\n",
       "      <td>112955.900</td>\n",
       "    </tr>\n",
       "    <tr>\n",
       "      <th>5</th>\n",
       "      <td>French Literature</td>\n",
       "      <td>2339.000</td>\n",
       "      <td>-2656.493</td>\n",
       "      <td>-2261.950</td>\n",
       "      <td>6824.586</td>\n",
       "      <td>-62843.250</td>\n",
       "      <td>36069.590</td>\n",
       "    </tr>\n",
       "    <tr>\n",
       "      <th>6</th>\n",
       "      <td>Philosophy</td>\n",
       "      <td>2297.000</td>\n",
       "      <td>16914.652</td>\n",
       "      <td>16949.000</td>\n",
       "      <td>9296.036</td>\n",
       "      <td>-22386.120</td>\n",
       "      <td>61526.600</td>\n",
       "    </tr>\n",
       "  </tbody>\n",
       "</table>\n",
       "</div>"
      ],
      "text/plain": [
       "                  program        n      mean    median        sd        min  \\\n",
       "0            Anthropology 2288.000  1492.413  1748.180  7514.140 -46000.200   \n",
       "1             Art History 2370.000 13117.589 13010.150  8743.259 -49156.200   \n",
       "2                 Biology 2404.000  5538.174  5503.500  7822.369 -28674.700   \n",
       "3               Economics 2327.000 24685.001 24170.200 10529.107 -15061.260   \n",
       "4  Electrical Engineering 2386.000 36063.777 35277.400 13514.743 -21673.600   \n",
       "5       French Literature 2339.000 -2656.493 -2261.950  6824.586 -62843.250   \n",
       "6              Philosophy 2297.000 16914.652 16949.000  9296.036 -22386.120   \n",
       "\n",
       "         max  \n",
       "0  41005.440  \n",
       "1  54181.100  \n",
       "2  54911.950  \n",
       "3  77500.780  \n",
       "4 112955.900  \n",
       "5  36069.590  \n",
       "6  61526.600  "
      ]
     },
     "execution_count": 26,
     "metadata": {},
     "output_type": "execute_result"
    }
   ],
   "source": [
    "utilities.multiple_describe(data, 'program', 'earnings_change')"
   ]
  },
  {
   "cell_type": "code",
   "execution_count": 27,
   "metadata": {},
   "outputs": [
    {
     "data": {
      "text/plain": [
       "<matplotlib.axes._subplots.AxesSubplot at 0x7fba1dd87790>"
      ]
     },
     "execution_count": 27,
     "metadata": {},
     "output_type": "execute_result"
    },
    {
     "data": {
      "image/png": "[encoded data removed]",
      "text/plain": [
       "<Figure size 800x400 with 1 Axes>"
      ]
     },
     "metadata": {
      "needs_background": "light"
     },
     "output_type": "display_data"
    }
   ],
   "source": [
    "sns.barplot(x=\"earnings_change\", y=\"program\", data=data, estimator=np.mean)"
   ]
  },
  {
   "cell_type": "markdown",
   "metadata": {},
   "source": [
    "__Calculate earnings premium - Fancy way__"
   ]
  },
  {
   "cell_type": "code",
   "execution_count": 28,
   "metadata": {},
   "outputs": [],
   "source": [
    "data['year_month_entry'] = data['program_start'].astype(str) + '-' + data['start_month'].astype(str).str.zfill(2)\n",
    "data['year_month_exit'] = data['program_end'].astype(str) + '-' + data['end_month'].astype(str).str.zfill(2)"
   ]
  },
  {
   "cell_type": "code",
   "execution_count": 29,
   "metadata": {},
   "outputs": [
    {
     "data": {
      "text/html": [
       "<div>\n",
       "<style scoped>\n",
       "    .dataframe tbody tr th:only-of-type {\n",
       "        vertical-align: middle;\n",
       "    }\n",
       "\n",
       "    .dataframe tbody tr th {\n",
       "        vertical-align: top;\n",
       "    }\n",
       "\n",
       "    .dataframe thead th {\n",
       "        text-align: right;\n",
       "    }\n",
       "</style>\n",
       "<table border=\"1\" class=\"dataframe\">\n",
       "  <thead>\n",
       "    <tr style=\"text-align: right;\">\n",
       "      <th></th>\n",
       "      <th>Unnamed: 0</th>\n",
       "      <th>race</th>\n",
       "      <th>gender</th>\n",
       "      <th>earnings_start</th>\n",
       "      <th>earnings_end</th>\n",
       "      <th>age</th>\n",
       "      <th>program</th>\n",
       "      <th>program_start</th>\n",
       "      <th>program_end</th>\n",
       "      <th>education_level</th>\n",
       "      <th>...</th>\n",
       "      <th>City</th>\n",
       "      <th>State</th>\n",
       "      <th>Zip</th>\n",
       "      <th>id</th>\n",
       "      <th>start_month</th>\n",
       "      <th>end_month</th>\n",
       "      <th>earnings_end_adjusted</th>\n",
       "      <th>earnings_change</th>\n",
       "      <th>year_month_entry</th>\n",
       "      <th>year_month_exit</th>\n",
       "    </tr>\n",
       "  </thead>\n",
       "  <tbody>\n",
       "    <tr>\n",
       "      <th>0</th>\n",
       "      <td>1</td>\n",
       "      <td>White</td>\n",
       "      <td>Male</td>\n",
       "      <td>46027.000</td>\n",
       "      <td>91781.300</td>\n",
       "      <td>25</td>\n",
       "      <td>Electrical Engineering</td>\n",
       "      <td>2014</td>\n",
       "      <td>2016</td>\n",
       "      <td>0</td>\n",
       "      <td>...</td>\n",
       "      <td>REDDING</td>\n",
       "      <td>CA</td>\n",
       "      <td>96001.000</td>\n",
       "      <td>5335</td>\n",
       "      <td>9</td>\n",
       "      <td>6</td>\n",
       "      <td>96031.062</td>\n",
       "      <td>45754.300</td>\n",
       "      <td>2014-09</td>\n",
       "      <td>2016-06</td>\n",
       "    </tr>\n",
       "    <tr>\n",
       "      <th>1</th>\n",
       "      <td>2</td>\n",
       "      <td>White</td>\n",
       "      <td>Male</td>\n",
       "      <td>41976.000</td>\n",
       "      <td>66896.700</td>\n",
       "      <td>25</td>\n",
       "      <td>Electrical Engineering</td>\n",
       "      <td>2017</td>\n",
       "      <td>2025</td>\n",
       "      <td>0</td>\n",
       "      <td>...</td>\n",
       "      <td>NaN</td>\n",
       "      <td>NaN</td>\n",
       "      <td>nan</td>\n",
       "      <td>8340</td>\n",
       "      <td>9</td>\n",
       "      <td>6</td>\n",
       "      <td>nan</td>\n",
       "      <td>24920.700</td>\n",
       "      <td>2017-09</td>\n",
       "      <td>2025-06</td>\n",
       "    </tr>\n",
       "    <tr>\n",
       "      <th>2</th>\n",
       "      <td>3</td>\n",
       "      <td>White</td>\n",
       "      <td>Male</td>\n",
       "      <td>61396.000</td>\n",
       "      <td>74524.600</td>\n",
       "      <td>51</td>\n",
       "      <td>Electrical Engineering</td>\n",
       "      <td>2014</td>\n",
       "      <td>2019</td>\n",
       "      <td>0</td>\n",
       "      <td>...</td>\n",
       "      <td>AIKEN</td>\n",
       "      <td>SC</td>\n",
       "      <td>29801.000</td>\n",
       "      <td>13875</td>\n",
       "      <td>8</td>\n",
       "      <td>7</td>\n",
       "      <td>nan</td>\n",
       "      <td>13128.600</td>\n",
       "      <td>2014-08</td>\n",
       "      <td>2019-07</td>\n",
       "    </tr>\n",
       "    <tr>\n",
       "      <th>3</th>\n",
       "      <td>4</td>\n",
       "      <td>White</td>\n",
       "      <td>Male</td>\n",
       "      <td>34089.000</td>\n",
       "      <td>92032.900</td>\n",
       "      <td>18</td>\n",
       "      <td>Electrical Engineering</td>\n",
       "      <td>2018</td>\n",
       "      <td>2022</td>\n",
       "      <td>0</td>\n",
       "      <td>...</td>\n",
       "      <td>NaN</td>\n",
       "      <td>NaN</td>\n",
       "      <td>nan</td>\n",
       "      <td>1201</td>\n",
       "      <td>9</td>\n",
       "      <td>5</td>\n",
       "      <td>nan</td>\n",
       "      <td>57943.900</td>\n",
       "      <td>2018-09</td>\n",
       "      <td>2022-05</td>\n",
       "    </tr>\n",
       "    <tr>\n",
       "      <th>4</th>\n",
       "      <td>5</td>\n",
       "      <td>White</td>\n",
       "      <td>Male</td>\n",
       "      <td>57897.000</td>\n",
       "      <td>79573.600</td>\n",
       "      <td>35</td>\n",
       "      <td>Electrical Engineering</td>\n",
       "      <td>2011</td>\n",
       "      <td>2013</td>\n",
       "      <td>0</td>\n",
       "      <td>...</td>\n",
       "      <td>NEWPORT</td>\n",
       "      <td>OR</td>\n",
       "      <td>97365.000</td>\n",
       "      <td>15397</td>\n",
       "      <td>10</td>\n",
       "      <td>6</td>\n",
       "      <td>85773.314</td>\n",
       "      <td>21676.600</td>\n",
       "      <td>2011-10</td>\n",
       "      <td>2013-06</td>\n",
       "    </tr>\n",
       "    <tr>\n",
       "      <th>...</th>\n",
       "      <td>...</td>\n",
       "      <td>...</td>\n",
       "      <td>...</td>\n",
       "      <td>...</td>\n",
       "      <td>...</td>\n",
       "      <td>...</td>\n",
       "      <td>...</td>\n",
       "      <td>...</td>\n",
       "      <td>...</td>\n",
       "      <td>...</td>\n",
       "      <td>...</td>\n",
       "      <td>...</td>\n",
       "      <td>...</td>\n",
       "      <td>...</td>\n",
       "      <td>...</td>\n",
       "      <td>...</td>\n",
       "      <td>...</td>\n",
       "      <td>...</td>\n",
       "      <td>...</td>\n",
       "      <td>...</td>\n",
       "      <td>...</td>\n",
       "    </tr>\n",
       "    <tr>\n",
       "      <th>16406</th>\n",
       "      <td>16407</td>\n",
       "      <td>Other</td>\n",
       "      <td>Other/unspecified</td>\n",
       "      <td>32621.000</td>\n",
       "      <td>41195.760</td>\n",
       "      <td>18</td>\n",
       "      <td>Philosophy</td>\n",
       "      <td>2016</td>\n",
       "      <td>2021</td>\n",
       "      <td>125</td>\n",
       "      <td>...</td>\n",
       "      <td>LADY LAKE</td>\n",
       "      <td>FL</td>\n",
       "      <td>32159.000</td>\n",
       "      <td>2180</td>\n",
       "      <td>8</td>\n",
       "      <td>7</td>\n",
       "      <td>nan</td>\n",
       "      <td>8574.760</td>\n",
       "      <td>2016-08</td>\n",
       "      <td>2021-07</td>\n",
       "    </tr>\n",
       "    <tr>\n",
       "      <th>16407</th>\n",
       "      <td>16408</td>\n",
       "      <td>Other</td>\n",
       "      <td>Other/unspecified</td>\n",
       "      <td>32994.000</td>\n",
       "      <td>41582.340</td>\n",
       "      <td>43</td>\n",
       "      <td>Philosophy</td>\n",
       "      <td>2015</td>\n",
       "      <td>2019</td>\n",
       "      <td>125</td>\n",
       "      <td>...</td>\n",
       "      <td>SHELDON</td>\n",
       "      <td>IA</td>\n",
       "      <td>51201.000</td>\n",
       "      <td>9786</td>\n",
       "      <td>10</td>\n",
       "      <td>6</td>\n",
       "      <td>nan</td>\n",
       "      <td>8588.340</td>\n",
       "      <td>2015-10</td>\n",
       "      <td>2019-06</td>\n",
       "    </tr>\n",
       "    <tr>\n",
       "      <th>16408</th>\n",
       "      <td>16409</td>\n",
       "      <td>Other</td>\n",
       "      <td>Other/unspecified</td>\n",
       "      <td>32316.000</td>\n",
       "      <td>41120.280</td>\n",
       "      <td>43</td>\n",
       "      <td>Philosophy</td>\n",
       "      <td>2017</td>\n",
       "      <td>2023</td>\n",
       "      <td>125</td>\n",
       "      <td>...</td>\n",
       "      <td>NaN</td>\n",
       "      <td>NaN</td>\n",
       "      <td>nan</td>\n",
       "      <td>4966</td>\n",
       "      <td>10</td>\n",
       "      <td>5</td>\n",
       "      <td>nan</td>\n",
       "      <td>8804.280</td>\n",
       "      <td>2017-10</td>\n",
       "      <td>2023-05</td>\n",
       "    </tr>\n",
       "    <tr>\n",
       "      <th>16409</th>\n",
       "      <td>16410</td>\n",
       "      <td>Other</td>\n",
       "      <td>Other/unspecified</td>\n",
       "      <td>32697.000</td>\n",
       "      <td>41611.920</td>\n",
       "      <td>38</td>\n",
       "      <td>Philosophy</td>\n",
       "      <td>2016</td>\n",
       "      <td>2018</td>\n",
       "      <td>125</td>\n",
       "      <td>...</td>\n",
       "      <td>NaN</td>\n",
       "      <td>NaN</td>\n",
       "      <td>nan</td>\n",
       "      <td>1139</td>\n",
       "      <td>10</td>\n",
       "      <td>5</td>\n",
       "      <td>41611.920</td>\n",
       "      <td>8914.920</td>\n",
       "      <td>2016-10</td>\n",
       "      <td>2018-05</td>\n",
       "    </tr>\n",
       "    <tr>\n",
       "      <th>16410</th>\n",
       "      <td>16411</td>\n",
       "      <td>Other</td>\n",
       "      <td>Other/unspecified</td>\n",
       "      <td>32640.000</td>\n",
       "      <td>41253.900</td>\n",
       "      <td>25</td>\n",
       "      <td>Philosophy</td>\n",
       "      <td>2013</td>\n",
       "      <td>2015</td>\n",
       "      <td>125</td>\n",
       "      <td>...</td>\n",
       "      <td>NaN</td>\n",
       "      <td>NaN</td>\n",
       "      <td>nan</td>\n",
       "      <td>14012</td>\n",
       "      <td>10</td>\n",
       "      <td>5</td>\n",
       "      <td>43708.170</td>\n",
       "      <td>8613.900</td>\n",
       "      <td>2013-10</td>\n",
       "      <td>2015-05</td>\n",
       "    </tr>\n",
       "  </tbody>\n",
       "</table>\n",
       "<p>16411 rows × 26 columns</p>\n",
       "</div>"
      ],
      "text/plain": [
       "       Unnamed: 0   race             gender  earnings_start  earnings_end  \\\n",
       "0               1  White               Male       46027.000     91781.300   \n",
       "1               2  White               Male       41976.000     66896.700   \n",
       "2               3  White               Male       61396.000     74524.600   \n",
       "3               4  White               Male       34089.000     92032.900   \n",
       "4               5  White               Male       57897.000     79573.600   \n",
       "...           ...    ...                ...             ...           ...   \n",
       "16406       16407  Other  Other/unspecified       32621.000     41195.760   \n",
       "16407       16408  Other  Other/unspecified       32994.000     41582.340   \n",
       "16408       16409  Other  Other/unspecified       32316.000     41120.280   \n",
       "16409       16410  Other  Other/unspecified       32697.000     41611.920   \n",
       "16410       16411  Other  Other/unspecified       32640.000     41253.900   \n",
       "\n",
       "       age                 program  program_start  program_end  \\\n",
       "0       25  Electrical Engineering           2014         2016   \n",
       "1       25  Electrical Engineering           2017         2025   \n",
       "2       51  Electrical Engineering           2014         2019   \n",
       "3       18  Electrical Engineering           2018         2022   \n",
       "4       35  Electrical Engineering           2011         2013   \n",
       "...    ...                     ...            ...          ...   \n",
       "16406   18              Philosophy           2016         2021   \n",
       "16407   43              Philosophy           2015         2019   \n",
       "16408   43              Philosophy           2017         2023   \n",
       "16409   38              Philosophy           2016         2018   \n",
       "16410   25              Philosophy           2013         2015   \n",
       "\n",
       "       education_level  ...       City  State       Zip     id start_month  \\\n",
       "0                    0  ...    REDDING     CA 96001.000   5335           9   \n",
       "1                    0  ...        NaN    NaN       nan   8340           9   \n",
       "2                    0  ...      AIKEN     SC 29801.000  13875           8   \n",
       "3                    0  ...        NaN    NaN       nan   1201           9   \n",
       "4                    0  ...    NEWPORT     OR 97365.000  15397          10   \n",
       "...                ...  ...        ...    ...       ...    ...         ...   \n",
       "16406              125  ...  LADY LAKE     FL 32159.000   2180           8   \n",
       "16407              125  ...    SHELDON     IA 51201.000   9786          10   \n",
       "16408              125  ...        NaN    NaN       nan   4966          10   \n",
       "16409              125  ...        NaN    NaN       nan   1139          10   \n",
       "16410              125  ...        NaN    NaN       nan  14012          10   \n",
       "\n",
       "      end_month earnings_end_adjusted earnings_change  year_month_entry  \\\n",
       "0             6             96031.062       45754.300           2014-09   \n",
       "1             6                   nan       24920.700           2017-09   \n",
       "2             7                   nan       13128.600           2014-08   \n",
       "3             5                   nan       57943.900           2018-09   \n",
       "4             6             85773.314       21676.600           2011-10   \n",
       "...         ...                   ...             ...               ...   \n",
       "16406         7                   nan        8574.760           2016-08   \n",
       "16407         6                   nan        8588.340           2015-10   \n",
       "16408         5                   nan        8804.280           2017-10   \n",
       "16409         5             41611.920        8914.920           2016-10   \n",
       "16410         5             43708.170        8613.900           2013-10   \n",
       "\n",
       "       year_month_exit  \n",
       "0              2016-06  \n",
       "1              2025-06  \n",
       "2              2019-07  \n",
       "3              2022-05  \n",
       "4              2013-06  \n",
       "...                ...  \n",
       "16406          2021-07  \n",
       "16407          2019-06  \n",
       "16408          2023-05  \n",
       "16409          2018-05  \n",
       "16410          2015-05  \n",
       "\n",
       "[16411 rows x 26 columns]"
      ]
     },
     "execution_count": 29,
     "metadata": {},
     "output_type": "execute_result"
    }
   ],
   "source": [
    "data"
   ]
  },
  {
   "cell_type": "code",
   "execution_count": 30,
   "metadata": {},
   "outputs": [
    {
     "name": "stderr",
     "output_type": "stream",
     "text": [
      "/Users/mattlerner/roi/sbir-roi/roi/macro.py:202: UserWarning: Series passed as argument state_code contains invalid values for state codes. Please refer to https://www.bls.gov/respondents/mwr/electronic-data-interchange/appendix-d-usps-state-abbreviations-and-fips-codes.htm for valid codes. Use utilities.State_To_FIPS_series() to convert postal codes to FIPS.\n",
      "  warnings.warn(\"Series passed as argument state_code contains invalid values for state codes. Please refer to https://www.bls.gov/respondents/mwr/electronic-data-interchange/appendix-d-usps-state-abbreviations-and-fips-codes.htm for valid codes. Use utilities.State_To_FIPS_series() to convert postal codes to FIPS.\")\n"
     ]
    }
   ],
   "source": [
    "data['macro_wage_change'] = bls.wage_change(data, 'State','year_month_entry','year_month_exit')"
   ]
  },
  {
   "cell_type": "code",
   "execution_count": 31,
   "metadata": {},
   "outputs": [
    {
     "data": {
      "text/plain": [
       "0         CA\n",
       "1        NaN\n",
       "2         SC\n",
       "3        NaN\n",
       "4         OR\n",
       "        ... \n",
       "16406     FL\n",
       "16407     IA\n",
       "16408    NaN\n",
       "16409    NaN\n",
       "16410    NaN\n",
       "Name: State, Length: 16411, dtype: object"
      ]
     },
     "execution_count": 31,
     "metadata": {},
     "output_type": "execute_result"
    }
   ],
   "source": [
    "data['State']"
   ]
  },
  {
   "cell_type": "code",
   "execution_count": 32,
   "metadata": {},
   "outputs": [],
   "source": [
    "data['state_fips'] = utilities.State_To_FIPS_series(data['State'])"
   ]
  },
  {
   "cell_type": "code",
   "execution_count": 33,
   "metadata": {},
   "outputs": [
    {
     "data": {
      "text/html": [
       "<div>\n",
       "<style scoped>\n",
       "    .dataframe tbody tr th:only-of-type {\n",
       "        vertical-align: middle;\n",
       "    }\n",
       "\n",
       "    .dataframe tbody tr th {\n",
       "        vertical-align: top;\n",
       "    }\n",
       "\n",
       "    .dataframe thead th {\n",
       "        text-align: right;\n",
       "    }\n",
       "</style>\n",
       "<table border=\"1\" class=\"dataframe\">\n",
       "  <thead>\n",
       "    <tr style=\"text-align: right;\">\n",
       "      <th></th>\n",
       "      <th>State</th>\n",
       "      <th>state_fips</th>\n",
       "    </tr>\n",
       "  </thead>\n",
       "  <tbody>\n",
       "    <tr>\n",
       "      <th>0</th>\n",
       "      <td>CA</td>\n",
       "      <td>06</td>\n",
       "    </tr>\n",
       "    <tr>\n",
       "      <th>1</th>\n",
       "      <td>NaN</td>\n",
       "      <td>nan</td>\n",
       "    </tr>\n",
       "    <tr>\n",
       "      <th>2</th>\n",
       "      <td>SC</td>\n",
       "      <td>45</td>\n",
       "    </tr>\n",
       "    <tr>\n",
       "      <th>3</th>\n",
       "      <td>NaN</td>\n",
       "      <td>nan</td>\n",
       "    </tr>\n",
       "    <tr>\n",
       "      <th>4</th>\n",
       "      <td>OR</td>\n",
       "      <td>41</td>\n",
       "    </tr>\n",
       "    <tr>\n",
       "      <th>...</th>\n",
       "      <td>...</td>\n",
       "      <td>...</td>\n",
       "    </tr>\n",
       "    <tr>\n",
       "      <th>16406</th>\n",
       "      <td>FL</td>\n",
       "      <td>12</td>\n",
       "    </tr>\n",
       "    <tr>\n",
       "      <th>16407</th>\n",
       "      <td>IA</td>\n",
       "      <td>19</td>\n",
       "    </tr>\n",
       "    <tr>\n",
       "      <th>16408</th>\n",
       "      <td>NaN</td>\n",
       "      <td>nan</td>\n",
       "    </tr>\n",
       "    <tr>\n",
       "      <th>16409</th>\n",
       "      <td>NaN</td>\n",
       "      <td>nan</td>\n",
       "    </tr>\n",
       "    <tr>\n",
       "      <th>16410</th>\n",
       "      <td>NaN</td>\n",
       "      <td>nan</td>\n",
       "    </tr>\n",
       "  </tbody>\n",
       "</table>\n",
       "<p>16411 rows × 2 columns</p>\n",
       "</div>"
      ],
      "text/plain": [
       "      State state_fips\n",
       "0        CA         06\n",
       "1       NaN        nan\n",
       "2        SC         45\n",
       "3       NaN        nan\n",
       "4        OR         41\n",
       "...     ...        ...\n",
       "16406    FL         12\n",
       "16407    IA         19\n",
       "16408   NaN        nan\n",
       "16409   NaN        nan\n",
       "16410   NaN        nan\n",
       "\n",
       "[16411 rows x 2 columns]"
      ]
     },
     "execution_count": 33,
     "metadata": {},
     "output_type": "execute_result"
    }
   ],
   "source": [
    "data[['State','state_fips']]"
   ]
  },
  {
   "cell_type": "code",
   "execution_count": 34,
   "metadata": {},
   "outputs": [
    {
     "name": "stderr",
     "output_type": "stream",
     "text": [
      "/Users/mattlerner/roi/sbir-roi/roi/macro.py:202: UserWarning: Series passed as argument state_code contains invalid values for state codes. Please refer to https://www.bls.gov/respondents/mwr/electronic-data-interchange/appendix-d-usps-state-abbreviations-and-fips-codes.htm for valid codes. Use utilities.State_To_FIPS_series() to convert postal codes to FIPS.\n",
      "  warnings.warn(\"Series passed as argument state_code contains invalid values for state codes. Please refer to https://www.bls.gov/respondents/mwr/electronic-data-interchange/appendix-d-usps-state-abbreviations-and-fips-codes.htm for valid codes. Use utilities.State_To_FIPS_series() to convert postal codes to FIPS.\")\n"
     ]
    }
   ],
   "source": [
    "data['macro_wage_change'] = bls.wage_change(data, 'state_fips','year_month_entry','year_month_exit')"
   ]
  },
  {
   "cell_type": "code",
   "execution_count": 35,
   "metadata": {},
   "outputs": [
    {
     "data": {
      "text/html": [
       "<div>\n",
       "<style scoped>\n",
       "    .dataframe tbody tr th:only-of-type {\n",
       "        vertical-align: middle;\n",
       "    }\n",
       "\n",
       "    .dataframe tbody tr th {\n",
       "        vertical-align: top;\n",
       "    }\n",
       "\n",
       "    .dataframe thead th {\n",
       "        text-align: right;\n",
       "    }\n",
       "</style>\n",
       "<table border=\"1\" class=\"dataframe\">\n",
       "  <thead>\n",
       "    <tr style=\"text-align: right;\">\n",
       "      <th></th>\n",
       "      <th>Unnamed: 0</th>\n",
       "      <th>race</th>\n",
       "      <th>gender</th>\n",
       "      <th>earnings_start</th>\n",
       "      <th>earnings_end</th>\n",
       "      <th>age</th>\n",
       "      <th>program</th>\n",
       "      <th>program_start</th>\n",
       "      <th>program_end</th>\n",
       "      <th>education_level</th>\n",
       "      <th>...</th>\n",
       "      <th>Zip</th>\n",
       "      <th>id</th>\n",
       "      <th>start_month</th>\n",
       "      <th>end_month</th>\n",
       "      <th>earnings_end_adjusted</th>\n",
       "      <th>earnings_change</th>\n",
       "      <th>year_month_entry</th>\n",
       "      <th>year_month_exit</th>\n",
       "      <th>macro_wage_change</th>\n",
       "      <th>state_fips</th>\n",
       "    </tr>\n",
       "  </thead>\n",
       "  <tbody>\n",
       "    <tr>\n",
       "      <th>5795</th>\n",
       "      <td>5796</td>\n",
       "      <td>Other</td>\n",
       "      <td>Other/unspecified</td>\n",
       "      <td>38172.000</td>\n",
       "      <td>65494.625</td>\n",
       "      <td>53</td>\n",
       "      <td>Electrical Engineering</td>\n",
       "      <td>2010</td>\n",
       "      <td>2013</td>\n",
       "      <td>81</td>\n",
       "      <td>...</td>\n",
       "      <td>2865.000</td>\n",
       "      <td>4114</td>\n",
       "      <td>8</td>\n",
       "      <td>7</td>\n",
       "      <td>70597.423</td>\n",
       "      <td>27322.625</td>\n",
       "      <td>2010-08</td>\n",
       "      <td>2013-07</td>\n",
       "      <td>3251.040</td>\n",
       "      <td>44</td>\n",
       "    </tr>\n",
       "    <tr>\n",
       "      <th>4975</th>\n",
       "      <td>4976</td>\n",
       "      <td>White</td>\n",
       "      <td>Other/unspecified</td>\n",
       "      <td>34057.000</td>\n",
       "      <td>31140.855</td>\n",
       "      <td>18</td>\n",
       "      <td>Biology</td>\n",
       "      <td>2012</td>\n",
       "      <td>2017</td>\n",
       "      <td>73</td>\n",
       "      <td>...</td>\n",
       "      <td>nan</td>\n",
       "      <td>3013</td>\n",
       "      <td>9</td>\n",
       "      <td>5</td>\n",
       "      <td>31900.580</td>\n",
       "      <td>-2916.145</td>\n",
       "      <td>2012-09</td>\n",
       "      <td>2017-05</td>\n",
       "      <td>nan</td>\n",
       "      <td>nan</td>\n",
       "    </tr>\n",
       "    <tr>\n",
       "      <th>4479</th>\n",
       "      <td>4480</td>\n",
       "      <td>Black</td>\n",
       "      <td>Other/unspecified</td>\n",
       "      <td>32861.000</td>\n",
       "      <td>49100.590</td>\n",
       "      <td>18</td>\n",
       "      <td>Economics</td>\n",
       "      <td>2014</td>\n",
       "      <td>2017</td>\n",
       "      <td>73</td>\n",
       "      <td>...</td>\n",
       "      <td>78728.000</td>\n",
       "      <td>3648</td>\n",
       "      <td>10</td>\n",
       "      <td>7</td>\n",
       "      <td>50298.469</td>\n",
       "      <td>16239.590</td>\n",
       "      <td>2014-10</td>\n",
       "      <td>2017-07</td>\n",
       "      <td>2933.840</td>\n",
       "      <td>48</td>\n",
       "    </tr>\n",
       "    <tr>\n",
       "      <th>977</th>\n",
       "      <td>978</td>\n",
       "      <td>Asian or Pacific Islander</td>\n",
       "      <td>Female</td>\n",
       "      <td>26964.000</td>\n",
       "      <td>49023.040</td>\n",
       "      <td>39</td>\n",
       "      <td>Anthropology</td>\n",
       "      <td>2014</td>\n",
       "      <td>2015</td>\n",
       "      <td>0</td>\n",
       "      <td>...</td>\n",
       "      <td>92832.000</td>\n",
       "      <td>11693</td>\n",
       "      <td>10</td>\n",
       "      <td>6</td>\n",
       "      <td>51939.510</td>\n",
       "      <td>22059.040</td>\n",
       "      <td>2014-10</td>\n",
       "      <td>2015-06</td>\n",
       "      <td>808.080</td>\n",
       "      <td>06</td>\n",
       "    </tr>\n",
       "    <tr>\n",
       "      <th>5707</th>\n",
       "      <td>5708</td>\n",
       "      <td>Other</td>\n",
       "      <td>Female</td>\n",
       "      <td>26486.000</td>\n",
       "      <td>79467.520</td>\n",
       "      <td>55</td>\n",
       "      <td>Electrical Engineering</td>\n",
       "      <td>2013</td>\n",
       "      <td>2019</td>\n",
       "      <td>81</td>\n",
       "      <td>...</td>\n",
       "      <td>74501.000</td>\n",
       "      <td>7578</td>\n",
       "      <td>10</td>\n",
       "      <td>7</td>\n",
       "      <td>nan</td>\n",
       "      <td>52981.520</td>\n",
       "      <td>2013-10</td>\n",
       "      <td>2019-07</td>\n",
       "      <td>6329.960</td>\n",
       "      <td>40</td>\n",
       "    </tr>\n",
       "    <tr>\n",
       "      <th>4071</th>\n",
       "      <td>4072</td>\n",
       "      <td>Other</td>\n",
       "      <td>Male</td>\n",
       "      <td>3729.000</td>\n",
       "      <td>4287.800</td>\n",
       "      <td>38</td>\n",
       "      <td>Art History</td>\n",
       "      <td>2014</td>\n",
       "      <td>2016</td>\n",
       "      <td>73</td>\n",
       "      <td>...</td>\n",
       "      <td>nan</td>\n",
       "      <td>12065</td>\n",
       "      <td>8</td>\n",
       "      <td>7</td>\n",
       "      <td>4486.339</td>\n",
       "      <td>558.800</td>\n",
       "      <td>2014-08</td>\n",
       "      <td>2016-07</td>\n",
       "      <td>nan</td>\n",
       "      <td>nan</td>\n",
       "    </tr>\n",
       "    <tr>\n",
       "      <th>6833</th>\n",
       "      <td>6834</td>\n",
       "      <td>Black</td>\n",
       "      <td>Male</td>\n",
       "      <td>24347.000</td>\n",
       "      <td>22942.500</td>\n",
       "      <td>18</td>\n",
       "      <td>French Literature</td>\n",
       "      <td>2013</td>\n",
       "      <td>2016</td>\n",
       "      <td>81</td>\n",
       "      <td>...</td>\n",
       "      <td>91204.000</td>\n",
       "      <td>14503</td>\n",
       "      <td>10</td>\n",
       "      <td>6</td>\n",
       "      <td>24004.810</td>\n",
       "      <td>-1404.500</td>\n",
       "      <td>2013-10</td>\n",
       "      <td>2016-06</td>\n",
       "      <td>3091.920</td>\n",
       "      <td>06</td>\n",
       "    </tr>\n",
       "    <tr>\n",
       "      <th>705</th>\n",
       "      <td>706</td>\n",
       "      <td>Black</td>\n",
       "      <td>Other/unspecified</td>\n",
       "      <td>27394.000</td>\n",
       "      <td>55133.890</td>\n",
       "      <td>30</td>\n",
       "      <td>Economics</td>\n",
       "      <td>2011</td>\n",
       "      <td>2016</td>\n",
       "      <td>0</td>\n",
       "      <td>...</td>\n",
       "      <td>80215.000</td>\n",
       "      <td>11445</td>\n",
       "      <td>8</td>\n",
       "      <td>6</td>\n",
       "      <td>57686.762</td>\n",
       "      <td>27739.890</td>\n",
       "      <td>2011-08</td>\n",
       "      <td>2016-06</td>\n",
       "      <td>4535.960</td>\n",
       "      <td>08</td>\n",
       "    </tr>\n",
       "    <tr>\n",
       "      <th>16275</th>\n",
       "      <td>16276</td>\n",
       "      <td>Black</td>\n",
       "      <td>Female</td>\n",
       "      <td>33413.000</td>\n",
       "      <td>59150.520</td>\n",
       "      <td>36</td>\n",
       "      <td>Philosophy</td>\n",
       "      <td>2012</td>\n",
       "      <td>2015</td>\n",
       "      <td>125</td>\n",
       "      <td>...</td>\n",
       "      <td>25302.000</td>\n",
       "      <td>12075</td>\n",
       "      <td>8</td>\n",
       "      <td>7</td>\n",
       "      <td>62669.492</td>\n",
       "      <td>25737.520</td>\n",
       "      <td>2012-08</td>\n",
       "      <td>2015-07</td>\n",
       "      <td>2553.720</td>\n",
       "      <td>54</td>\n",
       "    </tr>\n",
       "    <tr>\n",
       "      <th>9936</th>\n",
       "      <td>9937</td>\n",
       "      <td>Black</td>\n",
       "      <td>Male</td>\n",
       "      <td>25607.000</td>\n",
       "      <td>31323.200</td>\n",
       "      <td>43</td>\n",
       "      <td>Anthropology</td>\n",
       "      <td>2016</td>\n",
       "      <td>2022</td>\n",
       "      <td>111</td>\n",
       "      <td>...</td>\n",
       "      <td>33771.000</td>\n",
       "      <td>14451</td>\n",
       "      <td>10</td>\n",
       "      <td>7</td>\n",
       "      <td>nan</td>\n",
       "      <td>5716.200</td>\n",
       "      <td>2016-10</td>\n",
       "      <td>2022-07</td>\n",
       "      <td>nan</td>\n",
       "      <td>12</td>\n",
       "    </tr>\n",
       "  </tbody>\n",
       "</table>\n",
       "<p>10 rows × 28 columns</p>\n",
       "</div>"
      ],
      "text/plain": [
       "       Unnamed: 0                       race             gender  \\\n",
       "5795         5796                      Other  Other/unspecified   \n",
       "4975         4976                      White  Other/unspecified   \n",
       "4479         4480                      Black  Other/unspecified   \n",
       "977           978  Asian or Pacific Islander             Female   \n",
       "5707         5708                      Other             Female   \n",
       "4071         4072                      Other               Male   \n",
       "6833         6834                      Black               Male   \n",
       "705           706                      Black  Other/unspecified   \n",
       "16275       16276                      Black             Female   \n",
       "9936         9937                      Black               Male   \n",
       "\n",
       "       earnings_start  earnings_end  age                 program  \\\n",
       "5795        38172.000     65494.625   53  Electrical Engineering   \n",
       "4975        34057.000     31140.855   18                 Biology   \n",
       "4479        32861.000     49100.590   18               Economics   \n",
       "977         26964.000     49023.040   39            Anthropology   \n",
       "5707        26486.000     79467.520   55  Electrical Engineering   \n",
       "4071         3729.000      4287.800   38             Art History   \n",
       "6833        24347.000     22942.500   18       French Literature   \n",
       "705         27394.000     55133.890   30               Economics   \n",
       "16275       33413.000     59150.520   36              Philosophy   \n",
       "9936        25607.000     31323.200   43            Anthropology   \n",
       "\n",
       "       program_start  program_end  education_level  ...       Zip     id  \\\n",
       "5795            2010         2013               81  ...  2865.000   4114   \n",
       "4975            2012         2017               73  ...       nan   3013   \n",
       "4479            2014         2017               73  ... 78728.000   3648   \n",
       "977             2014         2015                0  ... 92832.000  11693   \n",
       "5707            2013         2019               81  ... 74501.000   7578   \n",
       "4071            2014         2016               73  ...       nan  12065   \n",
       "6833            2013         2016               81  ... 91204.000  14503   \n",
       "705             2011         2016                0  ... 80215.000  11445   \n",
       "16275           2012         2015              125  ... 25302.000  12075   \n",
       "9936            2016         2022              111  ... 33771.000  14451   \n",
       "\n",
       "       start_month  end_month earnings_end_adjusted earnings_change  \\\n",
       "5795             8          7             70597.423       27322.625   \n",
       "4975             9          5             31900.580       -2916.145   \n",
       "4479            10          7             50298.469       16239.590   \n",
       "977             10          6             51939.510       22059.040   \n",
       "5707            10          7                   nan       52981.520   \n",
       "4071             8          7              4486.339         558.800   \n",
       "6833            10          6             24004.810       -1404.500   \n",
       "705              8          6             57686.762       27739.890   \n",
       "16275            8          7             62669.492       25737.520   \n",
       "9936            10          7                   nan        5716.200   \n",
       "\n",
       "      year_month_entry year_month_exit  macro_wage_change  state_fips  \n",
       "5795           2010-08         2013-07           3251.040          44  \n",
       "4975           2012-09         2017-05                nan         nan  \n",
       "4479           2014-10         2017-07           2933.840          48  \n",
       "977            2014-10         2015-06            808.080          06  \n",
       "5707           2013-10         2019-07           6329.960          40  \n",
       "4071           2014-08         2016-07                nan         nan  \n",
       "6833           2013-10         2016-06           3091.920          06  \n",
       "705            2011-08         2016-06           4535.960          08  \n",
       "16275          2012-08         2015-07           2553.720          54  \n",
       "9936           2016-10         2022-07                nan          12  \n",
       "\n",
       "[10 rows x 28 columns]"
      ]
     },
     "execution_count": 35,
     "metadata": {},
     "output_type": "execute_result"
    }
   ],
   "source": [
    "data.sample(10)"
   ]
  },
  {
   "cell_type": "code",
   "execution_count": 36,
   "metadata": {},
   "outputs": [],
   "source": [
    "data['trend_adjusted_change'] = data['earnings_change'] - data['macro_wage_change']"
   ]
  },
  {
   "cell_type": "code",
   "execution_count": 37,
   "metadata": {},
   "outputs": [
    {
     "data": {
      "text/plain": [
       "<matplotlib.axes._subplots.AxesSubplot at 0x7fba1e5e2910>"
      ]
     },
     "execution_count": 37,
     "metadata": {},
     "output_type": "execute_result"
    },
    {
     "data": {
      "image/png": "[encoded data removed]",
      "text/plain": [
       "<Figure size 800x400 with 1 Axes>"
      ]
     },
     "metadata": {
      "needs_background": "light"
     },
     "output_type": "display_data"
    }
   ],
   "source": [
    "# ignore this ugly cod\n",
    "original_summary = utilities.multiple_describe(data, 'program', 'earnings_change')\n",
    "adjusted_summary = utilities.multiple_describe(data, 'program', 'trend_adjusted_change')\n",
    "original_summary['calculation'] = \"original\"\n",
    "adjusted_summary['calculation'] = \"adjusted\"\n",
    "\n",
    "sns.barplot(x=\"mean\", y=\"program\", hue=\"calculation\", data=pd.concat([original_summary, adjusted_summary]))"
   ]
  },
  {
   "cell_type": "markdown",
   "metadata": {},
   "source": [
    "__Calculate earnings premium - VERY fancy way__"
   ]
  },
  {
   "cell_type": "code",
   "execution_count": 38,
   "metadata": {},
   "outputs": [
    {
     "name": "stderr",
     "output_type": "stream",
     "text": [
      "/Users/mattlerner/miniconda3/lib/python3.7/site-packages/pandas/core/indexing.py:670: SettingWithCopyWarning: \n",
      "A value is trying to be set on a copy of a slice from a DataFrame\n",
      "\n",
      "See the caveats in the documentation: https://pandas.pydata.org/pandas-docs/stable/user_guide/indexing.html#returning-a-view-versus-a-copy\n",
      "  iloc._setitem_with_indexer(indexer, value)\n"
     ]
    }
   ],
   "source": [
    "premium = metrics.Earnings_Premium(data, 'state_fips', 'education_level', 'earnings_start', 'earnings_end', 'program_start', 'program_end', 'age')"
   ]
  },
  {
   "cell_type": "code",
   "execution_count": 39,
   "metadata": {},
   "outputs": [],
   "source": [
    "data['predicted_wage'] = premium.predicted_wage\n",
    "data['earnings_premium'] = premium.full_premium"
   ]
  },
  {
   "cell_type": "code",
   "execution_count": 40,
   "metadata": {},
   "outputs": [
    {
     "data": {
      "text/html": [
       "<div>\n",
       "<style scoped>\n",
       "    .dataframe tbody tr th:only-of-type {\n",
       "        vertical-align: middle;\n",
       "    }\n",
       "\n",
       "    .dataframe tbody tr th {\n",
       "        vertical-align: top;\n",
       "    }\n",
       "\n",
       "    .dataframe thead th {\n",
       "        text-align: right;\n",
       "    }\n",
       "</style>\n",
       "<table border=\"1\" class=\"dataframe\">\n",
       "  <thead>\n",
       "    <tr style=\"text-align: right;\">\n",
       "      <th></th>\n",
       "      <th>Unnamed: 0</th>\n",
       "      <th>race</th>\n",
       "      <th>gender</th>\n",
       "      <th>earnings_start</th>\n",
       "      <th>earnings_end</th>\n",
       "      <th>age</th>\n",
       "      <th>program</th>\n",
       "      <th>program_start</th>\n",
       "      <th>program_end</th>\n",
       "      <th>education_level</th>\n",
       "      <th>...</th>\n",
       "      <th>end_month</th>\n",
       "      <th>earnings_end_adjusted</th>\n",
       "      <th>earnings_change</th>\n",
       "      <th>year_month_entry</th>\n",
       "      <th>year_month_exit</th>\n",
       "      <th>macro_wage_change</th>\n",
       "      <th>state_fips</th>\n",
       "      <th>trend_adjusted_change</th>\n",
       "      <th>predicted_wage</th>\n",
       "      <th>earnings_premium</th>\n",
       "    </tr>\n",
       "  </thead>\n",
       "  <tbody>\n",
       "    <tr>\n",
       "      <th>9263</th>\n",
       "      <td>9264</td>\n",
       "      <td>Asian or Pacific Islander</td>\n",
       "      <td>Female</td>\n",
       "      <td>43490.000</td>\n",
       "      <td>109133.200</td>\n",
       "      <td>38</td>\n",
       "      <td>Electrical Engineering</td>\n",
       "      <td>2015</td>\n",
       "      <td>2019</td>\n",
       "      <td>111</td>\n",
       "      <td>...</td>\n",
       "      <td>6</td>\n",
       "      <td>nan</td>\n",
       "      <td>65643.200</td>\n",
       "      <td>2015-08</td>\n",
       "      <td>2019-06</td>\n",
       "      <td>2958.280</td>\n",
       "      <td>48</td>\n",
       "      <td>62684.920</td>\n",
       "      <td>50463.199</td>\n",
       "      <td>58670.001</td>\n",
       "    </tr>\n",
       "    <tr>\n",
       "      <th>7157</th>\n",
       "      <td>7158</td>\n",
       "      <td>White</td>\n",
       "      <td>Female</td>\n",
       "      <td>33838.000</td>\n",
       "      <td>58093.200</td>\n",
       "      <td>27</td>\n",
       "      <td>Philosophy</td>\n",
       "      <td>2012</td>\n",
       "      <td>2016</td>\n",
       "      <td>81</td>\n",
       "      <td>...</td>\n",
       "      <td>7</td>\n",
       "      <td>60783.097</td>\n",
       "      <td>24255.200</td>\n",
       "      <td>2012-09</td>\n",
       "      <td>2016-07</td>\n",
       "      <td>2709.200</td>\n",
       "      <td>06</td>\n",
       "      <td>21546.000</td>\n",
       "      <td>45789.896</td>\n",
       "      <td>12303.304</td>\n",
       "    </tr>\n",
       "    <tr>\n",
       "      <th>11564</th>\n",
       "      <td>11565</td>\n",
       "      <td>Other</td>\n",
       "      <td>Male</td>\n",
       "      <td>26910.000</td>\n",
       "      <td>50457.400</td>\n",
       "      <td>25</td>\n",
       "      <td>Economics</td>\n",
       "      <td>2015</td>\n",
       "      <td>2024</td>\n",
       "      <td>123</td>\n",
       "      <td>...</td>\n",
       "      <td>7</td>\n",
       "      <td>nan</td>\n",
       "      <td>23547.400</td>\n",
       "      <td>2015-10</td>\n",
       "      <td>2024-07</td>\n",
       "      <td>nan</td>\n",
       "      <td>nan</td>\n",
       "      <td>nan</td>\n",
       "      <td>50544.811</td>\n",
       "      <td>-87.411</td>\n",
       "    </tr>\n",
       "    <tr>\n",
       "      <th>422</th>\n",
       "      <td>423</td>\n",
       "      <td>Asian or Pacific Islander</td>\n",
       "      <td>Female</td>\n",
       "      <td>25734.000</td>\n",
       "      <td>nan</td>\n",
       "      <td>20</td>\n",
       "      <td>Art History</td>\n",
       "      <td>2019</td>\n",
       "      <td>2020</td>\n",
       "      <td>0</td>\n",
       "      <td>...</td>\n",
       "      <td>5</td>\n",
       "      <td>nan</td>\n",
       "      <td>nan</td>\n",
       "      <td>2019-08</td>\n",
       "      <td>2020-05</td>\n",
       "      <td>nan</td>\n",
       "      <td>48</td>\n",
       "      <td>nan</td>\n",
       "      <td>28794.059</td>\n",
       "      <td>nan</td>\n",
       "    </tr>\n",
       "    <tr>\n",
       "      <th>8663</th>\n",
       "      <td>8664</td>\n",
       "      <td>White</td>\n",
       "      <td>Male</td>\n",
       "      <td>15885.000</td>\n",
       "      <td>nan</td>\n",
       "      <td>40</td>\n",
       "      <td>French Literature</td>\n",
       "      <td>2013</td>\n",
       "      <td>2017</td>\n",
       "      <td>92</td>\n",
       "      <td>...</td>\n",
       "      <td>7</td>\n",
       "      <td>nan</td>\n",
       "      <td>nan</td>\n",
       "      <td>2013-09</td>\n",
       "      <td>2017-07</td>\n",
       "      <td>nan</td>\n",
       "      <td>nan</td>\n",
       "      <td>nan</td>\n",
       "      <td>18338.049</td>\n",
       "      <td>nan</td>\n",
       "    </tr>\n",
       "  </tbody>\n",
       "</table>\n",
       "<p>5 rows × 31 columns</p>\n",
       "</div>"
      ],
      "text/plain": [
       "       Unnamed: 0                       race  gender  earnings_start  \\\n",
       "9263         9264  Asian or Pacific Islander  Female       43490.000   \n",
       "7157         7158                      White  Female       33838.000   \n",
       "11564       11565                      Other    Male       26910.000   \n",
       "422           423  Asian or Pacific Islander  Female       25734.000   \n",
       "8663         8664                      White    Male       15885.000   \n",
       "\n",
       "       earnings_end  age                 program  program_start  program_end  \\\n",
       "9263     109133.200   38  Electrical Engineering           2015         2019   \n",
       "7157      58093.200   27              Philosophy           2012         2016   \n",
       "11564     50457.400   25               Economics           2015         2024   \n",
       "422             nan   20             Art History           2019         2020   \n",
       "8663            nan   40       French Literature           2013         2017   \n",
       "\n",
       "       education_level  ...  end_month  earnings_end_adjusted  \\\n",
       "9263               111  ...          6                    nan   \n",
       "7157                81  ...          7              60783.097   \n",
       "11564              123  ...          7                    nan   \n",
       "422                  0  ...          5                    nan   \n",
       "8663                92  ...          7                    nan   \n",
       "\n",
       "       earnings_change  year_month_entry year_month_exit macro_wage_change  \\\n",
       "9263         65643.200           2015-08         2019-06          2958.280   \n",
       "7157         24255.200           2012-09         2016-07          2709.200   \n",
       "11564        23547.400           2015-10         2024-07               nan   \n",
       "422                nan           2019-08         2020-05               nan   \n",
       "8663               nan           2013-09         2017-07               nan   \n",
       "\n",
       "      state_fips trend_adjusted_change  predicted_wage  earnings_premium  \n",
       "9263          48             62684.920       50463.199         58670.001  \n",
       "7157          06             21546.000       45789.896         12303.304  \n",
       "11564        nan                   nan       50544.811           -87.411  \n",
       "422           48                   nan       28794.059               nan  \n",
       "8663         nan                   nan       18338.049               nan  \n",
       "\n",
       "[5 rows x 31 columns]"
      ]
     },
     "execution_count": 40,
     "metadata": {},
     "output_type": "execute_result"
    }
   ],
   "source": [
    "data.sample(5)"
   ]
  },
  {
   "cell_type": "code",
   "execution_count": 41,
   "metadata": {},
   "outputs": [
    {
     "data": {
      "text/plain": [
       "<matplotlib.axes._subplots.AxesSubplot at 0x7fba1ef18450>"
      ]
     },
     "execution_count": 41,
     "metadata": {},
     "output_type": "execute_result"
    },
    {
     "data": {
      "image/png": "[encoded data removed]",
      "text/plain": [
       "<Figure size 800x400 with 1 Axes>"
      ]
     },
     "metadata": {
      "needs_background": "light"
     },
     "output_type": "display_data"
    }
   ],
   "source": [
    "# Mean predicted vs actual wage by program\n",
    "original_summary = utilities.multiple_describe(data, 'program', 'earnings_end')\n",
    "adjusted_summary = utilities.multiple_describe(data, 'program', 'predicted_wage')\n",
    "original_summary['value'] = \"actual\"\n",
    "adjusted_summary['value'] = \"predicted\"\n",
    "\n",
    "sns.barplot(x=\"mean\", y=\"program\", hue=\"value\", data=pd.concat([original_summary, adjusted_summary]))"
   ]
  },
  {
   "cell_type": "code",
   "execution_count": 42,
   "metadata": {},
   "outputs": [
    {
     "data": {
      "text/plain": [
       "<matplotlib.axes._subplots.AxesSubplot at 0x7fba1fa75790>"
      ]
     },
     "execution_count": 42,
     "metadata": {},
     "output_type": "execute_result"
    },
    {
     "data": {
      "image/png": "[encoded data removed]",
      "text/plain": [
       "<Figure size 800x400 with 1 Axes>"
      ]
     },
     "metadata": {
      "needs_background": "light"
     },
     "output_type": "display_data"
    }
   ],
   "source": [
    "sns.barplot(x=\"earnings_premium\", y=\"program\", data=data, estimator=np.mean)"
   ]
  },
  {
   "cell_type": "markdown",
   "metadata": {},
   "source": [
    "__Calculate employment premium__"
   ]
  },
  {
   "cell_type": "code",
   "execution_count": 65,
   "metadata": {},
   "outputs": [],
   "source": [
    "employment = metrics.Employment_Likelihood(data, 'program', 'year_month_entry', 'year_month_exit', 'employed_at_end', 'employed_at_start', 'state')"
   ]
  },
  {
   "cell_type": "code",
   "execution_count": 67,
   "metadata": {},
   "outputs": [],
   "source": [
    "premium = employment.employment_premium"
   ]
  },
  {
   "cell_type": "code",
   "execution_count": 70,
   "metadata": {},
   "outputs": [
    {
     "data": {
      "text/plain": [
       "Text(0.5, 1.0, 'Average employment premium')"
      ]
     },
     "execution_count": 70,
     "metadata": {},
     "output_type": "execute_result"
    },
    {
     "data": {
      "image/png": "[encoded data removed]",
      "text/plain": [
       "<Figure size 800x400 with 1 Axes>"
      ]
     },
     "metadata": {
      "needs_background": "light"
     },
     "output_type": "display_data"
    }
   ],
   "source": [
    "sns.barplot(x=\"mean_employment_premium\", y=\"program\", data=premium).set_title(\"Average employment premium\")"
   ]
  },
  {
   "cell_type": "markdown",
   "metadata": {},
   "source": [
    "__Calculate time to completion and completion rate statistics__"
   ]
  },
  {
   "cell_type": "code",
   "execution_count": 46,
   "metadata": {},
   "outputs": [],
   "source": [
    "completion = metrics.Completion(data, 'program', 'program_start', 'program_end', 'completer')"
   ]
  },
  {
   "cell_type": "code",
   "execution_count": 47,
   "metadata": {},
   "outputs": [
    {
     "data": {
      "text/html": [
       "<div>\n",
       "<style scoped>\n",
       "    .dataframe tbody tr th:only-of-type {\n",
       "        vertical-align: middle;\n",
       "    }\n",
       "\n",
       "    .dataframe tbody tr th {\n",
       "        vertical-align: top;\n",
       "    }\n",
       "\n",
       "    .dataframe thead th {\n",
       "        text-align: right;\n",
       "    }\n",
       "</style>\n",
       "<table border=\"1\" class=\"dataframe\">\n",
       "  <thead>\n",
       "    <tr style=\"text-align: right;\">\n",
       "      <th></th>\n",
       "      <th>program</th>\n",
       "      <th>n</th>\n",
       "      <th>mean</th>\n",
       "      <th>median</th>\n",
       "      <th>sd</th>\n",
       "      <th>min</th>\n",
       "      <th>max</th>\n",
       "    </tr>\n",
       "  </thead>\n",
       "  <tbody>\n",
       "    <tr>\n",
       "      <th>0</th>\n",
       "      <td>Anthropology</td>\n",
       "      <td>2288</td>\n",
       "      <td>3.101</td>\n",
       "      <td>3</td>\n",
       "      <td>1.764</td>\n",
       "      <td>-1</td>\n",
       "      <td>10</td>\n",
       "    </tr>\n",
       "    <tr>\n",
       "      <th>1</th>\n",
       "      <td>Art History</td>\n",
       "      <td>2370</td>\n",
       "      <td>3.361</td>\n",
       "      <td>3</td>\n",
       "      <td>1.711</td>\n",
       "      <td>0</td>\n",
       "      <td>10</td>\n",
       "    </tr>\n",
       "    <tr>\n",
       "      <th>2</th>\n",
       "      <td>Biology</td>\n",
       "      <td>2404</td>\n",
       "      <td>3.192</td>\n",
       "      <td>3</td>\n",
       "      <td>1.725</td>\n",
       "      <td>-1</td>\n",
       "      <td>11</td>\n",
       "    </tr>\n",
       "    <tr>\n",
       "      <th>3</th>\n",
       "      <td>Economics</td>\n",
       "      <td>2327</td>\n",
       "      <td>3.713</td>\n",
       "      <td>3</td>\n",
       "      <td>1.792</td>\n",
       "      <td>0</td>\n",
       "      <td>12</td>\n",
       "    </tr>\n",
       "    <tr>\n",
       "      <th>4</th>\n",
       "      <td>Electrical Engineering</td>\n",
       "      <td>2386</td>\n",
       "      <td>4.009</td>\n",
       "      <td>4</td>\n",
       "      <td>1.732</td>\n",
       "      <td>0</td>\n",
       "      <td>11</td>\n",
       "    </tr>\n",
       "    <tr>\n",
       "      <th>5</th>\n",
       "      <td>French Literature</td>\n",
       "      <td>2339</td>\n",
       "      <td>3.041</td>\n",
       "      <td>3</td>\n",
       "      <td>1.709</td>\n",
       "      <td>-1</td>\n",
       "      <td>10</td>\n",
       "    </tr>\n",
       "    <tr>\n",
       "      <th>6</th>\n",
       "      <td>Philosophy</td>\n",
       "      <td>2297</td>\n",
       "      <td>3.527</td>\n",
       "      <td>3</td>\n",
       "      <td>1.713</td>\n",
       "      <td>0</td>\n",
       "      <td>11</td>\n",
       "    </tr>\n",
       "  </tbody>\n",
       "</table>\n",
       "</div>"
      ],
      "text/plain": [
       "                  program     n  mean  median    sd  min  max\n",
       "0            Anthropology  2288 3.101       3 1.764   -1   10\n",
       "1             Art History  2370 3.361       3 1.711    0   10\n",
       "2                 Biology  2404 3.192       3 1.725   -1   11\n",
       "3               Economics  2327 3.713       3 1.792    0   12\n",
       "4  Electrical Engineering  2386 4.009       4 1.732    0   11\n",
       "5       French Literature  2339 3.041       3 1.709   -1   10\n",
       "6              Philosophy  2297 3.527       3 1.713    0   11"
      ]
     },
     "execution_count": 47,
     "metadata": {},
     "output_type": "execute_result"
    }
   ],
   "source": [
    "completion_time = completion.time_to_completion\n",
    "completion_time"
   ]
  },
  {
   "cell_type": "code",
   "execution_count": 48,
   "metadata": {},
   "outputs": [
    {
     "data": {
      "text/html": [
       "<div>\n",
       "<style scoped>\n",
       "    .dataframe tbody tr th:only-of-type {\n",
       "        vertical-align: middle;\n",
       "    }\n",
       "\n",
       "    .dataframe tbody tr th {\n",
       "        vertical-align: top;\n",
       "    }\n",
       "\n",
       "    .dataframe thead th {\n",
       "        text-align: right;\n",
       "    }\n",
       "</style>\n",
       "<table border=\"1\" class=\"dataframe\">\n",
       "  <thead>\n",
       "    <tr style=\"text-align: right;\">\n",
       "      <th></th>\n",
       "      <th>program</th>\n",
       "      <th>n</th>\n",
       "      <th>mean</th>\n",
       "      <th>median</th>\n",
       "      <th>sd</th>\n",
       "      <th>min</th>\n",
       "      <th>max</th>\n",
       "    </tr>\n",
       "  </thead>\n",
       "  <tbody>\n",
       "    <tr>\n",
       "      <th>0</th>\n",
       "      <td>Anthropology</td>\n",
       "      <td>2288</td>\n",
       "      <td>0.669</td>\n",
       "      <td>1</td>\n",
       "      <td>0.471</td>\n",
       "      <td>0</td>\n",
       "      <td>1</td>\n",
       "    </tr>\n",
       "    <tr>\n",
       "      <th>1</th>\n",
       "      <td>Art History</td>\n",
       "      <td>2370</td>\n",
       "      <td>0.682</td>\n",
       "      <td>1</td>\n",
       "      <td>0.466</td>\n",
       "      <td>0</td>\n",
       "      <td>1</td>\n",
       "    </tr>\n",
       "    <tr>\n",
       "      <th>2</th>\n",
       "      <td>Biology</td>\n",
       "      <td>2404</td>\n",
       "      <td>0.671</td>\n",
       "      <td>1</td>\n",
       "      <td>0.470</td>\n",
       "      <td>0</td>\n",
       "      <td>1</td>\n",
       "    </tr>\n",
       "    <tr>\n",
       "      <th>3</th>\n",
       "      <td>Economics</td>\n",
       "      <td>2327</td>\n",
       "      <td>0.634</td>\n",
       "      <td>1</td>\n",
       "      <td>0.482</td>\n",
       "      <td>0</td>\n",
       "      <td>1</td>\n",
       "    </tr>\n",
       "    <tr>\n",
       "      <th>4</th>\n",
       "      <td>Electrical Engineering</td>\n",
       "      <td>2386</td>\n",
       "      <td>0.592</td>\n",
       "      <td>1</td>\n",
       "      <td>0.492</td>\n",
       "      <td>0</td>\n",
       "      <td>1</td>\n",
       "    </tr>\n",
       "    <tr>\n",
       "      <th>5</th>\n",
       "      <td>French Literature</td>\n",
       "      <td>2339</td>\n",
       "      <td>0.702</td>\n",
       "      <td>1</td>\n",
       "      <td>0.458</td>\n",
       "      <td>0</td>\n",
       "      <td>1</td>\n",
       "    </tr>\n",
       "    <tr>\n",
       "      <th>6</th>\n",
       "      <td>Philosophy</td>\n",
       "      <td>2297</td>\n",
       "      <td>0.654</td>\n",
       "      <td>1</td>\n",
       "      <td>0.476</td>\n",
       "      <td>0</td>\n",
       "      <td>1</td>\n",
       "    </tr>\n",
       "  </tbody>\n",
       "</table>\n",
       "</div>"
      ],
      "text/plain": [
       "                  program     n  mean  median    sd  min  max\n",
       "0            Anthropology  2288 0.669       1 0.471    0    1\n",
       "1             Art History  2370 0.682       1 0.466    0    1\n",
       "2                 Biology  2404 0.671       1 0.470    0    1\n",
       "3               Economics  2327 0.634       1 0.482    0    1\n",
       "4  Electrical Engineering  2386 0.592       1 0.492    0    1\n",
       "5       French Literature  2339 0.702       1 0.458    0    1\n",
       "6              Philosophy  2297 0.654       1 0.476    0    1"
      ]
     },
     "execution_count": 48,
     "metadata": {},
     "output_type": "execute_result"
    }
   ],
   "source": [
    "completion_rate = completion.completion_rates\n",
    "completion_rate"
   ]
  },
  {
   "cell_type": "code",
   "execution_count": 49,
   "metadata": {},
   "outputs": [
    {
     "data": {
      "text/plain": [
       "Text(0.5, 1.0, 'Average time to complete')"
      ]
     },
     "execution_count": 49,
     "metadata": {},
     "output_type": "execute_result"
    },
    {
     "data": {
      "image/png": "[encoded data removed]",
      "text/plain": [
       "<Figure size 800x400 with 1 Axes>"
      ]
     },
     "metadata": {
      "needs_background": "light"
     },
     "output_type": "display_data"
    }
   ],
   "source": [
    "sns.barplot(x=\"mean\", y=\"program\", data=completion_time).set_title(\"Average time to complete\")"
   ]
  },
  {
   "cell_type": "code",
   "execution_count": 50,
   "metadata": {},
   "outputs": [
    {
     "data": {
      "text/plain": [
       "Text(0.5, 1.0, 'Average completion rate')"
      ]
     },
     "execution_count": 50,
     "metadata": {},
     "output_type": "execute_result"
    },
    {
     "data": {
      "image/png": "[encoded data removed]",
      "text/plain": [
       "<Figure size 800x400 with 1 Axes>"
      ]
     },
     "metadata": {
      "needs_background": "light"
     },
     "output_type": "display_data"
    }
   ],
   "source": [
    "sns.barplot(x=\"mean\", y=\"program\", data=completion_rate).set_title(\"Average completion rate\")"
   ]
  },
  {
   "cell_type": "markdown",
   "metadata": {},
   "source": [
    "__Try out loan amounts__"
   ]
  },
  {
   "cell_type": "code",
   "execution_count": 51,
   "metadata": {},
   "outputs": [],
   "source": [
    "data_programs = data.merge(programs, left_on=\"program\", right_on=\"programs\", how=\"left\")\n",
    "data_programs['total_cost'] = data_programs['cost_per_semester'] * data_programs['length']\n",
    "data_programs['period_payment'] = cost.Compound_Interest_Loan.calculate_period_payment(data_programs['total_cost'], 0.05, 10)"
   ]
  },
  {
   "cell_type": "code",
   "execution_count": 52,
   "metadata": {},
   "outputs": [
    {
     "data": {
      "text/html": [
       "<div>\n",
       "<style scoped>\n",
       "    .dataframe tbody tr th:only-of-type {\n",
       "        vertical-align: middle;\n",
       "    }\n",
       "\n",
       "    .dataframe tbody tr th {\n",
       "        vertical-align: top;\n",
       "    }\n",
       "\n",
       "    .dataframe thead th {\n",
       "        text-align: right;\n",
       "    }\n",
       "</style>\n",
       "<table border=\"1\" class=\"dataframe\">\n",
       "  <thead>\n",
       "    <tr style=\"text-align: right;\">\n",
       "      <th></th>\n",
       "      <th>Unnamed: 0_x</th>\n",
       "      <th>race</th>\n",
       "      <th>gender</th>\n",
       "      <th>earnings_start</th>\n",
       "      <th>earnings_end</th>\n",
       "      <th>age</th>\n",
       "      <th>program</th>\n",
       "      <th>program_start</th>\n",
       "      <th>program_end</th>\n",
       "      <th>education_level</th>\n",
       "      <th>...</th>\n",
       "      <th>empchange</th>\n",
       "      <th>emp_premium</th>\n",
       "      <th>time_to_completion</th>\n",
       "      <th>Unnamed: 0_y</th>\n",
       "      <th>programs</th>\n",
       "      <th>degree</th>\n",
       "      <th>length</th>\n",
       "      <th>cost_per_semester</th>\n",
       "      <th>total_cost</th>\n",
       "      <th>period_payment</th>\n",
       "    </tr>\n",
       "  </thead>\n",
       "  <tbody>\n",
       "    <tr>\n",
       "      <th>14646</th>\n",
       "      <td>14647</td>\n",
       "      <td>White</td>\n",
       "      <td>Male</td>\n",
       "      <td>27598.000</td>\n",
       "      <td>61694.700</td>\n",
       "      <td>45</td>\n",
       "      <td>Electrical Engineering</td>\n",
       "      <td>2014</td>\n",
       "      <td>2019</td>\n",
       "      <td>125</td>\n",
       "      <td>...</td>\n",
       "      <td>0</td>\n",
       "      <td>0.020</td>\n",
       "      <td>5</td>\n",
       "      <td>1</td>\n",
       "      <td>Electrical Engineering</td>\n",
       "      <td>BA</td>\n",
       "      <td>8</td>\n",
       "      <td>5000</td>\n",
       "      <td>40000</td>\n",
       "      <td>5180.183</td>\n",
       "    </tr>\n",
       "    <tr>\n",
       "      <th>8774</th>\n",
       "      <td>8775</td>\n",
       "      <td>Other</td>\n",
       "      <td>Female</td>\n",
       "      <td>17421.000</td>\n",
       "      <td>21670.110</td>\n",
       "      <td>35</td>\n",
       "      <td>French Literature</td>\n",
       "      <td>2017</td>\n",
       "      <td>2019</td>\n",
       "      <td>92</td>\n",
       "      <td>...</td>\n",
       "      <td>0</td>\n",
       "      <td>0.001</td>\n",
       "      <td>2</td>\n",
       "      <td>6</td>\n",
       "      <td>French Literature</td>\n",
       "      <td>MA</td>\n",
       "      <td>5</td>\n",
       "      <td>6000</td>\n",
       "      <td>30000</td>\n",
       "      <td>3885.137</td>\n",
       "    </tr>\n",
       "    <tr>\n",
       "      <th>14449</th>\n",
       "      <td>14450</td>\n",
       "      <td>Black</td>\n",
       "      <td>Female</td>\n",
       "      <td>27798.000</td>\n",
       "      <td>50706.480</td>\n",
       "      <td>18</td>\n",
       "      <td>Philosophy</td>\n",
       "      <td>2018</td>\n",
       "      <td>2022</td>\n",
       "      <td>124</td>\n",
       "      <td>...</td>\n",
       "      <td>0</td>\n",
       "      <td>nan</td>\n",
       "      <td>4</td>\n",
       "      <td>7</td>\n",
       "      <td>Philosophy</td>\n",
       "      <td>BA</td>\n",
       "      <td>8</td>\n",
       "      <td>8000</td>\n",
       "      <td>64000</td>\n",
       "      <td>8288.293</td>\n",
       "    </tr>\n",
       "    <tr>\n",
       "      <th>4080</th>\n",
       "      <td>4081</td>\n",
       "      <td>White</td>\n",
       "      <td>Female</td>\n",
       "      <td>25869.000</td>\n",
       "      <td>43752.390</td>\n",
       "      <td>18</td>\n",
       "      <td>Art History</td>\n",
       "      <td>2011</td>\n",
       "      <td>2016</td>\n",
       "      <td>73</td>\n",
       "      <td>...</td>\n",
       "      <td>0</td>\n",
       "      <td>0.049</td>\n",
       "      <td>5</td>\n",
       "      <td>2</td>\n",
       "      <td>Art History</td>\n",
       "      <td>BA</td>\n",
       "      <td>8</td>\n",
       "      <td>7000</td>\n",
       "      <td>56000</td>\n",
       "      <td>7252.256</td>\n",
       "    </tr>\n",
       "    <tr>\n",
       "      <th>9708</th>\n",
       "      <td>9709</td>\n",
       "      <td>Black</td>\n",
       "      <td>Male</td>\n",
       "      <td>30187.000</td>\n",
       "      <td>50887.200</td>\n",
       "      <td>30</td>\n",
       "      <td>Economics</td>\n",
       "      <td>2010</td>\n",
       "      <td>2015</td>\n",
       "      <td>111</td>\n",
       "      <td>...</td>\n",
       "      <td>0</td>\n",
       "      <td>0.044</td>\n",
       "      <td>5</td>\n",
       "      <td>3</td>\n",
       "      <td>Economics</td>\n",
       "      <td>MA</td>\n",
       "      <td>4</td>\n",
       "      <td>10000</td>\n",
       "      <td>40000</td>\n",
       "      <td>5180.183</td>\n",
       "    </tr>\n",
       "    <tr>\n",
       "      <th>1023</th>\n",
       "      <td>1024</td>\n",
       "      <td>Black</td>\n",
       "      <td>Other/unspecified</td>\n",
       "      <td>36397.000</td>\n",
       "      <td>32827.000</td>\n",
       "      <td>18</td>\n",
       "      <td>Anthropology</td>\n",
       "      <td>2012</td>\n",
       "      <td>2015</td>\n",
       "      <td>0</td>\n",
       "      <td>...</td>\n",
       "      <td>0</td>\n",
       "      <td>0.032</td>\n",
       "      <td>3</td>\n",
       "      <td>4</td>\n",
       "      <td>Anthropology</td>\n",
       "      <td>BA</td>\n",
       "      <td>4</td>\n",
       "      <td>4500</td>\n",
       "      <td>18000</td>\n",
       "      <td>2331.082</td>\n",
       "    </tr>\n",
       "    <tr>\n",
       "      <th>9738</th>\n",
       "      <td>9739</td>\n",
       "      <td>White</td>\n",
       "      <td>Female</td>\n",
       "      <td>23949.000</td>\n",
       "      <td>nan</td>\n",
       "      <td>35</td>\n",
       "      <td>Economics</td>\n",
       "      <td>2012</td>\n",
       "      <td>2015</td>\n",
       "      <td>111</td>\n",
       "      <td>...</td>\n",
       "      <td>0</td>\n",
       "      <td>0.031</td>\n",
       "      <td>3</td>\n",
       "      <td>3</td>\n",
       "      <td>Economics</td>\n",
       "      <td>MA</td>\n",
       "      <td>4</td>\n",
       "      <td>10000</td>\n",
       "      <td>40000</td>\n",
       "      <td>5180.183</td>\n",
       "    </tr>\n",
       "    <tr>\n",
       "      <th>5095</th>\n",
       "      <td>5096</td>\n",
       "      <td>Black</td>\n",
       "      <td>Male</td>\n",
       "      <td>16799.000</td>\n",
       "      <td>27419.700</td>\n",
       "      <td>40</td>\n",
       "      <td>French Literature</td>\n",
       "      <td>2014</td>\n",
       "      <td>2019</td>\n",
       "      <td>73</td>\n",
       "      <td>...</td>\n",
       "      <td>0</td>\n",
       "      <td>0.020</td>\n",
       "      <td>5</td>\n",
       "      <td>6</td>\n",
       "      <td>French Literature</td>\n",
       "      <td>MA</td>\n",
       "      <td>5</td>\n",
       "      <td>6000</td>\n",
       "      <td>30000</td>\n",
       "      <td>3885.137</td>\n",
       "    </tr>\n",
       "    <tr>\n",
       "      <th>11732</th>\n",
       "      <td>11733</td>\n",
       "      <td>Other</td>\n",
       "      <td>Other/unspecified</td>\n",
       "      <td>35287.000</td>\n",
       "      <td>52456.390</td>\n",
       "      <td>29</td>\n",
       "      <td>Economics</td>\n",
       "      <td>2018</td>\n",
       "      <td>2021</td>\n",
       "      <td>123</td>\n",
       "      <td>...</td>\n",
       "      <td>1</td>\n",
       "      <td>nan</td>\n",
       "      <td>3</td>\n",
       "      <td>3</td>\n",
       "      <td>Economics</td>\n",
       "      <td>MA</td>\n",
       "      <td>4</td>\n",
       "      <td>10000</td>\n",
       "      <td>40000</td>\n",
       "      <td>5180.183</td>\n",
       "    </tr>\n",
       "    <tr>\n",
       "      <th>11297</th>\n",
       "      <td>11298</td>\n",
       "      <td>Black</td>\n",
       "      <td>Male</td>\n",
       "      <td>35899.000</td>\n",
       "      <td>44748.000</td>\n",
       "      <td>29</td>\n",
       "      <td>Art History</td>\n",
       "      <td>2017</td>\n",
       "      <td>2020</td>\n",
       "      <td>123</td>\n",
       "      <td>...</td>\n",
       "      <td>0</td>\n",
       "      <td>nan</td>\n",
       "      <td>3</td>\n",
       "      <td>2</td>\n",
       "      <td>Art History</td>\n",
       "      <td>BA</td>\n",
       "      <td>8</td>\n",
       "      <td>7000</td>\n",
       "      <td>56000</td>\n",
       "      <td>7252.256</td>\n",
       "    </tr>\n",
       "  </tbody>\n",
       "</table>\n",
       "<p>10 rows × 41 columns</p>\n",
       "</div>"
      ],
      "text/plain": [
       "       Unnamed: 0_x   race             gender  earnings_start  earnings_end  \\\n",
       "14646         14647  White               Male       27598.000     61694.700   \n",
       "8774           8775  Other             Female       17421.000     21670.110   \n",
       "14449         14450  Black             Female       27798.000     50706.480   \n",
       "4080           4081  White             Female       25869.000     43752.390   \n",
       "9708           9709  Black               Male       30187.000     50887.200   \n",
       "1023           1024  Black  Other/unspecified       36397.000     32827.000   \n",
       "9738           9739  White             Female       23949.000           nan   \n",
       "5095           5096  Black               Male       16799.000     27419.700   \n",
       "11732         11733  Other  Other/unspecified       35287.000     52456.390   \n",
       "11297         11298  Black               Male       35899.000     44748.000   \n",
       "\n",
       "       age                 program  program_start  program_end  \\\n",
       "14646   45  Electrical Engineering           2014         2019   \n",
       "8774    35       French Literature           2017         2019   \n",
       "14449   18              Philosophy           2018         2022   \n",
       "4080    18             Art History           2011         2016   \n",
       "9708    30               Economics           2010         2015   \n",
       "1023    18            Anthropology           2012         2015   \n",
       "9738    35               Economics           2012         2015   \n",
       "5095    40       French Literature           2014         2019   \n",
       "11732   29               Economics           2018         2021   \n",
       "11297   29             Art History           2017         2020   \n",
       "\n",
       "       education_level  ...  empchange  emp_premium  time_to_completion  \\\n",
       "14646              125  ...          0        0.020                   5   \n",
       "8774                92  ...          0        0.001                   2   \n",
       "14449              124  ...          0          nan                   4   \n",
       "4080                73  ...          0        0.049                   5   \n",
       "9708               111  ...          0        0.044                   5   \n",
       "1023                 0  ...          0        0.032                   3   \n",
       "9738               111  ...          0        0.031                   3   \n",
       "5095                73  ...          0        0.020                   5   \n",
       "11732              123  ...          1          nan                   3   \n",
       "11297              123  ...          0          nan                   3   \n",
       "\n",
       "      Unnamed: 0_y                programs degree length cost_per_semester  \\\n",
       "14646            1  Electrical Engineering     BA      8              5000   \n",
       "8774             6       French Literature     MA      5              6000   \n",
       "14449            7              Philosophy     BA      8              8000   \n",
       "4080             2             Art History     BA      8              7000   \n",
       "9708             3               Economics     MA      4             10000   \n",
       "1023             4            Anthropology     BA      4              4500   \n",
       "9738             3               Economics     MA      4             10000   \n",
       "5095             6       French Literature     MA      5              6000   \n",
       "11732            3               Economics     MA      4             10000   \n",
       "11297            2             Art History     BA      8              7000   \n",
       "\n",
       "       total_cost  period_payment  \n",
       "14646       40000        5180.183  \n",
       "8774        30000        3885.137  \n",
       "14449       64000        8288.293  \n",
       "4080        56000        7252.256  \n",
       "9708        40000        5180.183  \n",
       "1023        18000        2331.082  \n",
       "9738        40000        5180.183  \n",
       "5095        30000        3885.137  \n",
       "11732       40000        5180.183  \n",
       "11297       56000        7252.256  \n",
       "\n",
       "[10 rows x 41 columns]"
      ]
     },
     "execution_count": 52,
     "metadata": {},
     "output_type": "execute_result"
    }
   ],
   "source": [
    "data_programs.sample(10)"
   ]
  },
  {
   "cell_type": "code",
   "execution_count": 53,
   "metadata": {},
   "outputs": [],
   "source": [
    "data_programs['premium_with_payments'] = data_programs['earnings_premium'] - data_programs['period_payment']"
   ]
  },
  {
   "cell_type": "code",
   "execution_count": 54,
   "metadata": {},
   "outputs": [],
   "source": [
    "summary_w_payments = utilities.multiple_describe(data_programs, 'program', 'premium_with_payments')"
   ]
  },
  {
   "cell_type": "code",
   "execution_count": 55,
   "metadata": {},
   "outputs": [
    {
     "data": {
      "text/plain": [
       "Text(0.5, 1.0, 'Return including loan payments')"
      ]
     },
     "execution_count": 55,
     "metadata": {},
     "output_type": "execute_result"
    },
    {
     "data": {
      "image/png": "[encoded data removed]",
      "text/plain": [
       "<Figure size 800x400 with 1 Axes>"
      ]
     },
     "metadata": {
      "needs_background": "light"
     },
     "output_type": "display_data"
    }
   ],
   "source": [
    "sns.barplot(x=\"mean\", y=\"program\", data=summary_w_payments).set_title(\"Return including loan payments\")"
   ]
  },
  {
   "cell_type": "markdown",
   "metadata": {},
   "source": [
    "__High school baselines__"
   ]
  },
  {
   "cell_type": "code",
   "execution_count": 56,
   "metadata": {},
   "outputs": [
    {
     "name": "stderr",
     "output_type": "stream",
     "text": [
      "/Users/mattlerner/roi/sbir-roi/roi/utilities.py:135: UserWarning: State codes, though integers, should be passed as strings. Something else was passed. Attempting to coerce to string.\n",
      "  warnings.warn(\"State codes, though integers, should be passed as strings. Something else was passed. Attempting to coerce to string.\")\n"
     ]
    }
   ],
   "source": [
    "cps = surveys.CPS_Ops()"
   ]
  },
  {
   "cell_type": "code",
   "execution_count": 57,
   "metadata": {},
   "outputs": [
    {
     "data": {
      "text/plain": [
       "[15017.630256967966, 21688.246894625805, 34336.28062777556]"
      ]
     },
     "execution_count": 57,
     "metadata": {},
     "output_type": "execute_result"
    }
   ],
   "source": [
    "cps.rudimentary_hs_baseline('08', [1, 5, 10])"
   ]
  },
  {
   "cell_type": "code",
   "execution_count": 58,
   "metadata": {},
   "outputs": [
    {
     "data": {
      "text/plain": [
       "{'year1': 15017.630256967966,\n",
       " 'year5': 21688.246894625805,\n",
       " 'year10': 34336.28062777556}"
      ]
     },
     "execution_count": 58,
     "metadata": {},
     "output_type": "execute_result"
    }
   ],
   "source": [
    "{'year1': 15017.630256967966,\n",
    " 'year5': 21688.246894625805,\n",
    " 'year10': 34336.28062777556}"
   ]
  },
  {
   "cell_type": "code",
   "execution_count": 59,
   "metadata": {},
   "outputs": [
    {
     "name": "stdout",
     "output_type": "stream",
     "text": [
      "State_To_FIPS_series usually takes a pandas series. Something else was passed. Now trying under assumption that passed object is list or array\n"
     ]
    }
   ],
   "source": [
    "states = ['CA','TX','AK','MS','CO']\n",
    "fips = utilities.State_To_FIPS_series(states)"
   ]
  },
  {
   "cell_type": "code",
   "execution_count": 60,
   "metadata": {},
   "outputs": [
    {
     "data": {
      "text/plain": [
       "['06', '48', '02', '28', '08']"
      ]
     },
     "execution_count": 60,
     "metadata": {},
     "output_type": "execute_result"
    }
   ],
   "source": [
    "fips"
   ]
  },
  {
   "cell_type": "code",
   "execution_count": 61,
   "metadata": {},
   "outputs": [],
   "source": [
    "baselines = pd.DataFrame([cps.rudimentary_hs_baseline(state, [1, 5, 10]) for state in fips])\n",
    "baselines['state'] = states\n",
    "baselines.columns = ['1','5','10','State']"
   ]
  },
  {
   "cell_type": "code",
   "execution_count": 62,
   "metadata": {},
   "outputs": [],
   "source": [
    "baselines_melted = pd.melt(baselines, id_vars=['State'], var_name=\"year\", value_name=\"earnings\")\n",
    "baselines_melted['year'] = baselines_melted['year'].astype(int)\n",
    "baselines_melted['earnings'] = baselines_melted['earnings'].astype(int)"
   ]
  },
  {
   "cell_type": "code",
   "execution_count": 63,
   "metadata": {},
   "outputs": [
    {
     "data": {
      "text/plain": [
       "<matplotlib.axes._subplots.AxesSubplot at 0x7fba1d657110>"
      ]
     },
     "execution_count": 63,
     "metadata": {},
     "output_type": "execute_result"
    },
    {
     "data": {
      "image/png": "[encoded data removed]",
      "text/plain": [
       "<Figure size 800x400 with 1 Axes>"
      ]
     },
     "metadata": {
      "needs_background": "light"
     },
     "output_type": "display_data"
    }
   ],
   "source": [
    "sns.lineplot(data=baselines_melted, x=\"year\", y=\"earnings\", hue=\"State\")"
   ]
  },
  {
   "cell_type": "markdown",
   "metadata": {},
   "source": [
    "__Completion rate vs earnings premium__"
   ]
  },
  {
   "cell_type": "code",
   "execution_count": 71,
   "metadata": {},
   "outputs": [],
   "source": [
    "merged_rate_premium = completion_rate.merge(premium, on=\"program\")"
   ]
  },
  {
   "cell_type": "code",
   "execution_count": 77,
   "metadata": {},
   "outputs": [
    {
     "data": {
      "text/plain": [
       "[Text(0, 0.5, 'Increased likelihood of employment'),\n",
       " Text(0.5, 0, 'Completion rate'),\n",
       " Text(0.5, 1.0, 'Completion rate vs employment premium')]"
      ]
     },
     "execution_count": 77,
     "metadata": {},
     "output_type": "execute_result"
    },
    {
     "data": {
      "image/png": "[encoded data removed]",
      "text/plain": [
       "<Figure size 800x400 with 1 Axes>"
      ]
     },
     "metadata": {
      "needs_background": "light"
     },
     "output_type": "display_data"
    }
   ],
   "source": [
    "fig, ax = plt.subplots()\n",
    "sns.scatterplot(data=merged_rate_premium, x=\"mean\", y=\"mean_employment_premium\", ax=ax, s=100)\n",
    "ax.set(xlabel='Completion rate', ylabel='Increased likelihood of employment', title='Completion rate vs employment premium')"
   ]
  },
  {
   "cell_type": "code",
   "execution_count": null,
   "metadata": {},
   "outputs": [],
   "source": []
  }
 ],
 "metadata": {
  "kernelspec": {
   "display_name": "Python 3",
   "language": "python",
   "name": "python3"
  },
  "language_info": {
   "codemirror_mode": {
    "name": "ipython",
    "version": 3
   },
   "file_extension": ".py",
   "mimetype": "text/x-python",
   "name": "python",
   "nbconvert_exporter": "python",
   "pygments_lexer": "ipython3",
   "version": "3.7.7"
  }
 },
 "nbformat": 4,
 "nbformat_minor": 4
}
