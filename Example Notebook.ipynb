{
 "cells": [
  {
   "cell_type": "code",
   "execution_count": 1,
   "metadata": {},
   "outputs": [],
   "source": [
    "from roi import equity, external\n",
    "import pandas as pd"
   ]
  },
  {
   "cell_type": "code",
   "execution_count": 2,
   "metadata": {},
   "outputs": [],
   "source": [
    "bls_api_key = \"c8803d0ba66c4592b8b0eff68ac9ebb0\""
   ]
  },
  {
   "cell_type": "code",
   "execution_count": 3,
   "metadata": {},
   "outputs": [],
   "source": [
    "data = pd.read_csv(\"testing/testing-data/test_microdata.csv\")"
   ]
  },
  {
   "cell_type": "code",
   "execution_count": 4,
   "metadata": {},
   "outputs": [
    {
     "data": {
      "text/plain": [
       "Index(['Unnamed: 0', 'race', 'gender', 'earnings_start', 'earnings_end', 'age',\n",
       "       'program', 'program_start', 'program_end', 'education_level',\n",
       "       'completer', 'employed_at_end', 'employed_at_start', 'state',\n",
       "       'full_address', 'Address', 'City', 'State', 'Zip', 'id', 'start_month',\n",
       "       'end_month'],\n",
       "      dtype='object')"
      ]
     },
     "execution_count": 4,
     "metadata": {},
     "output_type": "execute_result"
    }
   ],
   "source": [
    "data.columns"
   ]
  },
  {
   "cell_type": "markdown",
   "metadata": {},
   "source": [
    "__Equity analysis__"
   ]
  },
  {
   "cell_type": "code",
   "execution_count": 5,
   "metadata": {},
   "outputs": [
    {
     "name": "stderr",
     "output_type": "stream",
     "text": [
      "/Users/mattlerner/roi/sbir-roi/roi/equity.py:92: UserWarning: When sample == True, Metric() will use the value of sample to create a random subset of values that it will use for all calculations. This number will be stored as attribute .samplesize.\n",
      "  warnings.warn(\"When sample == True, Metric() will use the value of sample to create a random subset of values that it will use for all calculations. This number will be stored as attribute .samplesize.\")\n",
      "/Users/mattlerner/roi/sbir-roi/roi/equity.py:75: UserWarning: Data passed contains 243 NA values. All equity metrics are calculated by ignoring NA values, in effect dropping them. Please ensure that you have a strategy for dealing with these missing values. If values are not missing at random, e.g. if individuals with missing values have common traits, then ALL METRICS calculated will be biased.\n",
      "  warnings.warn(\"Data passed contains {} NA values. All equity metrics are calculated by ignoring NA values, in effect dropping them. Please ensure that you have a strategy for dealing with these missing values. If values are not missing at random, e.g. if individuals with missing values have common traits, then ALL METRICS calculated will be biased.\".format(self.nans))\n"
     ]
    }
   ],
   "source": [
    "gini = equity.Gini.from_dataframe(data, 'gender', 'earnings_end', sample = 2000)\n",
    "gini.calculate()"
   ]
  },
  {
   "cell_type": "code",
   "execution_count": 9,
   "metadata": {},
   "outputs": [
    {
     "data": {
      "image/png": "[encoded data removed]",
      "text/plain": [
       "<Figure size 432x288 with 1 Axes>"
      ]
     },
     "execution_count": 9,
     "metadata": {},
     "output_type": "execute_result"
    }
   ],
   "source": [
    "gini.viz"
   ]
  },
  {
   "cell_type": "code",
   "execution_count": 10,
   "metadata": {},
   "outputs": [
    {
     "data": {
      "text/plain": [
       "0.05930674736868827"
      ]
     },
     "execution_count": 10,
     "metadata": {},
     "output_type": "execute_result"
    }
   ],
   "source": [
    "gini.ratio"
   ]
  },
  {
   "cell_type": "code",
   "execution_count": 11,
   "metadata": {},
   "outputs": [
    {
     "data": {
      "text/plain": [
       "5000"
      ]
     },
     "execution_count": 11,
     "metadata": {},
     "output_type": "execute_result"
    }
   ],
   "source": [
    "gini.sample"
   ]
  },
  {
   "cell_type": "markdown",
   "metadata": {},
   "source": [
    "__Geocode addresses__"
   ]
  },
  {
   "cell_type": "code",
   "execution_count": 12,
   "metadata": {},
   "outputs": [],
   "source": [
    "small_data = data.sample(30)"
   ]
  },
  {
   "cell_type": "code",
   "execution_count": 13,
   "metadata": {},
   "outputs": [
    {
     "data": {
      "text/html": [
       "<div>\n",
       "<style scoped>\n",
       "    .dataframe tbody tr th:only-of-type {\n",
       "        vertical-align: middle;\n",
       "    }\n",
       "\n",
       "    .dataframe tbody tr th {\n",
       "        vertical-align: top;\n",
       "    }\n",
       "\n",
       "    .dataframe thead th {\n",
       "        text-align: right;\n",
       "    }\n",
       "</style>\n",
       "<table border=\"1\" class=\"dataframe\">\n",
       "  <thead>\n",
       "    <tr style=\"text-align: right;\">\n",
       "      <th></th>\n",
       "      <th>Unnamed: 0</th>\n",
       "      <th>race</th>\n",
       "      <th>gender</th>\n",
       "      <th>earnings_start</th>\n",
       "      <th>earnings_end</th>\n",
       "      <th>age</th>\n",
       "      <th>program</th>\n",
       "      <th>program_start</th>\n",
       "      <th>program_end</th>\n",
       "      <th>education_level</th>\n",
       "      <th>...</th>\n",
       "      <th>employed_at_start</th>\n",
       "      <th>state</th>\n",
       "      <th>full_address</th>\n",
       "      <th>Address</th>\n",
       "      <th>City</th>\n",
       "      <th>State</th>\n",
       "      <th>Zip</th>\n",
       "      <th>id</th>\n",
       "      <th>start_month</th>\n",
       "      <th>end_month</th>\n",
       "    </tr>\n",
       "  </thead>\n",
       "  <tbody>\n",
       "    <tr>\n",
       "      <th>8855</th>\n",
       "      <td>8856</td>\n",
       "      <td>Neptunian</td>\n",
       "      <td>Moman</td>\n",
       "      <td>33330.0</td>\n",
       "      <td>51554.0</td>\n",
       "      <td>44</td>\n",
       "      <td>French Literature</td>\n",
       "      <td>2013</td>\n",
       "      <td>2019</td>\n",
       "      <td>124</td>\n",
       "      <td>...</td>\n",
       "      <td>1</td>\n",
       "      <td>8</td>\n",
       "      <td>3424 SAINT JOHNS AVE PALATKA FL 32177</td>\n",
       "      <td>3424 SAINT JOHNS AVE</td>\n",
       "      <td>PALATKA</td>\n",
       "      <td>FL</td>\n",
       "      <td>32177</td>\n",
       "      <td>7678</td>\n",
       "      <td>10</td>\n",
       "      <td>5</td>\n",
       "    </tr>\n",
       "    <tr>\n",
       "      <th>6333</th>\n",
       "      <td>6334</td>\n",
       "      <td>Earthling</td>\n",
       "      <td>Moman</td>\n",
       "      <td>34850.0</td>\n",
       "      <td>43362.0</td>\n",
       "      <td>20</td>\n",
       "      <td>Anthropology</td>\n",
       "      <td>2014</td>\n",
       "      <td>2015</td>\n",
       "      <td>111</td>\n",
       "      <td>...</td>\n",
       "      <td>1</td>\n",
       "      <td>8</td>\n",
       "      <td>4259 WEST SWAMP ROAD SUITE 204 DOYLESTOWN PA 1...</td>\n",
       "      <td>4259 WEST SWAMP ROAD SUITE 204</td>\n",
       "      <td>DOYLESTOWN</td>\n",
       "      <td>PA</td>\n",
       "      <td>18902</td>\n",
       "      <td>5817</td>\n",
       "      <td>9</td>\n",
       "      <td>7</td>\n",
       "    </tr>\n",
       "    <tr>\n",
       "      <th>9984</th>\n",
       "      <td>9985</td>\n",
       "      <td>Martian</td>\n",
       "      <td>Moman</td>\n",
       "      <td>34274.0</td>\n",
       "      <td>47173.0</td>\n",
       "      <td>45</td>\n",
       "      <td>French Literature</td>\n",
       "      <td>2013</td>\n",
       "      <td>2015</td>\n",
       "      <td>125</td>\n",
       "      <td>...</td>\n",
       "      <td>1</td>\n",
       "      <td>8</td>\n",
       "      <td>520 EIGHTH AVENUE NEW YORK NY 10018</td>\n",
       "      <td>520 EIGHTH AVENUE</td>\n",
       "      <td>NEW YORK</td>\n",
       "      <td>NY</td>\n",
       "      <td>10018</td>\n",
       "      <td>1246</td>\n",
       "      <td>10</td>\n",
       "      <td>5</td>\n",
       "    </tr>\n",
       "    <tr>\n",
       "      <th>2165</th>\n",
       "      <td>2166</td>\n",
       "      <td>Neptunian</td>\n",
       "      <td>Moman</td>\n",
       "      <td>34627.0</td>\n",
       "      <td>39911.0</td>\n",
       "      <td>46</td>\n",
       "      <td>Philosophy</td>\n",
       "      <td>2018</td>\n",
       "      <td>2018</td>\n",
       "      <td>60</td>\n",
       "      <td>...</td>\n",
       "      <td>0</td>\n",
       "      <td>8</td>\n",
       "      <td>4540 AMBASSADOR CAFFERY PKWY SUITE B220 LAFAYE...</td>\n",
       "      <td>4540 AMBASSADOR CAFFERY PKWY SUITE B220</td>\n",
       "      <td>LAFAYETTE</td>\n",
       "      <td>LA</td>\n",
       "      <td>70508</td>\n",
       "      <td>5178</td>\n",
       "      <td>8</td>\n",
       "      <td>5</td>\n",
       "    </tr>\n",
       "    <tr>\n",
       "      <th>9902</th>\n",
       "      <td>9903</td>\n",
       "      <td>Venusian</td>\n",
       "      <td>Wan</td>\n",
       "      <td>41875.0</td>\n",
       "      <td>72738.0</td>\n",
       "      <td>22</td>\n",
       "      <td>French Literature</td>\n",
       "      <td>2013</td>\n",
       "      <td>2016</td>\n",
       "      <td>125</td>\n",
       "      <td>...</td>\n",
       "      <td>1</td>\n",
       "      <td>8</td>\n",
       "      <td>5750 DIVISION STREET, SUITE 206 RIVERSIDE CA 9...</td>\n",
       "      <td>5750 DIVISION STREET, SUITE 206</td>\n",
       "      <td>RIVERSIDE</td>\n",
       "      <td>CA</td>\n",
       "      <td>92506</td>\n",
       "      <td>8949</td>\n",
       "      <td>8</td>\n",
       "      <td>7</td>\n",
       "    </tr>\n",
       "  </tbody>\n",
       "</table>\n",
       "<p>5 rows × 22 columns</p>\n",
       "</div>"
      ],
      "text/plain": [
       "      Unnamed: 0       race gender  earnings_start  earnings_end  age  \\\n",
       "8855        8856  Neptunian  Moman         33330.0       51554.0   44   \n",
       "6333        6334  Earthling  Moman         34850.0       43362.0   20   \n",
       "9984        9985    Martian  Moman         34274.0       47173.0   45   \n",
       "2165        2166  Neptunian  Moman         34627.0       39911.0   46   \n",
       "9902        9903   Venusian    Wan         41875.0       72738.0   22   \n",
       "\n",
       "                program  program_start  program_end  education_level  ...  \\\n",
       "8855  French Literature           2013         2019              124  ...   \n",
       "6333       Anthropology           2014         2015              111  ...   \n",
       "9984  French Literature           2013         2015              125  ...   \n",
       "2165         Philosophy           2018         2018               60  ...   \n",
       "9902  French Literature           2013         2016              125  ...   \n",
       "\n",
       "      employed_at_start  state  \\\n",
       "8855                  1      8   \n",
       "6333                  1      8   \n",
       "9984                  1      8   \n",
       "2165                  0      8   \n",
       "9902                  1      8   \n",
       "\n",
       "                                           full_address  \\\n",
       "8855              3424 SAINT JOHNS AVE PALATKA FL 32177   \n",
       "6333  4259 WEST SWAMP ROAD SUITE 204 DOYLESTOWN PA 1...   \n",
       "9984                520 EIGHTH AVENUE NEW YORK NY 10018   \n",
       "2165  4540 AMBASSADOR CAFFERY PKWY SUITE B220 LAFAYE...   \n",
       "9902  5750 DIVISION STREET, SUITE 206 RIVERSIDE CA 9...   \n",
       "\n",
       "                                      Address        City State    Zip    id  \\\n",
       "8855                     3424 SAINT JOHNS AVE     PALATKA    FL  32177  7678   \n",
       "6333           4259 WEST SWAMP ROAD SUITE 204  DOYLESTOWN    PA  18902  5817   \n",
       "9984                        520 EIGHTH AVENUE    NEW YORK    NY  10018  1246   \n",
       "2165  4540 AMBASSADOR CAFFERY PKWY SUITE B220   LAFAYETTE    LA  70508  5178   \n",
       "9902          5750 DIVISION STREET, SUITE 206   RIVERSIDE    CA  92506  8949   \n",
       "\n",
       "      start_month  end_month  \n",
       "8855           10          5  \n",
       "6333            9          7  \n",
       "9984           10          5  \n",
       "2165            8          5  \n",
       "9902            8          7  \n",
       "\n",
       "[5 rows x 22 columns]"
      ]
     },
     "execution_count": 13,
     "metadata": {},
     "output_type": "execute_result"
    }
   ],
   "source": [
    "small_data.head()"
   ]
  },
  {
   "cell_type": "code",
   "execution_count": 14,
   "metadata": {},
   "outputs": [
    {
     "name": "stdout",
     "output_type": "stream",
     "text": [
      "Successfully geocoded 76.67% of 30 passed addresses.\n",
      "Of successfully matched addresses, 95.65% were exact matches\n"
     ]
    }
   ],
   "source": [
    "small_data['geocode'] = external.Census.get_batch_geocode(small_data)"
   ]
  },
  {
   "cell_type": "markdown",
   "metadata": {},
   "source": [
    "__Get SES for each individual with a geocode__"
   ]
  },
  {
   "cell_type": "code",
   "execution_count": 17,
   "metadata": {},
   "outputs": [],
   "source": [
    "adi = equity.ADI()"
   ]
  },
  {
   "cell_type": "code",
   "execution_count": 18,
   "metadata": {},
   "outputs": [
    {
     "name": "stdout",
     "output_type": "stream",
     "text": [
      "Geocode merge: Merged 23 of 7 observations in input dataframe (76.67%)\n"
     ]
    }
   ],
   "source": [
    "small_data['ses'] = adi.get_quintile_for_geocodes_frame(small_data, 'geocode')"
   ]
  },
  {
   "cell_type": "code",
   "execution_count": 20,
   "metadata": {},
   "outputs": [
    {
     "data": {
      "text/html": [
       "<div>\n",
       "<style scoped>\n",
       "    .dataframe tbody tr th:only-of-type {\n",
       "        vertical-align: middle;\n",
       "    }\n",
       "\n",
       "    .dataframe tbody tr th {\n",
       "        vertical-align: top;\n",
       "    }\n",
       "\n",
       "    .dataframe thead th {\n",
       "        text-align: right;\n",
       "    }\n",
       "</style>\n",
       "<table border=\"1\" class=\"dataframe\">\n",
       "  <thead>\n",
       "    <tr style=\"text-align: right;\">\n",
       "      <th></th>\n",
       "      <th>Unnamed: 0</th>\n",
       "      <th>race</th>\n",
       "      <th>gender</th>\n",
       "      <th>earnings_start</th>\n",
       "      <th>earnings_end</th>\n",
       "      <th>age</th>\n",
       "      <th>program</th>\n",
       "      <th>program_start</th>\n",
       "      <th>program_end</th>\n",
       "      <th>education_level</th>\n",
       "      <th>...</th>\n",
       "      <th>full_address</th>\n",
       "      <th>Address</th>\n",
       "      <th>City</th>\n",
       "      <th>State</th>\n",
       "      <th>Zip</th>\n",
       "      <th>id</th>\n",
       "      <th>start_month</th>\n",
       "      <th>end_month</th>\n",
       "      <th>geocode</th>\n",
       "      <th>ses</th>\n",
       "    </tr>\n",
       "  </thead>\n",
       "  <tbody>\n",
       "    <tr>\n",
       "      <th>8855</th>\n",
       "      <td>8856</td>\n",
       "      <td>Neptunian</td>\n",
       "      <td>Moman</td>\n",
       "      <td>33330.0</td>\n",
       "      <td>51554.0</td>\n",
       "      <td>44</td>\n",
       "      <td>French Literature</td>\n",
       "      <td>2013</td>\n",
       "      <td>2019</td>\n",
       "      <td>124</td>\n",
       "      <td>...</td>\n",
       "      <td>3424 SAINT JOHNS AVE PALATKA FL 32177</td>\n",
       "      <td>3424 SAINT JOHNS AVE</td>\n",
       "      <td>PALATKA</td>\n",
       "      <td>FL</td>\n",
       "      <td>32177</td>\n",
       "      <td>7678</td>\n",
       "      <td>10</td>\n",
       "      <td>5</td>\n",
       "      <td>121079507002</td>\n",
       "      <td>80-100</td>\n",
       "    </tr>\n",
       "    <tr>\n",
       "      <th>6333</th>\n",
       "      <td>6334</td>\n",
       "      <td>Earthling</td>\n",
       "      <td>Moman</td>\n",
       "      <td>34850.0</td>\n",
       "      <td>43362.0</td>\n",
       "      <td>20</td>\n",
       "      <td>Anthropology</td>\n",
       "      <td>2014</td>\n",
       "      <td>2015</td>\n",
       "      <td>111</td>\n",
       "      <td>...</td>\n",
       "      <td>4259 WEST SWAMP ROAD SUITE 204 DOYLESTOWN PA 1...</td>\n",
       "      <td>4259 WEST SWAMP ROAD SUITE 204</td>\n",
       "      <td>DOYLESTOWN</td>\n",
       "      <td>PA</td>\n",
       "      <td>18902</td>\n",
       "      <td>5817</td>\n",
       "      <td>9</td>\n",
       "      <td>7</td>\n",
       "      <td>420171045031</td>\n",
       "      <td>0-20</td>\n",
       "    </tr>\n",
       "    <tr>\n",
       "      <th>9984</th>\n",
       "      <td>9985</td>\n",
       "      <td>Martian</td>\n",
       "      <td>Moman</td>\n",
       "      <td>34274.0</td>\n",
       "      <td>47173.0</td>\n",
       "      <td>45</td>\n",
       "      <td>French Literature</td>\n",
       "      <td>2013</td>\n",
       "      <td>2015</td>\n",
       "      <td>125</td>\n",
       "      <td>...</td>\n",
       "      <td>520 EIGHTH AVENUE NEW YORK NY 10018</td>\n",
       "      <td>520 EIGHTH AVENUE</td>\n",
       "      <td>NEW YORK</td>\n",
       "      <td>NY</td>\n",
       "      <td>10018</td>\n",
       "      <td>1246</td>\n",
       "      <td>10</td>\n",
       "      <td>5</td>\n",
       "      <td>360610109001</td>\n",
       "      <td>0-20</td>\n",
       "    </tr>\n",
       "    <tr>\n",
       "      <th>2165</th>\n",
       "      <td>2166</td>\n",
       "      <td>Neptunian</td>\n",
       "      <td>Moman</td>\n",
       "      <td>34627.0</td>\n",
       "      <td>39911.0</td>\n",
       "      <td>46</td>\n",
       "      <td>Philosophy</td>\n",
       "      <td>2018</td>\n",
       "      <td>2018</td>\n",
       "      <td>60</td>\n",
       "      <td>...</td>\n",
       "      <td>4540 AMBASSADOR CAFFERY PKWY SUITE B220 LAFAYE...</td>\n",
       "      <td>4540 AMBASSADOR CAFFERY PKWY SUITE B220</td>\n",
       "      <td>LAFAYETTE</td>\n",
       "      <td>LA</td>\n",
       "      <td>70508</td>\n",
       "      <td>5178</td>\n",
       "      <td>8</td>\n",
       "      <td>5</td>\n",
       "      <td>220550014011</td>\n",
       "      <td>20-40</td>\n",
       "    </tr>\n",
       "    <tr>\n",
       "      <th>9902</th>\n",
       "      <td>9903</td>\n",
       "      <td>Venusian</td>\n",
       "      <td>Wan</td>\n",
       "      <td>41875.0</td>\n",
       "      <td>72738.0</td>\n",
       "      <td>22</td>\n",
       "      <td>French Literature</td>\n",
       "      <td>2013</td>\n",
       "      <td>2016</td>\n",
       "      <td>125</td>\n",
       "      <td>...</td>\n",
       "      <td>5750 DIVISION STREET, SUITE 206 RIVERSIDE CA 9...</td>\n",
       "      <td>5750 DIVISION STREET, SUITE 206</td>\n",
       "      <td>RIVERSIDE</td>\n",
       "      <td>CA</td>\n",
       "      <td>92506</td>\n",
       "      <td>8949</td>\n",
       "      <td>8</td>\n",
       "      <td>7</td>\n",
       "      <td>060650312005</td>\n",
       "      <td>20-40</td>\n",
       "    </tr>\n",
       "  </tbody>\n",
       "</table>\n",
       "<p>5 rows × 24 columns</p>\n",
       "</div>"
      ],
      "text/plain": [
       "      Unnamed: 0       race gender  earnings_start  earnings_end  age  \\\n",
       "8855        8856  Neptunian  Moman         33330.0       51554.0   44   \n",
       "6333        6334  Earthling  Moman         34850.0       43362.0   20   \n",
       "9984        9985    Martian  Moman         34274.0       47173.0   45   \n",
       "2165        2166  Neptunian  Moman         34627.0       39911.0   46   \n",
       "9902        9903   Venusian    Wan         41875.0       72738.0   22   \n",
       "\n",
       "                program  program_start  program_end  education_level  ...  \\\n",
       "8855  French Literature           2013         2019              124  ...   \n",
       "6333       Anthropology           2014         2015              111  ...   \n",
       "9984  French Literature           2013         2015              125  ...   \n",
       "2165         Philosophy           2018         2018               60  ...   \n",
       "9902  French Literature           2013         2016              125  ...   \n",
       "\n",
       "                                           full_address  \\\n",
       "8855              3424 SAINT JOHNS AVE PALATKA FL 32177   \n",
       "6333  4259 WEST SWAMP ROAD SUITE 204 DOYLESTOWN PA 1...   \n",
       "9984                520 EIGHTH AVENUE NEW YORK NY 10018   \n",
       "2165  4540 AMBASSADOR CAFFERY PKWY SUITE B220 LAFAYE...   \n",
       "9902  5750 DIVISION STREET, SUITE 206 RIVERSIDE CA 9...   \n",
       "\n",
       "                                      Address        City  State    Zip    id  \\\n",
       "8855                     3424 SAINT JOHNS AVE     PALATKA     FL  32177  7678   \n",
       "6333           4259 WEST SWAMP ROAD SUITE 204  DOYLESTOWN     PA  18902  5817   \n",
       "9984                        520 EIGHTH AVENUE    NEW YORK     NY  10018  1246   \n",
       "2165  4540 AMBASSADOR CAFFERY PKWY SUITE B220   LAFAYETTE     LA  70508  5178   \n",
       "9902          5750 DIVISION STREET, SUITE 206   RIVERSIDE     CA  92506  8949   \n",
       "\n",
       "     start_month end_month       geocode     ses  \n",
       "8855          10         5  121079507002  80-100  \n",
       "6333           9         7  420171045031    0-20  \n",
       "9984          10         5  360610109001    0-20  \n",
       "2165           8         5  220550014011   20-40  \n",
       "9902           8         7  060650312005   20-40  \n",
       "\n",
       "[5 rows x 24 columns]"
      ]
     },
     "execution_count": 20,
     "metadata": {},
     "output_type": "execute_result"
    }
   ],
   "source": [
    "small_data.head()"
   ]
  },
  {
   "cell_type": "markdown",
   "metadata": {},
   "source": [
    "__Check out SES equity concerns__"
   ]
  },
  {
   "cell_type": "code",
   "execution_count": 22,
   "metadata": {},
   "outputs": [],
   "source": [
    "theil_t = equity.Theil_T.from_dataframe(small_data, 'ses', 'earnings_end')"
   ]
  },
  {
   "cell_type": "code",
   "execution_count": 24,
   "metadata": {},
   "outputs": [],
   "source": [
    "theil_t.calculate()"
   ]
  },
  {
   "cell_type": "code",
   "execution_count": 26,
   "metadata": {},
   "outputs": [
    {
     "data": {
      "image/png": "[encoded data removed]",
      "text/plain": [
       "<Figure size 432x288 with 1 Axes>"
      ]
     },
     "execution_count": 26,
     "metadata": {},
     "output_type": "execute_result"
    }
   ],
   "source": [
    "theil_t.viz"
   ]
  },
  {
   "cell_type": "code",
   "execution_count": 25,
   "metadata": {},
   "outputs": [
    {
     "data": {
      "text/plain": [
       "0.2502953149846217"
      ]
     },
     "execution_count": 25,
     "metadata": {},
     "output_type": "execute_result"
    }
   ],
   "source": [
    "theil_t.ratio"
   ]
  },
  {
   "cell_type": "markdown",
   "metadata": {},
   "source": [
    "__Calculate average graduate wage__"
   ]
  },
  {
   "cell_type": "markdown",
   "metadata": {},
   "source": [
    "__Adjust wages for inflation__"
   ]
  },
  {
   "cell_type": "markdown",
   "metadata": {},
   "source": [
    "__Recalculate average graduate wage by program__"
   ]
  },
  {
   "cell_type": "markdown",
   "metadata": {},
   "source": [
    "__Calculate earnings premium__"
   ]
  },
  {
   "cell_type": "markdown",
   "metadata": {},
   "source": [
    "__Calculate employment premium__"
   ]
  },
  {
   "cell_type": "markdown",
   "metadata": {},
   "source": [
    "__Calculate time to completion statistics__"
   ]
  },
  {
   "cell_type": "code",
   "execution_count": null,
   "metadata": {},
   "outputs": [],
   "source": []
  }
 ],
 "metadata": {
  "kernelspec": {
   "display_name": "Python 3",
   "language": "python",
   "name": "python3"
  },
  "language_info": {
   "codemirror_mode": {
    "name": "ipython",
    "version": 3
   },
   "file_extension": ".py",
   "mimetype": "text/x-python",
   "name": "python",
   "nbconvert_exporter": "python",
   "pygments_lexer": "ipython3",
   "version": "3.7.7"
  }
 },
 "nbformat": 4,
 "nbformat_minor": 4
}
