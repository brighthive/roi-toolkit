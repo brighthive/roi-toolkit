{
 "cells": [
  {
   "cell_type": "code",
   "execution_count": 1,
   "metadata": {},
   "outputs": [],
   "source": [
    "from roi import equity, external, utilities, macro, metrics, cost, surveys\n",
    "import pandas as pd\n",
    "import matplotlib.pyplot as plt\n",
    "import numpy as np\n",
    "import seaborn as sns\n",
    "\n",
    "# make figures readable by humans instead of mice\n",
    "plt.rcParams['figure.figsize'] = [8, 4]\n",
    "plt.rcParams['figure.dpi'] = 100"
   ]
  },
  {
   "cell_type": "code",
   "execution_count": 2,
   "metadata": {},
   "outputs": [],
   "source": [
    "bls_api_key = \"c8803d0ba66c4592b8b0eff68ac9ebb0\""
   ]
  },
  {
   "cell_type": "code",
   "execution_count": 3,
   "metadata": {},
   "outputs": [],
   "source": [
    "data = pd.read_csv(\"testing/testing-data/test_microdata.csv\")"
   ]
  },
  {
   "cell_type": "code",
   "execution_count": 4,
   "metadata": {},
   "outputs": [],
   "source": [
    "programs = pd.read_csv(\"testing/testing-data/programs.csv\")"
   ]
  },
  {
   "cell_type": "markdown",
   "metadata": {},
   "source": [
    "__Equity analysis__"
   ]
  },
  {
   "cell_type": "code",
   "execution_count": 7,
   "metadata": {},
   "outputs": [
    {
     "name": "stderr",
     "output_type": "stream",
     "text": [
      "/Users/mattlerner/roi/sbir-roi/roi/equity.py:77: UserWarning: When sample == True, Metric() will use the value of sample to create a random subset of values that it will use for all calculations. This number will be stored as attribute .samplesize.\n",
      "  warnings.warn(\"When sample == True, Metric() will use the value of sample to create a random subset of values that it will use for all calculations. This number will be stored as attribute .samplesize.\")\n",
      "/Users/mattlerner/roi/sbir-roi/roi/equity.py:61: UserWarning: Data passed contains 93 NA values. All equity metrics are calculated by ignoring NA values, in effect dropping them. Please ensure that you have a strategy for dealing with these missing values. If values are not missing at random, e.g. if individuals with missing values have common traits, then ALL METRICS calculated will be biased.\n",
      "  warnings.warn(\"Data passed contains {} NA values. All equity metrics are calculated by ignoring NA values, in effect dropping them. Please ensure that you have a strategy for dealing with these missing values. If values are not missing at random, e.g. if individuals with missing values have common traits, then ALL METRICS calculated will be biased.\".format(self.nans))\n"
     ]
    }
   ],
   "source": [
    "gini = equity.Gini.from_dataframe(data, 'gender', 'earnings_end', sample = 2000)\n",
    "gini.calculate()"
   ]
  },
  {
   "cell_type": "code",
   "execution_count": 8,
   "metadata": {},
   "outputs": [
    {
     "data": {
      "image/png": "[encoded data removed]",
      "text/plain": [
       "<Figure size 800x400 with 1 Axes>"
      ]
     },
     "execution_count": 8,
     "metadata": {},
     "output_type": "execute_result"
    }
   ],
   "source": [
    "gini.viz"
   ]
  },
  {
   "cell_type": "code",
   "execution_count": 9,
   "metadata": {},
   "outputs": [
    {
     "data": {
      "text/plain": [
       "0.29002557817835717"
      ]
     },
     "execution_count": 9,
     "metadata": {},
     "output_type": "execute_result"
    }
   ],
   "source": [
    "gini.ratio"
   ]
  },
  {
   "cell_type": "markdown",
   "metadata": {},
   "source": [
    "__Geocode addresses__"
   ]
  },
  {
   "cell_type": "code",
   "execution_count": 11,
   "metadata": {},
   "outputs": [],
   "source": [
    "small_data = data.sample(30)"
   ]
  },
  {
   "cell_type": "code",
   "execution_count": 14,
   "metadata": {},
   "outputs": [
    {
     "data": {
      "text/html": [
       "<div>\n",
       "<style scoped>\n",
       "    .dataframe tbody tr th:only-of-type {\n",
       "        vertical-align: middle;\n",
       "    }\n",
       "\n",
       "    .dataframe tbody tr th {\n",
       "        vertical-align: top;\n",
       "    }\n",
       "\n",
       "    .dataframe thead th {\n",
       "        text-align: right;\n",
       "    }\n",
       "</style>\n",
       "<table border=\"1\" class=\"dataframe\">\n",
       "  <thead>\n",
       "    <tr style=\"text-align: right;\">\n",
       "      <th></th>\n",
       "      <th>Unnamed: 0</th>\n",
       "      <th>race</th>\n",
       "      <th>gender</th>\n",
       "      <th>earnings_start</th>\n",
       "      <th>earnings_end</th>\n",
       "      <th>age</th>\n",
       "      <th>program</th>\n",
       "      <th>program_start</th>\n",
       "      <th>program_end</th>\n",
       "      <th>education_level</th>\n",
       "      <th>...</th>\n",
       "      <th>state</th>\n",
       "      <th>full_address</th>\n",
       "      <th>Address</th>\n",
       "      <th>City</th>\n",
       "      <th>State</th>\n",
       "      <th>Zip</th>\n",
       "      <th>id</th>\n",
       "      <th>start_month</th>\n",
       "      <th>end_month</th>\n",
       "      <th>geocode</th>\n",
       "    </tr>\n",
       "  </thead>\n",
       "  <tbody>\n",
       "    <tr>\n",
       "      <th>8943</th>\n",
       "      <td>8944</td>\n",
       "      <td>Asian or Pacific Islander</td>\n",
       "      <td>Male</td>\n",
       "      <td>12074.000</td>\n",
       "      <td>30753.600</td>\n",
       "      <td>38</td>\n",
       "      <td>Philosophy</td>\n",
       "      <td>2011</td>\n",
       "      <td>2013</td>\n",
       "      <td>92</td>\n",
       "      <td>...</td>\n",
       "      <td>8</td>\n",
       "      <td>NaN</td>\n",
       "      <td>NaN</td>\n",
       "      <td>NaN</td>\n",
       "      <td>NaN</td>\n",
       "      <td>nan</td>\n",
       "      <td>3654</td>\n",
       "      <td>8</td>\n",
       "      <td>7</td>\n",
       "      <td></td>\n",
       "    </tr>\n",
       "    <tr>\n",
       "      <th>9326</th>\n",
       "      <td>9327</td>\n",
       "      <td>White</td>\n",
       "      <td>Other/unspecified</td>\n",
       "      <td>24200.000</td>\n",
       "      <td>nan</td>\n",
       "      <td>18</td>\n",
       "      <td>Electrical Engineering</td>\n",
       "      <td>2016</td>\n",
       "      <td>2018</td>\n",
       "      <td>111</td>\n",
       "      <td>...</td>\n",
       "      <td>8</td>\n",
       "      <td>NaN</td>\n",
       "      <td>NaN</td>\n",
       "      <td>NaN</td>\n",
       "      <td>NaN</td>\n",
       "      <td>nan</td>\n",
       "      <td>14545</td>\n",
       "      <td>8</td>\n",
       "      <td>6</td>\n",
       "      <td></td>\n",
       "    </tr>\n",
       "    <tr>\n",
       "      <th>7960</th>\n",
       "      <td>7961</td>\n",
       "      <td>Black</td>\n",
       "      <td>Female</td>\n",
       "      <td>27183.000</td>\n",
       "      <td>nan</td>\n",
       "      <td>32</td>\n",
       "      <td>Economics</td>\n",
       "      <td>2014</td>\n",
       "      <td>2020</td>\n",
       "      <td>92</td>\n",
       "      <td>...</td>\n",
       "      <td>8</td>\n",
       "      <td>111 W WASHINGTON ST STE 310 EAST PEORIA IL 61611</td>\n",
       "      <td>111 W WASHINGTON ST STE 310</td>\n",
       "      <td>EAST PEORIA</td>\n",
       "      <td>IL</td>\n",
       "      <td>61611.000</td>\n",
       "      <td>6075</td>\n",
       "      <td>8</td>\n",
       "      <td>5</td>\n",
       "      <td>171790201003</td>\n",
       "    </tr>\n",
       "    <tr>\n",
       "      <th>15063</th>\n",
       "      <td>15064</td>\n",
       "      <td>Black</td>\n",
       "      <td>Other/unspecified</td>\n",
       "      <td>38896.000</td>\n",
       "      <td>46363.845</td>\n",
       "      <td>40</td>\n",
       "      <td>Art History</td>\n",
       "      <td>2018</td>\n",
       "      <td>2021</td>\n",
       "      <td>125</td>\n",
       "      <td>...</td>\n",
       "      <td>8</td>\n",
       "      <td>16000 W 9 MILE RD, SUITE 620 SOUTHFIELD MI 48075</td>\n",
       "      <td>16000 W 9 MILE RD, SUITE 620</td>\n",
       "      <td>SOUTHFIELD</td>\n",
       "      <td>MI</td>\n",
       "      <td>48075.000</td>\n",
       "      <td>4182</td>\n",
       "      <td>10</td>\n",
       "      <td>6</td>\n",
       "      <td>261251621001</td>\n",
       "    </tr>\n",
       "    <tr>\n",
       "      <th>16374</th>\n",
       "      <td>16375</td>\n",
       "      <td>Asian or Pacific Islander</td>\n",
       "      <td>Other/unspecified</td>\n",
       "      <td>23034.000</td>\n",
       "      <td>34476.000</td>\n",
       "      <td>18</td>\n",
       "      <td>Philosophy</td>\n",
       "      <td>2014</td>\n",
       "      <td>2017</td>\n",
       "      <td>125</td>\n",
       "      <td>...</td>\n",
       "      <td>8</td>\n",
       "      <td>NaN</td>\n",
       "      <td>NaN</td>\n",
       "      <td>NaN</td>\n",
       "      <td>NaN</td>\n",
       "      <td>nan</td>\n",
       "      <td>6088</td>\n",
       "      <td>9</td>\n",
       "      <td>6</td>\n",
       "      <td></td>\n",
       "    </tr>\n",
       "  </tbody>\n",
       "</table>\n",
       "<p>5 rows × 23 columns</p>\n",
       "</div>"
      ],
      "text/plain": [
       "       Unnamed: 0                       race             gender  \\\n",
       "8943         8944  Asian or Pacific Islander               Male   \n",
       "9326         9327                      White  Other/unspecified   \n",
       "7960         7961                      Black             Female   \n",
       "15063       15064                      Black  Other/unspecified   \n",
       "16374       16375  Asian or Pacific Islander  Other/unspecified   \n",
       "\n",
       "       earnings_start  earnings_end  age                 program  \\\n",
       "8943        12074.000     30753.600   38              Philosophy   \n",
       "9326        24200.000           nan   18  Electrical Engineering   \n",
       "7960        27183.000           nan   32               Economics   \n",
       "15063       38896.000     46363.845   40             Art History   \n",
       "16374       23034.000     34476.000   18              Philosophy   \n",
       "\n",
       "       program_start  program_end  education_level  ...  state  \\\n",
       "8943            2011         2013               92  ...      8   \n",
       "9326            2016         2018              111  ...      8   \n",
       "7960            2014         2020               92  ...      8   \n",
       "15063           2018         2021              125  ...      8   \n",
       "16374           2014         2017              125  ...      8   \n",
       "\n",
       "                                           full_address  \\\n",
       "8943                                                NaN   \n",
       "9326                                                NaN   \n",
       "7960   111 W WASHINGTON ST STE 310 EAST PEORIA IL 61611   \n",
       "15063  16000 W 9 MILE RD, SUITE 620 SOUTHFIELD MI 48075   \n",
       "16374                                               NaN   \n",
       "\n",
       "                            Address         City State       Zip     id  \\\n",
       "8943                            NaN          NaN   NaN       nan   3654   \n",
       "9326                            NaN          NaN   NaN       nan  14545   \n",
       "7960    111 W WASHINGTON ST STE 310  EAST PEORIA    IL 61611.000   6075   \n",
       "15063  16000 W 9 MILE RD, SUITE 620   SOUTHFIELD    MI 48075.000   4182   \n",
       "16374                           NaN          NaN   NaN       nan   6088   \n",
       "\n",
       "      start_month  end_month       geocode  \n",
       "8943            8          7                \n",
       "9326            8          6                \n",
       "7960            8          5  171790201003  \n",
       "15063          10          6  261251621001  \n",
       "16374           9          6                \n",
       "\n",
       "[5 rows x 23 columns]"
      ]
     },
     "execution_count": 14,
     "metadata": {},
     "output_type": "execute_result"
    }
   ],
   "source": [
    "small_data.head()"
   ]
  },
  {
   "cell_type": "code",
   "execution_count": 13,
   "metadata": {},
   "outputs": [
    {
     "name": "stdout",
     "output_type": "stream",
     "text": [
      "Successfully geocoded 40.0% of 30 passed addresses.\n",
      "Of successfully matched addresses, 66.67% were exact matches\n"
     ]
    }
   ],
   "source": [
    "small_data['geocode'] = external.Census.get_batch_geocode(small_data)"
   ]
  },
  {
   "cell_type": "markdown",
   "metadata": {},
   "source": [
    "__Get SES for each individual with a geocode__"
   ]
  },
  {
   "cell_type": "code",
   "execution_count": 15,
   "metadata": {},
   "outputs": [],
   "source": [
    "adi = equity.ADI()"
   ]
  },
  {
   "cell_type": "code",
   "execution_count": 16,
   "metadata": {},
   "outputs": [
    {
     "name": "stdout",
     "output_type": "stream",
     "text": [
      "Geocode merge: Merged 12 of 30 observations in input dataframe (40.0%)\n"
     ]
    }
   ],
   "source": [
    "small_data['ses'] = adi.get_quintile_for_geocodes_frame(small_data, 'geocode')"
   ]
  },
  {
   "cell_type": "code",
   "execution_count": 17,
   "metadata": {},
   "outputs": [
    {
     "data": {
      "text/html": [
       "<div>\n",
       "<style scoped>\n",
       "    .dataframe tbody tr th:only-of-type {\n",
       "        vertical-align: middle;\n",
       "    }\n",
       "\n",
       "    .dataframe tbody tr th {\n",
       "        vertical-align: top;\n",
       "    }\n",
       "\n",
       "    .dataframe thead th {\n",
       "        text-align: right;\n",
       "    }\n",
       "</style>\n",
       "<table border=\"1\" class=\"dataframe\">\n",
       "  <thead>\n",
       "    <tr style=\"text-align: right;\">\n",
       "      <th></th>\n",
       "      <th>Unnamed: 0</th>\n",
       "      <th>race</th>\n",
       "      <th>gender</th>\n",
       "      <th>earnings_start</th>\n",
       "      <th>earnings_end</th>\n",
       "      <th>age</th>\n",
       "      <th>program</th>\n",
       "      <th>program_start</th>\n",
       "      <th>program_end</th>\n",
       "      <th>education_level</th>\n",
       "      <th>...</th>\n",
       "      <th>full_address</th>\n",
       "      <th>Address</th>\n",
       "      <th>City</th>\n",
       "      <th>State</th>\n",
       "      <th>Zip</th>\n",
       "      <th>id</th>\n",
       "      <th>start_month</th>\n",
       "      <th>end_month</th>\n",
       "      <th>geocode</th>\n",
       "      <th>ses</th>\n",
       "    </tr>\n",
       "  </thead>\n",
       "  <tbody>\n",
       "    <tr>\n",
       "      <th>8943</th>\n",
       "      <td>8944</td>\n",
       "      <td>Asian or Pacific Islander</td>\n",
       "      <td>Male</td>\n",
       "      <td>12074.000</td>\n",
       "      <td>30753.600</td>\n",
       "      <td>38</td>\n",
       "      <td>Philosophy</td>\n",
       "      <td>2011</td>\n",
       "      <td>2013</td>\n",
       "      <td>92</td>\n",
       "      <td>...</td>\n",
       "      <td>NaN</td>\n",
       "      <td>NaN</td>\n",
       "      <td>NaN</td>\n",
       "      <td>NaN</td>\n",
       "      <td>nan</td>\n",
       "      <td>3654</td>\n",
       "      <td>8</td>\n",
       "      <td>7</td>\n",
       "      <td></td>\n",
       "      <td>NaN</td>\n",
       "    </tr>\n",
       "    <tr>\n",
       "      <th>9326</th>\n",
       "      <td>9327</td>\n",
       "      <td>White</td>\n",
       "      <td>Other/unspecified</td>\n",
       "      <td>24200.000</td>\n",
       "      <td>nan</td>\n",
       "      <td>18</td>\n",
       "      <td>Electrical Engineering</td>\n",
       "      <td>2016</td>\n",
       "      <td>2018</td>\n",
       "      <td>111</td>\n",
       "      <td>...</td>\n",
       "      <td>NaN</td>\n",
       "      <td>NaN</td>\n",
       "      <td>NaN</td>\n",
       "      <td>NaN</td>\n",
       "      <td>nan</td>\n",
       "      <td>14545</td>\n",
       "      <td>8</td>\n",
       "      <td>6</td>\n",
       "      <td></td>\n",
       "      <td>NaN</td>\n",
       "    </tr>\n",
       "    <tr>\n",
       "      <th>7960</th>\n",
       "      <td>7961</td>\n",
       "      <td>Black</td>\n",
       "      <td>Female</td>\n",
       "      <td>27183.000</td>\n",
       "      <td>nan</td>\n",
       "      <td>32</td>\n",
       "      <td>Economics</td>\n",
       "      <td>2014</td>\n",
       "      <td>2020</td>\n",
       "      <td>92</td>\n",
       "      <td>...</td>\n",
       "      <td>111 W WASHINGTON ST STE 310 EAST PEORIA IL 61611</td>\n",
       "      <td>111 W WASHINGTON ST STE 310</td>\n",
       "      <td>EAST PEORIA</td>\n",
       "      <td>IL</td>\n",
       "      <td>61611.000</td>\n",
       "      <td>6075</td>\n",
       "      <td>8</td>\n",
       "      <td>5</td>\n",
       "      <td>171790201003</td>\n",
       "      <td>80-100</td>\n",
       "    </tr>\n",
       "    <tr>\n",
       "      <th>15063</th>\n",
       "      <td>15064</td>\n",
       "      <td>Black</td>\n",
       "      <td>Other/unspecified</td>\n",
       "      <td>38896.000</td>\n",
       "      <td>46363.845</td>\n",
       "      <td>40</td>\n",
       "      <td>Art History</td>\n",
       "      <td>2018</td>\n",
       "      <td>2021</td>\n",
       "      <td>125</td>\n",
       "      <td>...</td>\n",
       "      <td>16000 W 9 MILE RD, SUITE 620 SOUTHFIELD MI 48075</td>\n",
       "      <td>16000 W 9 MILE RD, SUITE 620</td>\n",
       "      <td>SOUTHFIELD</td>\n",
       "      <td>MI</td>\n",
       "      <td>48075.000</td>\n",
       "      <td>4182</td>\n",
       "      <td>10</td>\n",
       "      <td>6</td>\n",
       "      <td>261251621001</td>\n",
       "      <td>80-100</td>\n",
       "    </tr>\n",
       "    <tr>\n",
       "      <th>16374</th>\n",
       "      <td>16375</td>\n",
       "      <td>Asian or Pacific Islander</td>\n",
       "      <td>Other/unspecified</td>\n",
       "      <td>23034.000</td>\n",
       "      <td>34476.000</td>\n",
       "      <td>18</td>\n",
       "      <td>Philosophy</td>\n",
       "      <td>2014</td>\n",
       "      <td>2017</td>\n",
       "      <td>125</td>\n",
       "      <td>...</td>\n",
       "      <td>NaN</td>\n",
       "      <td>NaN</td>\n",
       "      <td>NaN</td>\n",
       "      <td>NaN</td>\n",
       "      <td>nan</td>\n",
       "      <td>6088</td>\n",
       "      <td>9</td>\n",
       "      <td>6</td>\n",
       "      <td></td>\n",
       "      <td>NaN</td>\n",
       "    </tr>\n",
       "  </tbody>\n",
       "</table>\n",
       "<p>5 rows × 24 columns</p>\n",
       "</div>"
      ],
      "text/plain": [
       "       Unnamed: 0                       race             gender  \\\n",
       "8943         8944  Asian or Pacific Islander               Male   \n",
       "9326         9327                      White  Other/unspecified   \n",
       "7960         7961                      Black             Female   \n",
       "15063       15064                      Black  Other/unspecified   \n",
       "16374       16375  Asian or Pacific Islander  Other/unspecified   \n",
       "\n",
       "       earnings_start  earnings_end  age                 program  \\\n",
       "8943        12074.000     30753.600   38              Philosophy   \n",
       "9326        24200.000           nan   18  Electrical Engineering   \n",
       "7960        27183.000           nan   32               Economics   \n",
       "15063       38896.000     46363.845   40             Art History   \n",
       "16374       23034.000     34476.000   18              Philosophy   \n",
       "\n",
       "       program_start  program_end  education_level  ...  \\\n",
       "8943            2011         2013               92  ...   \n",
       "9326            2016         2018              111  ...   \n",
       "7960            2014         2020               92  ...   \n",
       "15063           2018         2021              125  ...   \n",
       "16374           2014         2017              125  ...   \n",
       "\n",
       "                                           full_address  \\\n",
       "8943                                                NaN   \n",
       "9326                                                NaN   \n",
       "7960   111 W WASHINGTON ST STE 310 EAST PEORIA IL 61611   \n",
       "15063  16000 W 9 MILE RD, SUITE 620 SOUTHFIELD MI 48075   \n",
       "16374                                               NaN   \n",
       "\n",
       "                            Address         City  State       Zip     id  \\\n",
       "8943                            NaN          NaN    NaN       nan   3654   \n",
       "9326                            NaN          NaN    NaN       nan  14545   \n",
       "7960    111 W WASHINGTON ST STE 310  EAST PEORIA     IL 61611.000   6075   \n",
       "15063  16000 W 9 MILE RD, SUITE 620   SOUTHFIELD     MI 48075.000   4182   \n",
       "16374                           NaN          NaN    NaN       nan   6088   \n",
       "\n",
       "      start_month end_month       geocode     ses  \n",
       "8943            8         7                   NaN  \n",
       "9326            8         6                   NaN  \n",
       "7960            8         5  171790201003  80-100  \n",
       "15063          10         6  261251621001  80-100  \n",
       "16374           9         6                   NaN  \n",
       "\n",
       "[5 rows x 24 columns]"
      ]
     },
     "execution_count": 17,
     "metadata": {},
     "output_type": "execute_result"
    }
   ],
   "source": [
    "small_data.head()"
   ]
  },
  {
   "cell_type": "markdown",
   "metadata": {},
   "source": [
    "__Check out SES equity concerns__"
   ]
  },
  {
   "cell_type": "code",
   "execution_count": 18,
   "metadata": {},
   "outputs": [
    {
     "name": "stderr",
     "output_type": "stream",
     "text": [
      "/Users/mattlerner/roi/sbir-roi/roi/equity.py:61: UserWarning: Data passed contains 2 NA values. All equity metrics are calculated by ignoring NA values, in effect dropping them. Please ensure that you have a strategy for dealing with these missing values. If values are not missing at random, e.g. if individuals with missing values have common traits, then ALL METRICS calculated will be biased.\n",
      "  warnings.warn(\"Data passed contains {} NA values. All equity metrics are calculated by ignoring NA values, in effect dropping them. Please ensure that you have a strategy for dealing with these missing values. If values are not missing at random, e.g. if individuals with missing values have common traits, then ALL METRICS calculated will be biased.\".format(self.nans))\n"
     ]
    }
   ],
   "source": [
    "theil_t = equity.Theil_T.from_dataframe(small_data, 'ses', 'earnings_end')"
   ]
  },
  {
   "cell_type": "code",
   "execution_count": 19,
   "metadata": {},
   "outputs": [],
   "source": [
    "theil_t.calculate()"
   ]
  },
  {
   "cell_type": "code",
   "execution_count": 20,
   "metadata": {},
   "outputs": [
    {
     "data": {
      "image/png": "[encoded data removed]",
      "text/plain": [
       "<Figure size 800x400 with 1 Axes>"
      ]
     },
     "execution_count": 20,
     "metadata": {},
     "output_type": "execute_result"
    }
   ],
   "source": [
    "theil_t.viz"
   ]
  },
  {
   "cell_type": "code",
   "execution_count": 22,
   "metadata": {},
   "outputs": [
    {
     "data": {
      "text/plain": [
       "-0.09716187149203633"
      ]
     },
     "execution_count": 22,
     "metadata": {},
     "output_type": "execute_result"
    }
   ],
   "source": [
    "theil_t.ratio"
   ]
  },
  {
   "cell_type": "markdown",
   "metadata": {},
   "source": [
    "__Calculate graduate wage summary statistics__"
   ]
  },
  {
   "cell_type": "code",
   "execution_count": 23,
   "metadata": {},
   "outputs": [
    {
     "data": {
      "text/plain": [
       "<matplotlib.lines.Line2D at 0x7fc859a85310>"
      ]
     },
     "execution_count": 23,
     "metadata": {},
     "output_type": "execute_result"
    },
    {
     "data": {
      "image/png": "[encoded data removed]",
      "text/plain": [
       "<Figure size 800x400 with 1 Axes>"
      ]
     },
     "metadata": {
      "needs_background": "light"
     },
     "output_type": "display_data"
    }
   ],
   "source": [
    "fig, ax = plt.subplots()\n",
    "data['earnings_end'].hist(ax=ax, edgecolor=\"red\", fc=(0, 0, 0, 0.5), bins=30)\n",
    "plt.axvline(x=np.mean(data['earnings_end']))"
   ]
  },
  {
   "cell_type": "code",
   "execution_count": 24,
   "metadata": {},
   "outputs": [
    {
     "data": {
      "text/html": [
       "<div>\n",
       "<style scoped>\n",
       "    .dataframe tbody tr th:only-of-type {\n",
       "        vertical-align: middle;\n",
       "    }\n",
       "\n",
       "    .dataframe tbody tr th {\n",
       "        vertical-align: top;\n",
       "    }\n",
       "\n",
       "    .dataframe thead th {\n",
       "        text-align: right;\n",
       "    }\n",
       "</style>\n",
       "<table border=\"1\" class=\"dataframe\">\n",
       "  <thead>\n",
       "    <tr style=\"text-align: right;\">\n",
       "      <th></th>\n",
       "      <th>program</th>\n",
       "      <th>n</th>\n",
       "      <th>mean</th>\n",
       "      <th>median</th>\n",
       "      <th>sd</th>\n",
       "      <th>min</th>\n",
       "      <th>max</th>\n",
       "    </tr>\n",
       "  </thead>\n",
       "  <tbody>\n",
       "    <tr>\n",
       "      <th>0</th>\n",
       "      <td>Anthropology</td>\n",
       "      <td>2288.000</td>\n",
       "      <td>31540.395</td>\n",
       "      <td>31381.600</td>\n",
       "      <td>6542.271</td>\n",
       "      <td>2817.240</td>\n",
       "      <td>63547.440</td>\n",
       "    </tr>\n",
       "    <tr>\n",
       "      <th>1</th>\n",
       "      <td>Art History</td>\n",
       "      <td>2370.000</td>\n",
       "      <td>42312.370</td>\n",
       "      <td>41632.800</td>\n",
       "      <td>9460.368</td>\n",
       "      <td>4287.800</td>\n",
       "      <td>75483.430</td>\n",
       "    </tr>\n",
       "    <tr>\n",
       "      <th>2</th>\n",
       "      <td>Biology</td>\n",
       "      <td>2404.000</td>\n",
       "      <td>35848.828</td>\n",
       "      <td>35303.220</td>\n",
       "      <td>7838.359</td>\n",
       "      <td>6602.715</td>\n",
       "      <td>64873.710</td>\n",
       "    </tr>\n",
       "    <tr>\n",
       "      <th>3</th>\n",
       "      <td>Economics</td>\n",
       "      <td>2327.000</td>\n",
       "      <td>54705.240</td>\n",
       "      <td>54158.720</td>\n",
       "      <td>11048.693</td>\n",
       "      <td>14172.620</td>\n",
       "      <td>102118.940</td>\n",
       "    </tr>\n",
       "    <tr>\n",
       "      <th>4</th>\n",
       "      <td>Electrical Engineering</td>\n",
       "      <td>2386.000</td>\n",
       "      <td>65698.580</td>\n",
       "      <td>64849.900</td>\n",
       "      <td>14206.740</td>\n",
       "      <td>20139.900</td>\n",
       "      <td>135887.290</td>\n",
       "    </tr>\n",
       "    <tr>\n",
       "      <th>5</th>\n",
       "      <td>French Literature</td>\n",
       "      <td>2339.000</td>\n",
       "      <td>27875.583</td>\n",
       "      <td>27687.748</td>\n",
       "      <td>5501.041</td>\n",
       "      <td>6088.635</td>\n",
       "      <td>50285.620</td>\n",
       "    </tr>\n",
       "    <tr>\n",
       "      <th>6</th>\n",
       "      <td>Philosophy</td>\n",
       "      <td>2297.000</td>\n",
       "      <td>46128.218</td>\n",
       "      <td>45486.000</td>\n",
       "      <td>10275.570</td>\n",
       "      <td>14191.200</td>\n",
       "      <td>96564.600</td>\n",
       "    </tr>\n",
       "  </tbody>\n",
       "</table>\n",
       "</div>"
      ],
      "text/plain": [
       "                  program        n      mean    median        sd       min  \\\n",
       "0            Anthropology 2288.000 31540.395 31381.600  6542.271  2817.240   \n",
       "1             Art History 2370.000 42312.370 41632.800  9460.368  4287.800   \n",
       "2                 Biology 2404.000 35848.828 35303.220  7838.359  6602.715   \n",
       "3               Economics 2327.000 54705.240 54158.720 11048.693 14172.620   \n",
       "4  Electrical Engineering 2386.000 65698.580 64849.900 14206.740 20139.900   \n",
       "5       French Literature 2339.000 27875.583 27687.748  5501.041  6088.635   \n",
       "6              Philosophy 2297.000 46128.218 45486.000 10275.570 14191.200   \n",
       "\n",
       "         max  \n",
       "0  63547.440  \n",
       "1  75483.430  \n",
       "2  64873.710  \n",
       "3 102118.940  \n",
       "4 135887.290  \n",
       "5  50285.620  \n",
       "6  96564.600  "
      ]
     },
     "execution_count": 24,
     "metadata": {},
     "output_type": "execute_result"
    }
   ],
   "source": [
    "utilities.multiple_describe(data, 'program', 'earnings_end')"
   ]
  },
  {
   "cell_type": "markdown",
   "metadata": {},
   "source": [
    "__Adjust wages for inflation__"
   ]
  },
  {
   "cell_type": "code",
   "execution_count": 25,
   "metadata": {},
   "outputs": [
    {
     "name": "stdout",
     "output_type": "stream",
     "text": [
      "Latest CPI year in provided BLS data is 2018.0: All dollars being adjusted to 2018.0 dollars.\n",
      "Years in provided dataframe for which there is no data in the provided CPI frame:\n",
      "\n",
      "{2019, 2020, 2021, 2022, 2023, 2024, 2025, 2026, 2027, 2028}\n"
     ]
    },
    {
     "name": "stderr",
     "output_type": "stream",
     "text": [
      "/Users/mattlerner/roi/sbir-roi/roi/macro.py:58: UserWarning: Value column earnings_end contains 821 NA values (5.0%) of total.\n",
      "  warnings.warn(\"Value column {} contains {} NA values ({}%) of total.\".format(value_column_name, value_nas, round(100*value_nas/len(frame_),2)))\n",
      "/Users/mattlerner/roi/sbir-roi/roi/macro.py:71: UserWarning: 5515 rows in column program_end could not be merged with provided CPI data. Please note that (1) the BLS API provides only up to 20 years of data; if you want to use more, you will have to manually combine multiple queries. (2) We do not recommend using more than ten years of historical data in calculations.\n",
      "  warnings.warn(\"{} rows in column {} could not be merged with provided CPI data. Please note that (1) the BLS API provides only up to 20 years of data; if you want to use more, you will have to manually combine multiple queries. (2) We do not recommend using more than ten years of historical data in calculations.\".format(unmerged_len, year_column_name))\n"
     ]
    }
   ],
   "source": [
    "bls = macro.BLS_Ops()\n",
    "data['earnings_end_adjusted'] = bls.adjust_to_current_dollars(data, 'program_end', 'earnings_end')"
   ]
  },
  {
   "cell_type": "code",
   "execution_count": 26,
   "metadata": {},
   "outputs": [
    {
     "data": {
      "text/html": [
       "<div>\n",
       "<style scoped>\n",
       "    .dataframe tbody tr th:only-of-type {\n",
       "        vertical-align: middle;\n",
       "    }\n",
       "\n",
       "    .dataframe tbody tr th {\n",
       "        vertical-align: top;\n",
       "    }\n",
       "\n",
       "    .dataframe thead th {\n",
       "        text-align: right;\n",
       "    }\n",
       "</style>\n",
       "<table border=\"1\" class=\"dataframe\">\n",
       "  <thead>\n",
       "    <tr style=\"text-align: right;\">\n",
       "      <th></th>\n",
       "      <th>program_end</th>\n",
       "      <th>earnings_end</th>\n",
       "      <th>earnings_end_adjusted</th>\n",
       "    </tr>\n",
       "  </thead>\n",
       "  <tbody>\n",
       "    <tr>\n",
       "      <th>13757</th>\n",
       "      <td>2016</td>\n",
       "      <td>40511.680</td>\n",
       "      <td>42387.498</td>\n",
       "    </tr>\n",
       "    <tr>\n",
       "      <th>11050</th>\n",
       "      <td>2018</td>\n",
       "      <td>66274.500</td>\n",
       "      <td>66274.500</td>\n",
       "    </tr>\n",
       "    <tr>\n",
       "      <th>392</th>\n",
       "      <td>2018</td>\n",
       "      <td>46280.080</td>\n",
       "      <td>46280.080</td>\n",
       "    </tr>\n",
       "    <tr>\n",
       "      <th>8341</th>\n",
       "      <td>2013</td>\n",
       "      <td>30002.960</td>\n",
       "      <td>32340.542</td>\n",
       "    </tr>\n",
       "    <tr>\n",
       "      <th>10155</th>\n",
       "      <td>2018</td>\n",
       "      <td>17353.600</td>\n",
       "      <td>17353.600</td>\n",
       "    </tr>\n",
       "    <tr>\n",
       "      <th>12838</th>\n",
       "      <td>2020</td>\n",
       "      <td>71899.800</td>\n",
       "      <td>nan</td>\n",
       "    </tr>\n",
       "    <tr>\n",
       "      <th>12863</th>\n",
       "      <td>2016</td>\n",
       "      <td>57573.560</td>\n",
       "      <td>60239.396</td>\n",
       "    </tr>\n",
       "    <tr>\n",
       "      <th>7973</th>\n",
       "      <td>2014</td>\n",
       "      <td>56773.640</td>\n",
       "      <td>60224.073</td>\n",
       "    </tr>\n",
       "    <tr>\n",
       "      <th>15744</th>\n",
       "      <td>2015</td>\n",
       "      <td>29317.860</td>\n",
       "      <td>31062.033</td>\n",
       "    </tr>\n",
       "    <tr>\n",
       "      <th>14356</th>\n",
       "      <td>2018</td>\n",
       "      <td>66786.000</td>\n",
       "      <td>66786.000</td>\n",
       "    </tr>\n",
       "  </tbody>\n",
       "</table>\n",
       "</div>"
      ],
      "text/plain": [
       "       program_end  earnings_end  earnings_end_adjusted\n",
       "13757         2016     40511.680              42387.498\n",
       "11050         2018     66274.500              66274.500\n",
       "392           2018     46280.080              46280.080\n",
       "8341          2013     30002.960              32340.542\n",
       "10155         2018     17353.600              17353.600\n",
       "12838         2020     71899.800                    nan\n",
       "12863         2016     57573.560              60239.396\n",
       "7973          2014     56773.640              60224.073\n",
       "15744         2015     29317.860              31062.033\n",
       "14356         2018     66786.000              66786.000"
      ]
     },
     "execution_count": 26,
     "metadata": {},
     "output_type": "execute_result"
    }
   ],
   "source": [
    "data[['program_end','earnings_end','earnings_end_adjusted']].sample(10)"
   ]
  },
  {
   "cell_type": "markdown",
   "metadata": {},
   "source": [
    "__Recalculate average graduate wage by program__"
   ]
  },
  {
   "cell_type": "code",
   "execution_count": 27,
   "metadata": {},
   "outputs": [
    {
     "data": {
      "text/plain": [
       "<matplotlib.lines.Line2D at 0x7fc85af30f50>"
      ]
     },
     "execution_count": 27,
     "metadata": {},
     "output_type": "execute_result"
    },
    {
     "data": {
      "image/png": "[encoded data removed]",
      "text/plain": [
       "<Figure size 800x400 with 1 Axes>"
      ]
     },
     "metadata": {
      "needs_background": "light"
     },
     "output_type": "display_data"
    }
   ],
   "source": [
    "fig, ax = plt.subplots()\n",
    "\n",
    "# unadjusted\n",
    "data['earnings_end'].hist(ax=ax, edgecolor=\"red\", fc=(0, 0, 0, 0), bins=30)\n",
    "plt.axvline(x=np.mean(data['earnings_end']), color=\"red\", linestyle=\":\")\n",
    "\n",
    "# adjusted\n",
    "data['earnings_end_adjusted'].hist(ax=ax, edgecolor=\"blue\", fc=(0, 0, 0, 0), bins=30)\n",
    "plt.axvline(x=np.mean(data['earnings_end_adjusted']), color=\"blue\", linestyle=\":\")"
   ]
  },
  {
   "cell_type": "markdown",
   "metadata": {},
   "source": [
    "__Calculate earnings premium - Simple way__"
   ]
  },
  {
   "cell_type": "code",
   "execution_count": 28,
   "metadata": {},
   "outputs": [],
   "source": [
    "data['earnings_change'] = data['earnings_end'] - data['earnings_start']"
   ]
  },
  {
   "cell_type": "code",
   "execution_count": 29,
   "metadata": {},
   "outputs": [
    {
     "data": {
      "text/html": [
       "<div>\n",
       "<style scoped>\n",
       "    .dataframe tbody tr th:only-of-type {\n",
       "        vertical-align: middle;\n",
       "    }\n",
       "\n",
       "    .dataframe tbody tr th {\n",
       "        vertical-align: top;\n",
       "    }\n",
       "\n",
       "    .dataframe thead th {\n",
       "        text-align: right;\n",
       "    }\n",
       "</style>\n",
       "<table border=\"1\" class=\"dataframe\">\n",
       "  <thead>\n",
       "    <tr style=\"text-align: right;\">\n",
       "      <th></th>\n",
       "      <th>program</th>\n",
       "      <th>n</th>\n",
       "      <th>mean</th>\n",
       "      <th>median</th>\n",
       "      <th>sd</th>\n",
       "      <th>min</th>\n",
       "      <th>max</th>\n",
       "    </tr>\n",
       "  </thead>\n",
       "  <tbody>\n",
       "    <tr>\n",
       "      <th>0</th>\n",
       "      <td>Anthropology</td>\n",
       "      <td>2288.000</td>\n",
       "      <td>1492.413</td>\n",
       "      <td>1748.180</td>\n",
       "      <td>7514.140</td>\n",
       "      <td>-46000.200</td>\n",
       "      <td>41005.440</td>\n",
       "    </tr>\n",
       "    <tr>\n",
       "      <th>1</th>\n",
       "      <td>Art History</td>\n",
       "      <td>2370.000</td>\n",
       "      <td>13117.589</td>\n",
       "      <td>13010.150</td>\n",
       "      <td>8743.259</td>\n",
       "      <td>-49156.200</td>\n",
       "      <td>54181.100</td>\n",
       "    </tr>\n",
       "    <tr>\n",
       "      <th>2</th>\n",
       "      <td>Biology</td>\n",
       "      <td>2404.000</td>\n",
       "      <td>5538.174</td>\n",
       "      <td>5503.500</td>\n",
       "      <td>7822.369</td>\n",
       "      <td>-28674.700</td>\n",
       "      <td>54911.950</td>\n",
       "    </tr>\n",
       "    <tr>\n",
       "      <th>3</th>\n",
       "      <td>Economics</td>\n",
       "      <td>2327.000</td>\n",
       "      <td>24685.001</td>\n",
       "      <td>24170.200</td>\n",
       "      <td>10529.107</td>\n",
       "      <td>-15061.260</td>\n",
       "      <td>77500.780</td>\n",
       "    </tr>\n",
       "    <tr>\n",
       "      <th>4</th>\n",
       "      <td>Electrical Engineering</td>\n",
       "      <td>2386.000</td>\n",
       "      <td>36063.777</td>\n",
       "      <td>35277.400</td>\n",
       "      <td>13514.743</td>\n",
       "      <td>-21673.600</td>\n",
       "      <td>112955.900</td>\n",
       "    </tr>\n",
       "    <tr>\n",
       "      <th>5</th>\n",
       "      <td>French Literature</td>\n",
       "      <td>2339.000</td>\n",
       "      <td>-2656.493</td>\n",
       "      <td>-2261.950</td>\n",
       "      <td>6824.586</td>\n",
       "      <td>-62843.250</td>\n",
       "      <td>36069.590</td>\n",
       "    </tr>\n",
       "    <tr>\n",
       "      <th>6</th>\n",
       "      <td>Philosophy</td>\n",
       "      <td>2297.000</td>\n",
       "      <td>16914.652</td>\n",
       "      <td>16949.000</td>\n",
       "      <td>9296.036</td>\n",
       "      <td>-22386.120</td>\n",
       "      <td>61526.600</td>\n",
       "    </tr>\n",
       "  </tbody>\n",
       "</table>\n",
       "</div>"
      ],
      "text/plain": [
       "                  program        n      mean    median        sd        min  \\\n",
       "0            Anthropology 2288.000  1492.413  1748.180  7514.140 -46000.200   \n",
       "1             Art History 2370.000 13117.589 13010.150  8743.259 -49156.200   \n",
       "2                 Biology 2404.000  5538.174  5503.500  7822.369 -28674.700   \n",
       "3               Economics 2327.000 24685.001 24170.200 10529.107 -15061.260   \n",
       "4  Electrical Engineering 2386.000 36063.777 35277.400 13514.743 -21673.600   \n",
       "5       French Literature 2339.000 -2656.493 -2261.950  6824.586 -62843.250   \n",
       "6              Philosophy 2297.000 16914.652 16949.000  9296.036 -22386.120   \n",
       "\n",
       "         max  \n",
       "0  41005.440  \n",
       "1  54181.100  \n",
       "2  54911.950  \n",
       "3  77500.780  \n",
       "4 112955.900  \n",
       "5  36069.590  \n",
       "6  61526.600  "
      ]
     },
     "execution_count": 29,
     "metadata": {},
     "output_type": "execute_result"
    }
   ],
   "source": [
    "utilities.multiple_describe(data, 'program', 'earnings_change')"
   ]
  },
  {
   "cell_type": "code",
   "execution_count": 30,
   "metadata": {},
   "outputs": [
    {
     "data": {
      "text/plain": [
       "<matplotlib.axes._subplots.AxesSubplot at 0x7fc85a92d950>"
      ]
     },
     "execution_count": 30,
     "metadata": {},
     "output_type": "execute_result"
    },
    {
     "data": {
      "image/png": "[encoded data removed]",
      "text/plain": [
       "<Figure size 800x400 with 1 Axes>"
      ]
     },
     "metadata": {
      "needs_background": "light"
     },
     "output_type": "display_data"
    }
   ],
   "source": [
    "sns.barplot(x=\"earnings_change\", y=\"program\", data=data, estimator=np.mean)"
   ]
  },
  {
   "cell_type": "markdown",
   "metadata": {},
   "source": [
    "__Calculate earnings premium - Fancy way__"
   ]
  },
  {
   "cell_type": "code",
   "execution_count": 33,
   "metadata": {},
   "outputs": [],
   "source": [
    "data['year_month_entry'] = data['program_start'].astype(str) + '-' + data['start_month'].astype(str).str.zfill(2)\n",
    "data['year_month_exit'] = data['program_end'].astype(str) + '-' + data['end_month'].astype(str).str.zfill(2)"
   ]
  },
  {
   "cell_type": "code",
   "execution_count": 34,
   "metadata": {},
   "outputs": [],
   "source": [
    "data['state_fips'] = utilities.State_To_FIPS_series(data['State'])"
   ]
  },
  {
   "cell_type": "code",
   "execution_count": 35,
   "metadata": {},
   "outputs": [],
   "source": [
    "data['macro_wage_change'] = bls.wage_change(data, 'state_fips','year_month_entry','year_month_exit')"
   ]
  },
  {
   "cell_type": "code",
   "execution_count": 36,
   "metadata": {},
   "outputs": [
    {
     "data": {
      "text/html": [
       "<div>\n",
       "<style scoped>\n",
       "    .dataframe tbody tr th:only-of-type {\n",
       "        vertical-align: middle;\n",
       "    }\n",
       "\n",
       "    .dataframe tbody tr th {\n",
       "        vertical-align: top;\n",
       "    }\n",
       "\n",
       "    .dataframe thead th {\n",
       "        text-align: right;\n",
       "    }\n",
       "</style>\n",
       "<table border=\"1\" class=\"dataframe\">\n",
       "  <thead>\n",
       "    <tr style=\"text-align: right;\">\n",
       "      <th></th>\n",
       "      <th>Unnamed: 0</th>\n",
       "      <th>race</th>\n",
       "      <th>gender</th>\n",
       "      <th>earnings_start</th>\n",
       "      <th>earnings_end</th>\n",
       "      <th>age</th>\n",
       "      <th>program</th>\n",
       "      <th>program_start</th>\n",
       "      <th>program_end</th>\n",
       "      <th>education_level</th>\n",
       "      <th>...</th>\n",
       "      <th>Zip</th>\n",
       "      <th>id</th>\n",
       "      <th>start_month</th>\n",
       "      <th>end_month</th>\n",
       "      <th>earnings_end_adjusted</th>\n",
       "      <th>earnings_change</th>\n",
       "      <th>year_month_entry</th>\n",
       "      <th>year_month_exit</th>\n",
       "      <th>macro_wage_change</th>\n",
       "      <th>state_fips</th>\n",
       "    </tr>\n",
       "  </thead>\n",
       "  <tbody>\n",
       "    <tr>\n",
       "      <th>7519</th>\n",
       "      <td>7520</td>\n",
       "      <td>Other</td>\n",
       "      <td>Other/unspecified</td>\n",
       "      <td>40559.000</td>\n",
       "      <td>78333.450</td>\n",
       "      <td>39</td>\n",
       "      <td>Electrical Engineering</td>\n",
       "      <td>2014</td>\n",
       "      <td>2020</td>\n",
       "      <td>92</td>\n",
       "      <td>...</td>\n",
       "      <td>33126.000</td>\n",
       "      <td>16243</td>\n",
       "      <td>8</td>\n",
       "      <td>7</td>\n",
       "      <td>nan</td>\n",
       "      <td>37774.450</td>\n",
       "      <td>2014-08</td>\n",
       "      <td>2020-07</td>\n",
       "      <td>nan</td>\n",
       "      <td>12</td>\n",
       "    </tr>\n",
       "    <tr>\n",
       "      <th>14350</th>\n",
       "      <td>14351</td>\n",
       "      <td>White</td>\n",
       "      <td>Male</td>\n",
       "      <td>31459.000</td>\n",
       "      <td>nan</td>\n",
       "      <td>26</td>\n",
       "      <td>Philosophy</td>\n",
       "      <td>2013</td>\n",
       "      <td>2016</td>\n",
       "      <td>124</td>\n",
       "      <td>...</td>\n",
       "      <td>94030.000</td>\n",
       "      <td>9468</td>\n",
       "      <td>8</td>\n",
       "      <td>7</td>\n",
       "      <td>nan</td>\n",
       "      <td>nan</td>\n",
       "      <td>2013-08</td>\n",
       "      <td>2016-07</td>\n",
       "      <td>3516.240</td>\n",
       "      <td>06</td>\n",
       "    </tr>\n",
       "    <tr>\n",
       "      <th>16331</th>\n",
       "      <td>16332</td>\n",
       "      <td>Other</td>\n",
       "      <td>Female</td>\n",
       "      <td>26273.000</td>\n",
       "      <td>61614.960</td>\n",
       "      <td>42</td>\n",
       "      <td>Philosophy</td>\n",
       "      <td>2015</td>\n",
       "      <td>2019</td>\n",
       "      <td>125</td>\n",
       "      <td>...</td>\n",
       "      <td>45237.000</td>\n",
       "      <td>7939</td>\n",
       "      <td>9</td>\n",
       "      <td>7</td>\n",
       "      <td>nan</td>\n",
       "      <td>35341.960</td>\n",
       "      <td>2015-09</td>\n",
       "      <td>2019-07</td>\n",
       "      <td>3965.000</td>\n",
       "      <td>39</td>\n",
       "    </tr>\n",
       "    <tr>\n",
       "      <th>15188</th>\n",
       "      <td>15189</td>\n",
       "      <td>Other</td>\n",
       "      <td>Male</td>\n",
       "      <td>36459.000</td>\n",
       "      <td>87031.000</td>\n",
       "      <td>48</td>\n",
       "      <td>Economics</td>\n",
       "      <td>2010</td>\n",
       "      <td>2015</td>\n",
       "      <td>125</td>\n",
       "      <td>...</td>\n",
       "      <td>nan</td>\n",
       "      <td>6094</td>\n",
       "      <td>10</td>\n",
       "      <td>6</td>\n",
       "      <td>92208.633</td>\n",
       "      <td>50572.000</td>\n",
       "      <td>2010-10</td>\n",
       "      <td>2015-06</td>\n",
       "      <td>nan</td>\n",
       "      <td>nan</td>\n",
       "    </tr>\n",
       "    <tr>\n",
       "      <th>5395</th>\n",
       "      <td>5396</td>\n",
       "      <td>Other</td>\n",
       "      <td>Male</td>\n",
       "      <td>27578.000</td>\n",
       "      <td>49377.600</td>\n",
       "      <td>35</td>\n",
       "      <td>Philosophy</td>\n",
       "      <td>2013</td>\n",
       "      <td>2017</td>\n",
       "      <td>73</td>\n",
       "      <td>...</td>\n",
       "      <td>75090.000</td>\n",
       "      <td>5251</td>\n",
       "      <td>10</td>\n",
       "      <td>6</td>\n",
       "      <td>50582.237</td>\n",
       "      <td>21799.600</td>\n",
       "      <td>2013-10</td>\n",
       "      <td>2017-06</td>\n",
       "      <td>3437.720</td>\n",
       "      <td>48</td>\n",
       "    </tr>\n",
       "    <tr>\n",
       "      <th>15880</th>\n",
       "      <td>15881</td>\n",
       "      <td>Asian or Pacific Islander</td>\n",
       "      <td>Other/unspecified</td>\n",
       "      <td>19702.000</td>\n",
       "      <td>23064.750</td>\n",
       "      <td>37</td>\n",
       "      <td>Biology</td>\n",
       "      <td>2012</td>\n",
       "      <td>2012</td>\n",
       "      <td>125</td>\n",
       "      <td>...</td>\n",
       "      <td>nan</td>\n",
       "      <td>15618</td>\n",
       "      <td>9</td>\n",
       "      <td>6</td>\n",
       "      <td>25226.230</td>\n",
       "      <td>3362.750</td>\n",
       "      <td>2012-09</td>\n",
       "      <td>2012-06</td>\n",
       "      <td>nan</td>\n",
       "      <td>nan</td>\n",
       "    </tr>\n",
       "    <tr>\n",
       "      <th>4078</th>\n",
       "      <td>4079</td>\n",
       "      <td>White</td>\n",
       "      <td>Female</td>\n",
       "      <td>23642.000</td>\n",
       "      <td>36767.060</td>\n",
       "      <td>35</td>\n",
       "      <td>Art History</td>\n",
       "      <td>2018</td>\n",
       "      <td>2020</td>\n",
       "      <td>73</td>\n",
       "      <td>...</td>\n",
       "      <td>81230.000</td>\n",
       "      <td>16015</td>\n",
       "      <td>8</td>\n",
       "      <td>5</td>\n",
       "      <td>nan</td>\n",
       "      <td>13125.060</td>\n",
       "      <td>2018-08</td>\n",
       "      <td>2020-05</td>\n",
       "      <td>nan</td>\n",
       "      <td>08</td>\n",
       "    </tr>\n",
       "    <tr>\n",
       "      <th>9301</th>\n",
       "      <td>9302</td>\n",
       "      <td>Other</td>\n",
       "      <td>Female</td>\n",
       "      <td>34973.000</td>\n",
       "      <td>78386.660</td>\n",
       "      <td>35</td>\n",
       "      <td>Electrical Engineering</td>\n",
       "      <td>2013</td>\n",
       "      <td>2016</td>\n",
       "      <td>111</td>\n",
       "      <td>...</td>\n",
       "      <td>44131.000</td>\n",
       "      <td>6860</td>\n",
       "      <td>9</td>\n",
       "      <td>7</td>\n",
       "      <td>82016.208</td>\n",
       "      <td>43413.660</td>\n",
       "      <td>2013-09</td>\n",
       "      <td>2016-07</td>\n",
       "      <td>1385.800</td>\n",
       "      <td>39</td>\n",
       "    </tr>\n",
       "    <tr>\n",
       "      <th>14151</th>\n",
       "      <td>14152</td>\n",
       "      <td>White</td>\n",
       "      <td>Female</td>\n",
       "      <td>16829.000</td>\n",
       "      <td>30236.360</td>\n",
       "      <td>38</td>\n",
       "      <td>French Literature</td>\n",
       "      <td>2014</td>\n",
       "      <td>2018</td>\n",
       "      <td>124</td>\n",
       "      <td>...</td>\n",
       "      <td>60139.000</td>\n",
       "      <td>15112</td>\n",
       "      <td>8</td>\n",
       "      <td>5</td>\n",
       "      <td>30236.360</td>\n",
       "      <td>13407.360</td>\n",
       "      <td>2014-08</td>\n",
       "      <td>2018-05</td>\n",
       "      <td>2484.040</td>\n",
       "      <td>17</td>\n",
       "    </tr>\n",
       "    <tr>\n",
       "      <th>11101</th>\n",
       "      <td>11102</td>\n",
       "      <td>White</td>\n",
       "      <td>Female</td>\n",
       "      <td>18298.000</td>\n",
       "      <td>50136.570</td>\n",
       "      <td>49</td>\n",
       "      <td>Electrical Engineering</td>\n",
       "      <td>2012</td>\n",
       "      <td>2017</td>\n",
       "      <td>123</td>\n",
       "      <td>...</td>\n",
       "      <td>43229.000</td>\n",
       "      <td>14453</td>\n",
       "      <td>10</td>\n",
       "      <td>7</td>\n",
       "      <td>51359.723</td>\n",
       "      <td>31838.570</td>\n",
       "      <td>2012-10</td>\n",
       "      <td>2017-07</td>\n",
       "      <td>3797.040</td>\n",
       "      <td>39</td>\n",
       "    </tr>\n",
       "  </tbody>\n",
       "</table>\n",
       "<p>10 rows × 28 columns</p>\n",
       "</div>"
      ],
      "text/plain": [
       "       Unnamed: 0                       race             gender  \\\n",
       "7519         7520                      Other  Other/unspecified   \n",
       "14350       14351                      White               Male   \n",
       "16331       16332                      Other             Female   \n",
       "15188       15189                      Other               Male   \n",
       "5395         5396                      Other               Male   \n",
       "15880       15881  Asian or Pacific Islander  Other/unspecified   \n",
       "4078         4079                      White             Female   \n",
       "9301         9302                      Other             Female   \n",
       "14151       14152                      White             Female   \n",
       "11101       11102                      White             Female   \n",
       "\n",
       "       earnings_start  earnings_end  age                 program  \\\n",
       "7519        40559.000     78333.450   39  Electrical Engineering   \n",
       "14350       31459.000           nan   26              Philosophy   \n",
       "16331       26273.000     61614.960   42              Philosophy   \n",
       "15188       36459.000     87031.000   48               Economics   \n",
       "5395        27578.000     49377.600   35              Philosophy   \n",
       "15880       19702.000     23064.750   37                 Biology   \n",
       "4078        23642.000     36767.060   35             Art History   \n",
       "9301        34973.000     78386.660   35  Electrical Engineering   \n",
       "14151       16829.000     30236.360   38       French Literature   \n",
       "11101       18298.000     50136.570   49  Electrical Engineering   \n",
       "\n",
       "       program_start  program_end  education_level  ...       Zip     id  \\\n",
       "7519            2014         2020               92  ... 33126.000  16243   \n",
       "14350           2013         2016              124  ... 94030.000   9468   \n",
       "16331           2015         2019              125  ... 45237.000   7939   \n",
       "15188           2010         2015              125  ...       nan   6094   \n",
       "5395            2013         2017               73  ... 75090.000   5251   \n",
       "15880           2012         2012              125  ...       nan  15618   \n",
       "4078            2018         2020               73  ... 81230.000  16015   \n",
       "9301            2013         2016              111  ... 44131.000   6860   \n",
       "14151           2014         2018              124  ... 60139.000  15112   \n",
       "11101           2012         2017              123  ... 43229.000  14453   \n",
       "\n",
       "       start_month  end_month earnings_end_adjusted earnings_change  \\\n",
       "7519             8          7                   nan       37774.450   \n",
       "14350            8          7                   nan             nan   \n",
       "16331            9          7                   nan       35341.960   \n",
       "15188           10          6             92208.633       50572.000   \n",
       "5395            10          6             50582.237       21799.600   \n",
       "15880            9          6             25226.230        3362.750   \n",
       "4078             8          5                   nan       13125.060   \n",
       "9301             9          7             82016.208       43413.660   \n",
       "14151            8          5             30236.360       13407.360   \n",
       "11101           10          7             51359.723       31838.570   \n",
       "\n",
       "      year_month_entry year_month_exit  macro_wage_change  state_fips  \n",
       "7519           2014-08         2020-07                nan          12  \n",
       "14350          2013-08         2016-07           3516.240          06  \n",
       "16331          2015-09         2019-07           3965.000          39  \n",
       "15188          2010-10         2015-06                nan         nan  \n",
       "5395           2013-10         2017-06           3437.720          48  \n",
       "15880          2012-09         2012-06                nan         nan  \n",
       "4078           2018-08         2020-05                nan          08  \n",
       "9301           2013-09         2016-07           1385.800          39  \n",
       "14151          2014-08         2018-05           2484.040          17  \n",
       "11101          2012-10         2017-07           3797.040          39  \n",
       "\n",
       "[10 rows x 28 columns]"
      ]
     },
     "execution_count": 36,
     "metadata": {},
     "output_type": "execute_result"
    }
   ],
   "source": [
    "data.sample(10)"
   ]
  },
  {
   "cell_type": "code",
   "execution_count": 37,
   "metadata": {},
   "outputs": [],
   "source": [
    "data['trend_adjusted_change'] = data['earnings_change'] - data['macro_wage_change']"
   ]
  },
  {
   "cell_type": "code",
   "execution_count": 38,
   "metadata": {},
   "outputs": [
    {
     "data": {
      "text/plain": [
       "<matplotlib.axes._subplots.AxesSubplot at 0x7fc85bba22d0>"
      ]
     },
     "execution_count": 38,
     "metadata": {},
     "output_type": "execute_result"
    },
    {
     "data": {
      "image/png": "[encoded data removed]",
      "text/plain": [
       "<Figure size 800x400 with 1 Axes>"
      ]
     },
     "metadata": {
      "needs_background": "light"
     },
     "output_type": "display_data"
    }
   ],
   "source": [
    "# ignore this ugly cod\n",
    "original_summary = utilities.multiple_describe(data, 'program', 'earnings_change')\n",
    "adjusted_summary = utilities.multiple_describe(data, 'program', 'trend_adjusted_change')\n",
    "original_summary['calculation'] = \"original\"\n",
    "adjusted_summary['calculation'] = \"adjusted\"\n",
    "\n",
    "sns.barplot(x=\"mean\", y=\"program\", hue=\"calculation\", data=pd.concat([original_summary, adjusted_summary]))"
   ]
  },
  {
   "cell_type": "markdown",
   "metadata": {},
   "source": [
    "__Calculate earnings premium - VERY fancy way__"
   ]
  },
  {
   "cell_type": "code",
   "execution_count": 39,
   "metadata": {},
   "outputs": [
    {
     "name": "stderr",
     "output_type": "stream",
     "text": [
      "/Users/mattlerner/miniconda3/lib/python3.7/site-packages/pandas/core/indexing.py:670: SettingWithCopyWarning: \n",
      "A value is trying to be set on a copy of a slice from a DataFrame\n",
      "\n",
      "See the caveats in the documentation: https://pandas.pydata.org/pandas-docs/stable/user_guide/indexing.html#returning-a-view-versus-a-copy\n",
      "  iloc._setitem_with_indexer(indexer, value)\n"
     ]
    }
   ],
   "source": [
    "premium = metrics.Earnings_Premium(data, 'state_fips', 'education_level', 'earnings_start', 'earnings_end', 'program_start', 'program_end', 'age')"
   ]
  },
  {
   "cell_type": "code",
   "execution_count": 40,
   "metadata": {},
   "outputs": [],
   "source": [
    "data['predicted_wage'] = premium.predicted_wage\n",
    "data['earnings_premium'] = premium.full_premium"
   ]
  },
  {
   "cell_type": "code",
   "execution_count": 42,
   "metadata": {},
   "outputs": [
    {
     "data": {
      "text/html": [
       "<div>\n",
       "<style scoped>\n",
       "    .dataframe tbody tr th:only-of-type {\n",
       "        vertical-align: middle;\n",
       "    }\n",
       "\n",
       "    .dataframe tbody tr th {\n",
       "        vertical-align: top;\n",
       "    }\n",
       "\n",
       "    .dataframe thead th {\n",
       "        text-align: right;\n",
       "    }\n",
       "</style>\n",
       "<table border=\"1\" class=\"dataframe\">\n",
       "  <thead>\n",
       "    <tr style=\"text-align: right;\">\n",
       "      <th></th>\n",
       "      <th>Unnamed: 0</th>\n",
       "      <th>race</th>\n",
       "      <th>gender</th>\n",
       "      <th>earnings_start</th>\n",
       "      <th>earnings_end</th>\n",
       "      <th>age</th>\n",
       "      <th>program</th>\n",
       "      <th>program_start</th>\n",
       "      <th>program_end</th>\n",
       "      <th>education_level</th>\n",
       "      <th>...</th>\n",
       "      <th>end_month</th>\n",
       "      <th>earnings_end_adjusted</th>\n",
       "      <th>earnings_change</th>\n",
       "      <th>year_month_entry</th>\n",
       "      <th>year_month_exit</th>\n",
       "      <th>macro_wage_change</th>\n",
       "      <th>state_fips</th>\n",
       "      <th>trend_adjusted_change</th>\n",
       "      <th>predicted_wage</th>\n",
       "      <th>earnings_premium</th>\n",
       "    </tr>\n",
       "  </thead>\n",
       "  <tbody>\n",
       "    <tr>\n",
       "      <th>432</th>\n",
       "      <td>433</td>\n",
       "      <td>Other</td>\n",
       "      <td>Female</td>\n",
       "      <td>29091.000</td>\n",
       "      <td>48112.020</td>\n",
       "      <td>18</td>\n",
       "      <td>Art History</td>\n",
       "      <td>2012</td>\n",
       "      <td>2013</td>\n",
       "      <td>0</td>\n",
       "      <td>...</td>\n",
       "      <td>6</td>\n",
       "      <td>51860.509</td>\n",
       "      <td>19021.020</td>\n",
       "      <td>2012-08</td>\n",
       "      <td>2013-06</td>\n",
       "      <td>nan</td>\n",
       "      <td>nan</td>\n",
       "      <td>nan</td>\n",
       "      <td>32782.357</td>\n",
       "      <td>15329.663</td>\n",
       "    </tr>\n",
       "    <tr>\n",
       "      <th>7003</th>\n",
       "      <td>7004</td>\n",
       "      <td>White</td>\n",
       "      <td>Other/unspecified</td>\n",
       "      <td>27748.000</td>\n",
       "      <td>23234.750</td>\n",
       "      <td>18</td>\n",
       "      <td>French Literature</td>\n",
       "      <td>2012</td>\n",
       "      <td>2014</td>\n",
       "      <td>81</td>\n",
       "      <td>...</td>\n",
       "      <td>7</td>\n",
       "      <td>24646.848</td>\n",
       "      <td>-4513.250</td>\n",
       "      <td>2012-10</td>\n",
       "      <td>2014-07</td>\n",
       "      <td>594.880</td>\n",
       "      <td>01</td>\n",
       "      <td>-5108.130</td>\n",
       "      <td>34419.608</td>\n",
       "      <td>-11184.858</td>\n",
       "    </tr>\n",
       "    <tr>\n",
       "      <th>5914</th>\n",
       "      <td>5915</td>\n",
       "      <td>Asian or Pacific Islander</td>\n",
       "      <td>Female</td>\n",
       "      <td>27355.000</td>\n",
       "      <td>49672.920</td>\n",
       "      <td>28</td>\n",
       "      <td>Art History</td>\n",
       "      <td>2014</td>\n",
       "      <td>2019</td>\n",
       "      <td>81</td>\n",
       "      <td>...</td>\n",
       "      <td>6</td>\n",
       "      <td>nan</td>\n",
       "      <td>22317.920</td>\n",
       "      <td>2014-09</td>\n",
       "      <td>2019-06</td>\n",
       "      <td>7450.560</td>\n",
       "      <td>25</td>\n",
       "      <td>14867.360</td>\n",
       "      <td>39159.723</td>\n",
       "      <td>10513.197</td>\n",
       "    </tr>\n",
       "    <tr>\n",
       "      <th>1413</th>\n",
       "      <td>1414</td>\n",
       "      <td>White</td>\n",
       "      <td>Female</td>\n",
       "      <td>nan</td>\n",
       "      <td>22254.540</td>\n",
       "      <td>37</td>\n",
       "      <td>French Literature</td>\n",
       "      <td>2017</td>\n",
       "      <td>2020</td>\n",
       "      <td>0</td>\n",
       "      <td>...</td>\n",
       "      <td>6</td>\n",
       "      <td>nan</td>\n",
       "      <td>nan</td>\n",
       "      <td>2017-10</td>\n",
       "      <td>2020-06</td>\n",
       "      <td>nan</td>\n",
       "      <td>22</td>\n",
       "      <td>nan</td>\n",
       "      <td>nan</td>\n",
       "      <td>nan</td>\n",
       "    </tr>\n",
       "    <tr>\n",
       "      <th>15550</th>\n",
       "      <td>15551</td>\n",
       "      <td>White</td>\n",
       "      <td>Other/unspecified</td>\n",
       "      <td>32524.000</td>\n",
       "      <td>28254.000</td>\n",
       "      <td>18</td>\n",
       "      <td>Anthropology</td>\n",
       "      <td>2015</td>\n",
       "      <td>2017</td>\n",
       "      <td>125</td>\n",
       "      <td>...</td>\n",
       "      <td>5</td>\n",
       "      <td>28943.296</td>\n",
       "      <td>-4270.000</td>\n",
       "      <td>2015-10</td>\n",
       "      <td>2017-05</td>\n",
       "      <td>3141.840</td>\n",
       "      <td>27</td>\n",
       "      <td>-7411.840</td>\n",
       "      <td>39498.282</td>\n",
       "      <td>-11244.282</td>\n",
       "    </tr>\n",
       "  </tbody>\n",
       "</table>\n",
       "<p>5 rows × 31 columns</p>\n",
       "</div>"
      ],
      "text/plain": [
       "       Unnamed: 0                       race             gender  \\\n",
       "432           433                      Other             Female   \n",
       "7003         7004                      White  Other/unspecified   \n",
       "5914         5915  Asian or Pacific Islander             Female   \n",
       "1413         1414                      White             Female   \n",
       "15550       15551                      White  Other/unspecified   \n",
       "\n",
       "       earnings_start  earnings_end  age            program  program_start  \\\n",
       "432         29091.000     48112.020   18        Art History           2012   \n",
       "7003        27748.000     23234.750   18  French Literature           2012   \n",
       "5914        27355.000     49672.920   28        Art History           2014   \n",
       "1413              nan     22254.540   37  French Literature           2017   \n",
       "15550       32524.000     28254.000   18       Anthropology           2015   \n",
       "\n",
       "       program_end  education_level  ...  end_month  earnings_end_adjusted  \\\n",
       "432           2013                0  ...          6              51860.509   \n",
       "7003          2014               81  ...          7              24646.848   \n",
       "5914          2019               81  ...          6                    nan   \n",
       "1413          2020                0  ...          6                    nan   \n",
       "15550         2017              125  ...          5              28943.296   \n",
       "\n",
       "       earnings_change  year_month_entry year_month_exit macro_wage_change  \\\n",
       "432          19021.020           2012-08         2013-06               nan   \n",
       "7003         -4513.250           2012-10         2014-07           594.880   \n",
       "5914         22317.920           2014-09         2019-06          7450.560   \n",
       "1413               nan           2017-10         2020-06               nan   \n",
       "15550        -4270.000           2015-10         2017-05          3141.840   \n",
       "\n",
       "      state_fips trend_adjusted_change  predicted_wage  earnings_premium  \n",
       "432          nan                   nan       32782.357         15329.663  \n",
       "7003          01             -5108.130       34419.608        -11184.858  \n",
       "5914          25             14867.360       39159.723         10513.197  \n",
       "1413          22                   nan             nan               nan  \n",
       "15550         27             -7411.840       39498.282        -11244.282  \n",
       "\n",
       "[5 rows x 31 columns]"
      ]
     },
     "execution_count": 42,
     "metadata": {},
     "output_type": "execute_result"
    }
   ],
   "source": [
    "data.sample(5)"
   ]
  },
  {
   "cell_type": "code",
   "execution_count": 43,
   "metadata": {},
   "outputs": [
    {
     "data": {
      "text/plain": [
       "<matplotlib.axes._subplots.AxesSubplot at 0x7fc85bfee350>"
      ]
     },
     "execution_count": 43,
     "metadata": {},
     "output_type": "execute_result"
    },
    {
     "data": {
      "image/png": "[encoded data removed]",
      "text/plain": [
       "<Figure size 800x400 with 1 Axes>"
      ]
     },
     "metadata": {
      "needs_background": "light"
     },
     "output_type": "display_data"
    }
   ],
   "source": [
    "# Mean predicted vs actual wage by program\n",
    "original_summary = utilities.multiple_describe(data, 'program', 'earnings_end')\n",
    "adjusted_summary = utilities.multiple_describe(data, 'program', 'predicted_wage')\n",
    "original_summary['value'] = \"actual\"\n",
    "adjusted_summary['value'] = \"predicted\"\n",
    "\n",
    "sns.barplot(x=\"mean\", y=\"program\", hue=\"value\", data=pd.concat([original_summary, adjusted_summary]))"
   ]
  },
  {
   "cell_type": "code",
   "execution_count": 44,
   "metadata": {},
   "outputs": [
    {
     "data": {
      "text/plain": [
       "<matplotlib.axes._subplots.AxesSubplot at 0x7fc85bba09d0>"
      ]
     },
     "execution_count": 44,
     "metadata": {},
     "output_type": "execute_result"
    },
    {
     "data": {
      "image/png": "[encoded data removed]",
      "text/plain": [
       "<Figure size 800x400 with 1 Axes>"
      ]
     },
     "metadata": {
      "needs_background": "light"
     },
     "output_type": "display_data"
    }
   ],
   "source": [
    "sns.barplot(x=\"earnings_premium\", y=\"program\", data=data, estimator=np.mean)"
   ]
  },
  {
   "cell_type": "markdown",
   "metadata": {},
   "source": [
    "__Calculate employment premium__"
   ]
  },
  {
   "cell_type": "code",
   "execution_count": 45,
   "metadata": {},
   "outputs": [
    {
     "name": "stderr",
     "output_type": "stream",
     "text": [
      "/Users/mattlerner/roi/sbir-roi/roi/utilities.py:135: UserWarning: State codes, though integers, should be passed as strings. Something else was passed. Attempting to coerce to string.\n",
      "  warnings.warn(\"State codes, though integers, should be passed as strings. Something else was passed. Attempting to coerce to string.\")\n"
     ]
    }
   ],
   "source": [
    "employment = metrics.Employment_Likelihood(data, 'program', 'year_month_entry', 'year_month_exit', 'employed_at_end', 'employed_at_start', 'state')"
   ]
  },
  {
   "cell_type": "code",
   "execution_count": 46,
   "metadata": {},
   "outputs": [],
   "source": [
    "premium = employment.employment_premium"
   ]
  },
  {
   "cell_type": "code",
   "execution_count": 47,
   "metadata": {},
   "outputs": [
    {
     "data": {
      "text/plain": [
       "Text(0.5, 1.0, 'Average employment premium')"
      ]
     },
     "execution_count": 47,
     "metadata": {},
     "output_type": "execute_result"
    },
    {
     "data": {
      "image/png": "[encoded data removed]",
      "text/plain": [
       "<Figure size 800x400 with 1 Axes>"
      ]
     },
     "metadata": {
      "needs_background": "light"
     },
     "output_type": "display_data"
    }
   ],
   "source": [
    "sns.barplot(x=\"mean_employment_premium\", y=\"program\", data=premium).set_title(\"Average employment premium\")"
   ]
  },
  {
   "cell_type": "markdown",
   "metadata": {},
   "source": [
    "__Calculate time to completion and completion rate statistics__"
   ]
  },
  {
   "cell_type": "code",
   "execution_count": 48,
   "metadata": {},
   "outputs": [],
   "source": [
    "completion = metrics.Completion(data, 'program', 'program_start', 'program_end', 'completer')"
   ]
  },
  {
   "cell_type": "code",
   "execution_count": 49,
   "metadata": {},
   "outputs": [
    {
     "data": {
      "text/html": [
       "<div>\n",
       "<style scoped>\n",
       "    .dataframe tbody tr th:only-of-type {\n",
       "        vertical-align: middle;\n",
       "    }\n",
       "\n",
       "    .dataframe tbody tr th {\n",
       "        vertical-align: top;\n",
       "    }\n",
       "\n",
       "    .dataframe thead th {\n",
       "        text-align: right;\n",
       "    }\n",
       "</style>\n",
       "<table border=\"1\" class=\"dataframe\">\n",
       "  <thead>\n",
       "    <tr style=\"text-align: right;\">\n",
       "      <th></th>\n",
       "      <th>program</th>\n",
       "      <th>n</th>\n",
       "      <th>mean</th>\n",
       "      <th>median</th>\n",
       "      <th>sd</th>\n",
       "      <th>min</th>\n",
       "      <th>max</th>\n",
       "    </tr>\n",
       "  </thead>\n",
       "  <tbody>\n",
       "    <tr>\n",
       "      <th>0</th>\n",
       "      <td>Anthropology</td>\n",
       "      <td>2288</td>\n",
       "      <td>3.101</td>\n",
       "      <td>3</td>\n",
       "      <td>1.764</td>\n",
       "      <td>-1</td>\n",
       "      <td>10</td>\n",
       "    </tr>\n",
       "    <tr>\n",
       "      <th>1</th>\n",
       "      <td>Art History</td>\n",
       "      <td>2370</td>\n",
       "      <td>3.361</td>\n",
       "      <td>3</td>\n",
       "      <td>1.711</td>\n",
       "      <td>0</td>\n",
       "      <td>10</td>\n",
       "    </tr>\n",
       "    <tr>\n",
       "      <th>2</th>\n",
       "      <td>Biology</td>\n",
       "      <td>2404</td>\n",
       "      <td>3.192</td>\n",
       "      <td>3</td>\n",
       "      <td>1.725</td>\n",
       "      <td>-1</td>\n",
       "      <td>11</td>\n",
       "    </tr>\n",
       "    <tr>\n",
       "      <th>3</th>\n",
       "      <td>Economics</td>\n",
       "      <td>2327</td>\n",
       "      <td>3.713</td>\n",
       "      <td>3</td>\n",
       "      <td>1.792</td>\n",
       "      <td>0</td>\n",
       "      <td>12</td>\n",
       "    </tr>\n",
       "    <tr>\n",
       "      <th>4</th>\n",
       "      <td>Electrical Engineering</td>\n",
       "      <td>2386</td>\n",
       "      <td>4.009</td>\n",
       "      <td>4</td>\n",
       "      <td>1.732</td>\n",
       "      <td>0</td>\n",
       "      <td>11</td>\n",
       "    </tr>\n",
       "    <tr>\n",
       "      <th>5</th>\n",
       "      <td>French Literature</td>\n",
       "      <td>2339</td>\n",
       "      <td>3.041</td>\n",
       "      <td>3</td>\n",
       "      <td>1.709</td>\n",
       "      <td>-1</td>\n",
       "      <td>10</td>\n",
       "    </tr>\n",
       "    <tr>\n",
       "      <th>6</th>\n",
       "      <td>Philosophy</td>\n",
       "      <td>2297</td>\n",
       "      <td>3.527</td>\n",
       "      <td>3</td>\n",
       "      <td>1.713</td>\n",
       "      <td>0</td>\n",
       "      <td>11</td>\n",
       "    </tr>\n",
       "  </tbody>\n",
       "</table>\n",
       "</div>"
      ],
      "text/plain": [
       "                  program     n  mean  median    sd  min  max\n",
       "0            Anthropology  2288 3.101       3 1.764   -1   10\n",
       "1             Art History  2370 3.361       3 1.711    0   10\n",
       "2                 Biology  2404 3.192       3 1.725   -1   11\n",
       "3               Economics  2327 3.713       3 1.792    0   12\n",
       "4  Electrical Engineering  2386 4.009       4 1.732    0   11\n",
       "5       French Literature  2339 3.041       3 1.709   -1   10\n",
       "6              Philosophy  2297 3.527       3 1.713    0   11"
      ]
     },
     "execution_count": 49,
     "metadata": {},
     "output_type": "execute_result"
    }
   ],
   "source": [
    "completion_time = completion.time_to_completion\n",
    "completion_time"
   ]
  },
  {
   "cell_type": "code",
   "execution_count": 50,
   "metadata": {},
   "outputs": [
    {
     "data": {
      "text/html": [
       "<div>\n",
       "<style scoped>\n",
       "    .dataframe tbody tr th:only-of-type {\n",
       "        vertical-align: middle;\n",
       "    }\n",
       "\n",
       "    .dataframe tbody tr th {\n",
       "        vertical-align: top;\n",
       "    }\n",
       "\n",
       "    .dataframe thead th {\n",
       "        text-align: right;\n",
       "    }\n",
       "</style>\n",
       "<table border=\"1\" class=\"dataframe\">\n",
       "  <thead>\n",
       "    <tr style=\"text-align: right;\">\n",
       "      <th></th>\n",
       "      <th>program</th>\n",
       "      <th>n</th>\n",
       "      <th>mean</th>\n",
       "      <th>median</th>\n",
       "      <th>sd</th>\n",
       "      <th>min</th>\n",
       "      <th>max</th>\n",
       "    </tr>\n",
       "  </thead>\n",
       "  <tbody>\n",
       "    <tr>\n",
       "      <th>0</th>\n",
       "      <td>Anthropology</td>\n",
       "      <td>2288</td>\n",
       "      <td>0.669</td>\n",
       "      <td>1</td>\n",
       "      <td>0.471</td>\n",
       "      <td>0</td>\n",
       "      <td>1</td>\n",
       "    </tr>\n",
       "    <tr>\n",
       "      <th>1</th>\n",
       "      <td>Art History</td>\n",
       "      <td>2370</td>\n",
       "      <td>0.682</td>\n",
       "      <td>1</td>\n",
       "      <td>0.466</td>\n",
       "      <td>0</td>\n",
       "      <td>1</td>\n",
       "    </tr>\n",
       "    <tr>\n",
       "      <th>2</th>\n",
       "      <td>Biology</td>\n",
       "      <td>2404</td>\n",
       "      <td>0.671</td>\n",
       "      <td>1</td>\n",
       "      <td>0.470</td>\n",
       "      <td>0</td>\n",
       "      <td>1</td>\n",
       "    </tr>\n",
       "    <tr>\n",
       "      <th>3</th>\n",
       "      <td>Economics</td>\n",
       "      <td>2327</td>\n",
       "      <td>0.634</td>\n",
       "      <td>1</td>\n",
       "      <td>0.482</td>\n",
       "      <td>0</td>\n",
       "      <td>1</td>\n",
       "    </tr>\n",
       "    <tr>\n",
       "      <th>4</th>\n",
       "      <td>Electrical Engineering</td>\n",
       "      <td>2386</td>\n",
       "      <td>0.592</td>\n",
       "      <td>1</td>\n",
       "      <td>0.492</td>\n",
       "      <td>0</td>\n",
       "      <td>1</td>\n",
       "    </tr>\n",
       "    <tr>\n",
       "      <th>5</th>\n",
       "      <td>French Literature</td>\n",
       "      <td>2339</td>\n",
       "      <td>0.702</td>\n",
       "      <td>1</td>\n",
       "      <td>0.458</td>\n",
       "      <td>0</td>\n",
       "      <td>1</td>\n",
       "    </tr>\n",
       "    <tr>\n",
       "      <th>6</th>\n",
       "      <td>Philosophy</td>\n",
       "      <td>2297</td>\n",
       "      <td>0.654</td>\n",
       "      <td>1</td>\n",
       "      <td>0.476</td>\n",
       "      <td>0</td>\n",
       "      <td>1</td>\n",
       "    </tr>\n",
       "  </tbody>\n",
       "</table>\n",
       "</div>"
      ],
      "text/plain": [
       "                  program     n  mean  median    sd  min  max\n",
       "0            Anthropology  2288 0.669       1 0.471    0    1\n",
       "1             Art History  2370 0.682       1 0.466    0    1\n",
       "2                 Biology  2404 0.671       1 0.470    0    1\n",
       "3               Economics  2327 0.634       1 0.482    0    1\n",
       "4  Electrical Engineering  2386 0.592       1 0.492    0    1\n",
       "5       French Literature  2339 0.702       1 0.458    0    1\n",
       "6              Philosophy  2297 0.654       1 0.476    0    1"
      ]
     },
     "execution_count": 50,
     "metadata": {},
     "output_type": "execute_result"
    }
   ],
   "source": [
    "completion_rate = completion.completion_rates\n",
    "completion_rate"
   ]
  },
  {
   "cell_type": "code",
   "execution_count": 51,
   "metadata": {},
   "outputs": [
    {
     "data": {
      "text/plain": [
       "Text(0.5, 1.0, 'Average time to complete')"
      ]
     },
     "execution_count": 51,
     "metadata": {},
     "output_type": "execute_result"
    },
    {
     "data": {
      "image/png": "[encoded data removed]",
      "text/plain": [
       "<Figure size 800x400 with 1 Axes>"
      ]
     },
     "metadata": {
      "needs_background": "light"
     },
     "output_type": "display_data"
    }
   ],
   "source": [
    "sns.barplot(x=\"mean\", y=\"program\", data=completion_time).set_title(\"Average time to complete\")"
   ]
  },
  {
   "cell_type": "code",
   "execution_count": 52,
   "metadata": {},
   "outputs": [
    {
     "data": {
      "text/plain": [
       "Text(0.5, 1.0, 'Average completion rate')"
      ]
     },
     "execution_count": 52,
     "metadata": {},
     "output_type": "execute_result"
    },
    {
     "data": {
      "image/png": "[encoded data removed]",
      "text/plain": [
       "<Figure size 800x400 with 1 Axes>"
      ]
     },
     "metadata": {
      "needs_background": "light"
     },
     "output_type": "display_data"
    }
   ],
   "source": [
    "sns.barplot(x=\"mean\", y=\"program\", data=completion_rate).set_title(\"Average completion rate\")"
   ]
  },
  {
   "cell_type": "markdown",
   "metadata": {},
   "source": [
    "__Try out loan amounts__"
   ]
  },
  {
   "cell_type": "code",
   "execution_count": 53,
   "metadata": {},
   "outputs": [],
   "source": [
    "data_programs = data.merge(programs, left_on=\"program\", right_on=\"programs\", how=\"left\")\n",
    "data_programs['total_cost'] = data_programs['cost_per_semester'] * data_programs['length']\n",
    "data_programs['period_payment'] = cost.Compound_Interest_Loan.calculate_period_payment(data_programs['total_cost'], 0.05, 10)"
   ]
  },
  {
   "cell_type": "code",
   "execution_count": 54,
   "metadata": {},
   "outputs": [
    {
     "data": {
      "text/html": [
       "<div>\n",
       "<style scoped>\n",
       "    .dataframe tbody tr th:only-of-type {\n",
       "        vertical-align: middle;\n",
       "    }\n",
       "\n",
       "    .dataframe tbody tr th {\n",
       "        vertical-align: top;\n",
       "    }\n",
       "\n",
       "    .dataframe thead th {\n",
       "        text-align: right;\n",
       "    }\n",
       "</style>\n",
       "<table border=\"1\" class=\"dataframe\">\n",
       "  <thead>\n",
       "    <tr style=\"text-align: right;\">\n",
       "      <th></th>\n",
       "      <th>Unnamed: 0_x</th>\n",
       "      <th>race</th>\n",
       "      <th>gender</th>\n",
       "      <th>earnings_start</th>\n",
       "      <th>earnings_end</th>\n",
       "      <th>age</th>\n",
       "      <th>program</th>\n",
       "      <th>program_start</th>\n",
       "      <th>program_end</th>\n",
       "      <th>education_level</th>\n",
       "      <th>...</th>\n",
       "      <th>empchange</th>\n",
       "      <th>emp_premium</th>\n",
       "      <th>time_to_completion</th>\n",
       "      <th>Unnamed: 0_y</th>\n",
       "      <th>programs</th>\n",
       "      <th>degree</th>\n",
       "      <th>length</th>\n",
       "      <th>cost_per_semester</th>\n",
       "      <th>total_cost</th>\n",
       "      <th>period_payment</th>\n",
       "    </tr>\n",
       "  </thead>\n",
       "  <tbody>\n",
       "    <tr>\n",
       "      <th>3667</th>\n",
       "      <td>3668</td>\n",
       "      <td>Black</td>\n",
       "      <td>Other/unspecified</td>\n",
       "      <td>29133.000</td>\n",
       "      <td>36904.620</td>\n",
       "      <td>18</td>\n",
       "      <td>Philosophy</td>\n",
       "      <td>2016</td>\n",
       "      <td>2021</td>\n",
       "      <td>60</td>\n",
       "      <td>...</td>\n",
       "      <td>0</td>\n",
       "      <td>nan</td>\n",
       "      <td>5</td>\n",
       "      <td>7</td>\n",
       "      <td>Philosophy</td>\n",
       "      <td>BA</td>\n",
       "      <td>8</td>\n",
       "      <td>8000</td>\n",
       "      <td>64000</td>\n",
       "      <td>8288.293</td>\n",
       "    </tr>\n",
       "    <tr>\n",
       "      <th>6494</th>\n",
       "      <td>6495</td>\n",
       "      <td>White</td>\n",
       "      <td>Other/unspecified</td>\n",
       "      <td>28152.000</td>\n",
       "      <td>24118.920</td>\n",
       "      <td>31</td>\n",
       "      <td>Anthropology</td>\n",
       "      <td>2014</td>\n",
       "      <td>2020</td>\n",
       "      <td>81</td>\n",
       "      <td>...</td>\n",
       "      <td>0</td>\n",
       "      <td>nan</td>\n",
       "      <td>6</td>\n",
       "      <td>4</td>\n",
       "      <td>Anthropology</td>\n",
       "      <td>BA</td>\n",
       "      <td>4</td>\n",
       "      <td>4500</td>\n",
       "      <td>18000</td>\n",
       "      <td>2331.082</td>\n",
       "    </tr>\n",
       "    <tr>\n",
       "      <th>44</th>\n",
       "      <td>45</td>\n",
       "      <td>Asian or Pacific Islander</td>\n",
       "      <td>Male</td>\n",
       "      <td>40937.000</td>\n",
       "      <td>99308.900</td>\n",
       "      <td>18</td>\n",
       "      <td>Electrical Engineering</td>\n",
       "      <td>2015</td>\n",
       "      <td>2017</td>\n",
       "      <td>0</td>\n",
       "      <td>...</td>\n",
       "      <td>0</td>\n",
       "      <td>0.010</td>\n",
       "      <td>2</td>\n",
       "      <td>1</td>\n",
       "      <td>Electrical Engineering</td>\n",
       "      <td>BA</td>\n",
       "      <td>8</td>\n",
       "      <td>5000</td>\n",
       "      <td>40000</td>\n",
       "      <td>5180.183</td>\n",
       "    </tr>\n",
       "    <tr>\n",
       "      <th>8339</th>\n",
       "      <td>8340</td>\n",
       "      <td>Black</td>\n",
       "      <td>Other/unspecified</td>\n",
       "      <td>31313.000</td>\n",
       "      <td>26278.600</td>\n",
       "      <td>18</td>\n",
       "      <td>Anthropology</td>\n",
       "      <td>2013</td>\n",
       "      <td>2014</td>\n",
       "      <td>92</td>\n",
       "      <td>...</td>\n",
       "      <td>0</td>\n",
       "      <td>0.014</td>\n",
       "      <td>1</td>\n",
       "      <td>4</td>\n",
       "      <td>Anthropology</td>\n",
       "      <td>BA</td>\n",
       "      <td>4</td>\n",
       "      <td>4500</td>\n",
       "      <td>18000</td>\n",
       "      <td>2331.082</td>\n",
       "    </tr>\n",
       "    <tr>\n",
       "      <th>357</th>\n",
       "      <td>358</td>\n",
       "      <td>Other</td>\n",
       "      <td>Male</td>\n",
       "      <td>41596.000</td>\n",
       "      <td>60493.400</td>\n",
       "      <td>42</td>\n",
       "      <td>Art History</td>\n",
       "      <td>2015</td>\n",
       "      <td>2017</td>\n",
       "      <td>0</td>\n",
       "      <td>...</td>\n",
       "      <td>0</td>\n",
       "      <td>0.010</td>\n",
       "      <td>2</td>\n",
       "      <td>2</td>\n",
       "      <td>Art History</td>\n",
       "      <td>BA</td>\n",
       "      <td>8</td>\n",
       "      <td>7000</td>\n",
       "      <td>56000</td>\n",
       "      <td>7252.256</td>\n",
       "    </tr>\n",
       "    <tr>\n",
       "      <th>8387</th>\n",
       "      <td>8388</td>\n",
       "      <td>Other</td>\n",
       "      <td>Other/unspecified</td>\n",
       "      <td>nan</td>\n",
       "      <td>35009.120</td>\n",
       "      <td>37</td>\n",
       "      <td>Anthropology</td>\n",
       "      <td>2012</td>\n",
       "      <td>2019</td>\n",
       "      <td>92</td>\n",
       "      <td>...</td>\n",
       "      <td>0</td>\n",
       "      <td>0.043</td>\n",
       "      <td>7</td>\n",
       "      <td>4</td>\n",
       "      <td>Anthropology</td>\n",
       "      <td>BA</td>\n",
       "      <td>4</td>\n",
       "      <td>4500</td>\n",
       "      <td>18000</td>\n",
       "      <td>2331.082</td>\n",
       "    </tr>\n",
       "    <tr>\n",
       "      <th>1002</th>\n",
       "      <td>1003</td>\n",
       "      <td>Other</td>\n",
       "      <td>Female</td>\n",
       "      <td>39645.000</td>\n",
       "      <td>46299.440</td>\n",
       "      <td>36</td>\n",
       "      <td>Anthropology</td>\n",
       "      <td>2015</td>\n",
       "      <td>2019</td>\n",
       "      <td>0</td>\n",
       "      <td>...</td>\n",
       "      <td>0</td>\n",
       "      <td>0.004</td>\n",
       "      <td>4</td>\n",
       "      <td>4</td>\n",
       "      <td>Anthropology</td>\n",
       "      <td>BA</td>\n",
       "      <td>4</td>\n",
       "      <td>4500</td>\n",
       "      <td>18000</td>\n",
       "      <td>2331.082</td>\n",
       "    </tr>\n",
       "    <tr>\n",
       "      <th>6536</th>\n",
       "      <td>6537</td>\n",
       "      <td>Other</td>\n",
       "      <td>Other/unspecified</td>\n",
       "      <td>26209.000</td>\n",
       "      <td>23892.480</td>\n",
       "      <td>18</td>\n",
       "      <td>Anthropology</td>\n",
       "      <td>2015</td>\n",
       "      <td>2020</td>\n",
       "      <td>81</td>\n",
       "      <td>...</td>\n",
       "      <td>0</td>\n",
       "      <td>nan</td>\n",
       "      <td>5</td>\n",
       "      <td>4</td>\n",
       "      <td>Anthropology</td>\n",
       "      <td>BA</td>\n",
       "      <td>4</td>\n",
       "      <td>4500</td>\n",
       "      <td>18000</td>\n",
       "      <td>2331.082</td>\n",
       "    </tr>\n",
       "    <tr>\n",
       "      <th>6736</th>\n",
       "      <td>6737</td>\n",
       "      <td>White</td>\n",
       "      <td>Other/unspecified</td>\n",
       "      <td>37173.000</td>\n",
       "      <td>33767.865</td>\n",
       "      <td>24</td>\n",
       "      <td>Biology</td>\n",
       "      <td>2013</td>\n",
       "      <td>2014</td>\n",
       "      <td>81</td>\n",
       "      <td>...</td>\n",
       "      <td>0</td>\n",
       "      <td>0.015</td>\n",
       "      <td>1</td>\n",
       "      <td>5</td>\n",
       "      <td>Biology</td>\n",
       "      <td>AS</td>\n",
       "      <td>3</td>\n",
       "      <td>3000</td>\n",
       "      <td>9000</td>\n",
       "      <td>1165.541</td>\n",
       "    </tr>\n",
       "    <tr>\n",
       "      <th>8180</th>\n",
       "      <td>8181</td>\n",
       "      <td>Black</td>\n",
       "      <td>Male</td>\n",
       "      <td>29574.000</td>\n",
       "      <td>28436.000</td>\n",
       "      <td>18</td>\n",
       "      <td>Anthropology</td>\n",
       "      <td>2018</td>\n",
       "      <td>2019</td>\n",
       "      <td>92</td>\n",
       "      <td>...</td>\n",
       "      <td>0</td>\n",
       "      <td>0.003</td>\n",
       "      <td>1</td>\n",
       "      <td>4</td>\n",
       "      <td>Anthropology</td>\n",
       "      <td>BA</td>\n",
       "      <td>4</td>\n",
       "      <td>4500</td>\n",
       "      <td>18000</td>\n",
       "      <td>2331.082</td>\n",
       "    </tr>\n",
       "  </tbody>\n",
       "</table>\n",
       "<p>10 rows × 41 columns</p>\n",
       "</div>"
      ],
      "text/plain": [
       "      Unnamed: 0_x                       race             gender  \\\n",
       "3667          3668                      Black  Other/unspecified   \n",
       "6494          6495                      White  Other/unspecified   \n",
       "44              45  Asian or Pacific Islander               Male   \n",
       "8339          8340                      Black  Other/unspecified   \n",
       "357            358                      Other               Male   \n",
       "8387          8388                      Other  Other/unspecified   \n",
       "1002          1003                      Other             Female   \n",
       "6536          6537                      Other  Other/unspecified   \n",
       "6736          6737                      White  Other/unspecified   \n",
       "8180          8181                      Black               Male   \n",
       "\n",
       "      earnings_start  earnings_end  age                 program  \\\n",
       "3667       29133.000     36904.620   18              Philosophy   \n",
       "6494       28152.000     24118.920   31            Anthropology   \n",
       "44         40937.000     99308.900   18  Electrical Engineering   \n",
       "8339       31313.000     26278.600   18            Anthropology   \n",
       "357        41596.000     60493.400   42             Art History   \n",
       "8387             nan     35009.120   37            Anthropology   \n",
       "1002       39645.000     46299.440   36            Anthropology   \n",
       "6536       26209.000     23892.480   18            Anthropology   \n",
       "6736       37173.000     33767.865   24                 Biology   \n",
       "8180       29574.000     28436.000   18            Anthropology   \n",
       "\n",
       "      program_start  program_end  education_level  ...  empchange  \\\n",
       "3667           2016         2021               60  ...          0   \n",
       "6494           2014         2020               81  ...          0   \n",
       "44             2015         2017                0  ...          0   \n",
       "8339           2013         2014               92  ...          0   \n",
       "357            2015         2017                0  ...          0   \n",
       "8387           2012         2019               92  ...          0   \n",
       "1002           2015         2019                0  ...          0   \n",
       "6536           2015         2020               81  ...          0   \n",
       "6736           2013         2014               81  ...          0   \n",
       "8180           2018         2019               92  ...          0   \n",
       "\n",
       "      emp_premium  time_to_completion Unnamed: 0_y                programs  \\\n",
       "3667          nan                   5            7              Philosophy   \n",
       "6494          nan                   6            4            Anthropology   \n",
       "44          0.010                   2            1  Electrical Engineering   \n",
       "8339        0.014                   1            4            Anthropology   \n",
       "357         0.010                   2            2             Art History   \n",
       "8387        0.043                   7            4            Anthropology   \n",
       "1002        0.004                   4            4            Anthropology   \n",
       "6536          nan                   5            4            Anthropology   \n",
       "6736        0.015                   1            5                 Biology   \n",
       "8180        0.003                   1            4            Anthropology   \n",
       "\n",
       "     degree length cost_per_semester  total_cost  period_payment  \n",
       "3667     BA      8              8000       64000        8288.293  \n",
       "6494     BA      4              4500       18000        2331.082  \n",
       "44       BA      8              5000       40000        5180.183  \n",
       "8339     BA      4              4500       18000        2331.082  \n",
       "357      BA      8              7000       56000        7252.256  \n",
       "8387     BA      4              4500       18000        2331.082  \n",
       "1002     BA      4              4500       18000        2331.082  \n",
       "6536     BA      4              4500       18000        2331.082  \n",
       "6736     AS      3              3000        9000        1165.541  \n",
       "8180     BA      4              4500       18000        2331.082  \n",
       "\n",
       "[10 rows x 41 columns]"
      ]
     },
     "execution_count": 54,
     "metadata": {},
     "output_type": "execute_result"
    }
   ],
   "source": [
    "data_programs.sample(10)"
   ]
  },
  {
   "cell_type": "code",
   "execution_count": 55,
   "metadata": {},
   "outputs": [],
   "source": [
    "data_programs['premium_with_payments'] = data_programs['earnings_premium'] - data_programs['period_payment']"
   ]
  },
  {
   "cell_type": "code",
   "execution_count": 56,
   "metadata": {},
   "outputs": [],
   "source": [
    "summary_w_payments = utilities.multiple_describe(data_programs, 'program', 'premium_with_payments')"
   ]
  },
  {
   "cell_type": "code",
   "execution_count": 57,
   "metadata": {},
   "outputs": [
    {
     "data": {
      "text/plain": [
       "Text(0.5, 1.0, 'Return including loan payments')"
      ]
     },
     "execution_count": 57,
     "metadata": {},
     "output_type": "execute_result"
    },
    {
     "data": {
      "image/png": "[encoded data removed]",
      "text/plain": [
       "<Figure size 800x400 with 1 Axes>"
      ]
     },
     "metadata": {
      "needs_background": "light"
     },
     "output_type": "display_data"
    }
   ],
   "source": [
    "sns.barplot(x=\"mean\", y=\"program\", data=summary_w_payments).set_title(\"Return including loan payments\")"
   ]
  },
  {
   "cell_type": "markdown",
   "metadata": {},
   "source": [
    "__High school baselines__"
   ]
  },
  {
   "cell_type": "code",
   "execution_count": 58,
   "metadata": {},
   "outputs": [
    {
     "name": "stderr",
     "output_type": "stream",
     "text": [
      "/Users/mattlerner/roi/sbir-roi/roi/utilities.py:135: UserWarning: State codes, though integers, should be passed as strings. Something else was passed. Attempting to coerce to string.\n",
      "  warnings.warn(\"State codes, though integers, should be passed as strings. Something else was passed. Attempting to coerce to string.\")\n"
     ]
    }
   ],
   "source": [
    "cps = surveys.CPS_Ops()"
   ]
  },
  {
   "cell_type": "code",
   "execution_count": 59,
   "metadata": {},
   "outputs": [
    {
     "data": {
      "text/plain": [
       "[15017.630256967966, 21688.246894625805, 34336.28062777556]"
      ]
     },
     "execution_count": 59,
     "metadata": {},
     "output_type": "execute_result"
    }
   ],
   "source": [
    "cps.rudimentary_hs_baseline('08', [1, 5, 10])"
   ]
  },
  {
   "cell_type": "code",
   "execution_count": 66,
   "metadata": {},
   "outputs": [
    {
     "name": "stdout",
     "output_type": "stream",
     "text": [
      "State_To_FIPS_series usually takes a pandas series. Something else was passed. Now trying under assumption that passed object is list or array\n"
     ]
    }
   ],
   "source": [
    "states = ['CA','TX','AK','MS','CO','NY','NJ','PA']\n",
    "fips = utilities.State_To_FIPS_series(states)"
   ]
  },
  {
   "cell_type": "code",
   "execution_count": 67,
   "metadata": {},
   "outputs": [
    {
     "data": {
      "text/plain": [
       "['06', '48', '02', '28', '08', '36', '34', '42']"
      ]
     },
     "execution_count": 67,
     "metadata": {},
     "output_type": "execute_result"
    }
   ],
   "source": [
    "fips"
   ]
  },
  {
   "cell_type": "code",
   "execution_count": 68,
   "metadata": {},
   "outputs": [],
   "source": [
    "baselines = pd.DataFrame([cps.rudimentary_hs_baseline(state, [1, 5, 10]) for state in fips])\n",
    "baselines['state'] = states\n",
    "baselines.columns = ['1','5','10','State']"
   ]
  },
  {
   "cell_type": "code",
   "execution_count": 69,
   "metadata": {},
   "outputs": [],
   "source": [
    "baselines_melted = pd.melt(baselines, id_vars=['State'], var_name=\"year\", value_name=\"earnings\")\n",
    "baselines_melted['year'] = baselines_melted['year'].astype(int)\n",
    "baselines_melted['earnings'] = baselines_melted['earnings'].astype(int)"
   ]
  },
  {
   "cell_type": "code",
   "execution_count": 70,
   "metadata": {},
   "outputs": [
    {
     "data": {
      "text/plain": [
       "<matplotlib.axes._subplots.AxesSubplot at 0x7fc82d9dbf50>"
      ]
     },
     "execution_count": 70,
     "metadata": {},
     "output_type": "execute_result"
    },
    {
     "data": {
      "image/png": "[encoded data removed]",
      "text/plain": [
       "<Figure size 800x400 with 1 Axes>"
      ]
     },
     "metadata": {
      "needs_background": "light"
     },
     "output_type": "display_data"
    }
   ],
   "source": [
    "sns.lineplot(data=baselines_melted, x=\"year\", y=\"earnings\", hue=\"State\")"
   ]
  },
  {
   "cell_type": "markdown",
   "metadata": {},
   "source": [
    "__Completion rate vs earnings premium__"
   ]
  },
  {
   "cell_type": "code",
   "execution_count": 71,
   "metadata": {},
   "outputs": [],
   "source": [
    "merged_rate_premium = completion_rate.merge(premium, on=\"program\")"
   ]
  },
  {
   "cell_type": "code",
   "execution_count": 72,
   "metadata": {},
   "outputs": [
    {
     "data": {
      "text/plain": [
       "[Text(0, 0.5, 'Increased likelihood of employment'),\n",
       " Text(0.5, 0, 'Completion rate'),\n",
       " Text(0.5, 1.0, 'Completion rate vs employment premium')]"
      ]
     },
     "execution_count": 72,
     "metadata": {},
     "output_type": "execute_result"
    },
    {
     "data": {
      "image/png": "[encoded data removed]",
      "text/plain": [
       "<Figure size 800x400 with 1 Axes>"
      ]
     },
     "metadata": {
      "needs_background": "light"
     },
     "output_type": "display_data"
    }
   ],
   "source": [
    "fig, ax = plt.subplots()\n",
    "sns.scatterplot(data=merged_rate_premium, x=\"mean\", y=\"mean_employment_premium\", ax=ax, s=100)\n",
    "ax.set(xlabel='Completion rate', ylabel='Increased likelihood of employment', title='Completion rate vs employment premium')"
   ]
  },
  {
   "cell_type": "code",
   "execution_count": null,
   "metadata": {},
   "outputs": [],
   "source": []
  }
 ],
 "metadata": {
  "kernelspec": {
   "display_name": "Python 3",
   "language": "python",
   "name": "python3"
  },
  "language_info": {
   "codemirror_mode": {
    "name": "ipython",
    "version": 3
   },
   "file_extension": ".py",
   "mimetype": "text/x-python",
   "name": "python",
   "nbconvert_exporter": "python",
   "pygments_lexer": "ipython3",
   "version": "3.7.7"
  }
 },
 "nbformat": 4,
 "nbformat_minor": 4
}
